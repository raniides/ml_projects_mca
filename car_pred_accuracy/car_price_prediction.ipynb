{
 "cells": [
  {
   "cell_type": "code",
   "execution_count": null,
   "id": "e7453aaf-a5b6-4027-9624-2511d39aca3d",
   "metadata": {},
   "outputs": [],
   "source": [
    "import pandas as pd"
   ]
  },
  {
   "cell_type": "code",
   "execution_count": null,
   "id": "ba749376-e07b-4994-b232-b2913b71c258",
   "metadata": {},
   "outputs": [],
   "source": [
    "used_car=pd.read_csv('cardetails_data.csv')"
   ]
  },
  {
   "cell_type": "code",
   "execution_count": null,
   "id": "e1592dcc-4d01-403f-abd8-8339b95fc26b",
   "metadata": {},
   "outputs": [],
   "source": [
    "used_car"
   ]
  },
  {
   "cell_type": "code",
   "execution_count": null,
   "id": "e0be2460-3315-4eb3-bece-52693a443d9a",
   "metadata": {},
   "outputs": [],
   "source": [
    "used_car.head()"
   ]
  },
  {
   "cell_type": "code",
   "execution_count": null,
   "id": "478bc09d-556c-43bb-98c7-1b5d49d70362",
   "metadata": {},
   "outputs": [],
   "source": [
    "used_car #to check how much data we have"
   ]
  },
  {
   "cell_type": "code",
   "execution_count": null,
   "id": "6666d019-5478-49a9-8052-27ae914a6674",
   "metadata": {},
   "outputs": [],
   "source": [
    "used_car.info() #to see type and if there are any null values or not like that "
   ]
  },
  {
   "cell_type": "code",
   "execution_count": null,
   "id": "7404968d-a436-4734-a0f2-2d210264cdfa",
   "metadata": {},
   "outputs": [],
   "source": [
    "#Now check with unique if the date is proper or not\n",
    "#check if any column include nan/null values\n",
    "#check int type column first because all data in it should be of int so there imporper data\n",
    "#that should be cleaned\n",
    "#we have to now cleaned a dataset"
   ]
  },
  {
   "cell_type": "code",
   "execution_count": null,
   "id": "a1901116-89e1-47ad-a171-0abe8ef4905c",
   "metadata": {},
   "outputs": [],
   "source": [
    "#null check\n",
    "used_car.isnull().sum()"
   ]
  },
  {
   "cell_type": "code",
   "execution_count": null,
   "id": "58c003ad-9e93-4d58-8bdd-c4c58263825b",
   "metadata": {},
   "outputs": [],
   "source": [
    "used_car.shape"
   ]
  },
  {
   "cell_type": "code",
   "execution_count": null,
   "id": "a6e4d786-2270-4e69-82b8-88e285e693c0",
   "metadata": {},
   "outputs": [],
   "source": [
    "#Duplicate check\n",
    "used_car.duplicated().sum()"
   ]
  },
  {
   "cell_type": "code",
   "execution_count": null,
   "id": "a4b01aaf-92c1-4788-82cb-9c2fc7b060d9",
   "metadata": {},
   "outputs": [],
   "source": [
    "used_car.shape"
   ]
  },
  {
   "cell_type": "code",
   "execution_count": null,
   "id": "eed605f3-e361-495e-95bf-cbfdc18a5af9",
   "metadata": {},
   "outputs": [],
   "source": [
    "#Data Analysis\n",
    "\n",
    "for col in used_car.columns:\n",
    "    print('Unique values of ' + col)\n",
    "    print(used_car[col].unique())\n",
    "    print(\"======================\")"
   ]
  },
  {
   "cell_type": "code",
   "execution_count": null,
   "id": "87959ca7-a19a-43df-badf-6532c1f5eb6d",
   "metadata": {},
   "outputs": [],
   "source": [
    "#name column has tuple in that name is too long so we will keep only first three \n",
    "#First word of full name that is only brand name \n",
    "#as it will give more better categoricol name\n",
    "# Now we will clean the dataset as per our need\n",
    "##Cleaning\n",
    "\n",
    "#first backup the copy as if while cleaning the date gets corrupted then\n",
    "#no need to reload the full dataset again , so more comfortable with backup copy, if dataset\n",
    "#is big\n",
    "\n",
    "backup=used_car.copy()"
   ]
  },
  {
   "cell_type": "code",
   "execution_count": null,
   "id": "0504c190-e6b3-45cd-94af-57a715e85127",
   "metadata": {},
   "outputs": [],
   "source": [
    "def get_brand_name(car_name):\n",
    "    car_name = car_name.split(' ')[0]\n",
    "    return car_name.strip()"
   ]
  },
  {
   "cell_type": "code",
   "execution_count": null,
   "id": "a7b279ad-11c9-417e-a398-0b3c46947454",
   "metadata": {},
   "outputs": [],
   "source": [
    "#for example\n",
    "get_brand_name('Maruti Wagon R LXI Minor')"
   ]
  },
  {
   "cell_type": "code",
   "execution_count": null,
   "id": "f57adf19-072f-455f-b30d-24381b1ddee6",
   "metadata": {},
   "outputs": [],
   "source": [
    "used_car['car_name'] = used_car['car_name'].apply(get_brand_name)"
   ]
  },
  {
   "cell_type": "code",
   "execution_count": null,
   "id": "edf381d3-520d-463a-bab8-d7aa0cd5d553",
   "metadata": {},
   "outputs": [],
   "source": [
    "used_car['car_name'].unique()"
   ]
  },
  {
   "cell_type": "code",
   "execution_count": null,
   "id": "542c7d1a-4aad-4d0c-8d72-86456dd40111",
   "metadata": {},
   "outputs": [],
   "source": [
    "used_car['car_name']"
   ]
  },
  {
   "cell_type": "code",
   "execution_count": null,
   "id": "77e9edd4-79bd-46b5-acec-58d55053cf82",
   "metadata": {},
   "outputs": [],
   "source": [
    "used_car.info()"
   ]
  },
  {
   "cell_type": "code",
   "execution_count": null,
   "id": "83d44dfe-6e25-42d6-9e09-59a0e353ca00",
   "metadata": {},
   "outputs": [],
   "source": [
    "used_car"
   ]
  },
  {
   "cell_type": "code",
   "execution_count": null,
   "id": "31755f2a-7282-4ec9-bca2-23ad136dcc9b",
   "metadata": {},
   "outputs": [],
   "source": [
    "for col in used_car.columns:\n",
    "    print('Unique values of ' + col)\n",
    "    print(used_car[col].unique())\n",
    "    print(\"======================\")"
   ]
  },
  {
   "cell_type": "code",
   "execution_count": null,
   "id": "9a7dcc5a-0e85-4599-81d4-0be4c31ad092",
   "metadata": {},
   "outputs": [],
   "source": [
    "used_car.describe()"
   ]
  },
  {
   "cell_type": "code",
   "execution_count": null,
   "id": "233e8ff5-9081-402f-beb8-7473921f1a2f",
   "metadata": {},
   "outputs": [],
   "source": [
    "#now for better understanding i am saving the this cleaned csv in file with other name\n",
    "\n",
    "used_car.to_csv('Cleaned_used_cars_dataset.csv')"
   ]
  },
  {
   "cell_type": "code",
   "execution_count": null,
   "id": "bdf8fad7-6a16-4689-8848-1d6004e99f5a",
   "metadata": {},
   "outputs": [],
   "source": [
    "# checking the distribution of categorical data\n",
    "print(used_car.Fuel_Type.value_counts())\n",
    "print(used_car.Seller_Type.value_counts())\n",
    "print(used_car.Transmission.value_counts())\n",
    "print(used_car.Owner.value_counts())"
   ]
  },
  {
   "cell_type": "code",
   "execution_count": null,
   "id": "dadbe0cd-2b19-4594-9d26-a25b0978b16b",
   "metadata": {},
   "outputs": [],
   "source": [
    "used_car.isnull().sum()"
   ]
  },
  {
   "cell_type": "code",
   "execution_count": null,
   "id": "e3971ba2-d47b-4041-922a-3e61a2714892",
   "metadata": {},
   "outputs": [],
   "source": [
    "##Build the Model\n",
    "\n",
    "#extract the feature and not want drop , will come all in X\n",
    "#and target column price ,which is dropped will come in y \n",
    "\n",
    "X=used_car.drop(columns=['Selling_Price'])\n",
    "y=used_car['Selling_Price']  #target column"
   ]
  },
  {
   "cell_type": "code",
   "execution_count": null,
   "id": "635dfc7e-487c-487d-93fe-37eddc28d4c9",
   "metadata": {},
   "outputs": [],
   "source": [
    "X #all features except price"
   ]
  },
  {
   "cell_type": "code",
   "execution_count": null,
   "id": "f45948f3-8293-4f00-91be-9e795da1a254",
   "metadata": {},
   "outputs": [],
   "source": [
    "y # target column"
   ]
  },
  {
   "cell_type": "code",
   "execution_count": null,
   "id": "e990799c-d8bc-4c12-92e8-9a77e3435f51",
   "metadata": {},
   "outputs": [],
   "source": [
    "#we will import necessary files all\n",
    "#train_test_split from sklearn\n",
    "\n",
    "from sklearn.model_selection import train_test_split\n",
    "X_train,X_test,y_train,y_test=train_test_split(X,y, test_size=0.1,random_state=2)"
   ]
  },
  {
   "cell_type": "code",
   "execution_count": null,
   "id": "5e3d549c-1b21-4b37-97b7-d98a7dfa33a5",
   "metadata": {},
   "outputs": [],
   "source": [
    "#using linerRegression model\n",
    "from sklearn.linear_model import LinearRegression"
   ]
  },
  {
   "cell_type": "code",
   "execution_count": null,
   "id": "0d95352f-b248-4274-b4fb-8ba2df8551a2",
   "metadata": {},
   "outputs": [],
   "source": [
    "used_car.info()"
   ]
  },
  {
   "cell_type": "code",
   "execution_count": null,
   "id": "bf3f0253-aed5-4bd7-bd31-0c6d83a35ec6",
   "metadata": {},
   "outputs": [],
   "source": [
    "#now in onehatencoder we r gona make the object of onehatencoder\n",
    "#and in that we r gona fit all categorical values of X\n",
    "\n",
    "from sklearn.preprocessing import OneHotEncoder\n",
    "ohe = OneHotEncoder()\n",
    "ohe.fit(X[['car_name','Fuel_Type','Seller_Type','Transmission','Owner']])\n"
   ]
  },
  {
   "cell_type": "code",
   "execution_count": null,
   "id": "3a6ccf9b-9b20-4685-8f59-2191c47746ef",
   "metadata": {},
   "outputs": [],
   "source": [
    "#now transform all X_traine and X_test using this onehotencoder\n",
    "\n",
    "from sklearn.compose import make_column_transformer\n",
    "from sklearn.pipeline import make_pipeline"
   ]
  },
  {
   "cell_type": "code",
   "execution_count": null,
   "id": "72a40a2c-4789-44ac-a1ad-b83b2a85bd3a",
   "metadata": {},
   "outputs": [],
   "source": [
    "ohe.categories_"
   ]
  },
  {
   "cell_type": "code",
   "execution_count": null,
   "id": "dfe0a230-0bee-4d06-b167-27745b5b4a49",
   "metadata": {},
   "outputs": [],
   "source": [
    "column_trans=make_column_transformer((OneHotEncoder(categories=ohe.categories_),['car_name','Fuel_Type','Seller_Type','Transmission','Owner']),\n",
    "                                  remainder='passthrough')"
   ]
  },
  {
   "cell_type": "code",
   "execution_count": null,
   "id": "617eda14-3198-4706-a842-928a746bbb51",
   "metadata": {},
   "outputs": [],
   "source": [
    "linear_reg=LinearRegression()"
   ]
  },
  {
   "cell_type": "code",
   "execution_count": null,
   "id": "2230f160-2371-44ee-bd17-a60fe033c28e",
   "metadata": {},
   "outputs": [],
   "source": [
    "pipe_linear=make_pipeline(column_trans,linear_reg)"
   ]
  },
  {
   "cell_type": "code",
   "execution_count": null,
   "id": "80f78811-e99c-4e69-a341-dda08ad080de",
   "metadata": {},
   "outputs": [],
   "source": [
    "pipe_linear.fit(X_train,y_train)"
   ]
  },
  {
   "cell_type": "code",
   "execution_count": null,
   "id": "639f9228-8667-48a2-94be-7d8d733c3bb4",
   "metadata": {},
   "outputs": [],
   "source": [
    "pred=pipe_linear.predict(X_test)"
   ]
  },
  {
   "cell_type": "code",
   "execution_count": null,
   "id": "101c0c3d-3d09-4f1b-bb9f-6ef870aa3163",
   "metadata": {},
   "outputs": [],
   "source": [
    "from sklearn.metrics import r2_score\n",
    "r2=r2_score(y_test,pred)\n",
    "print(\"R Square\",r2)"
   ]
  },
  {
   "cell_type": "code",
   "execution_count": null,
   "id": "edef6d67-e04e-4a1b-9726-4513be3c4850",
   "metadata": {},
   "outputs": [],
   "source": [
    "import pickle"
   ]
  },
  {
   "cell_type": "code",
   "execution_count": null,
   "id": "de4bb373-6ee6-455c-b7a3-1ab48b4c7b7b",
   "metadata": {},
   "outputs": [],
   "source": [
    "pickle.dump(pipe_linear,open('LinearRegressionModel.pkl','wb'))"
   ]
  },
  {
   "cell_type": "code",
   "execution_count": null,
   "id": "2a533a7e-6020-4157-92df-9cbf04d4304e",
   "metadata": {},
   "outputs": [],
   "source": [
    "if r2 >= 0.7:\n",
    "    print(\"The model is doing a good job explaining the variation in prices.\")\n",
    "elif 0.5 <= r2 < 0.7:\n",
    "    print(\"The model is decent but may be improved.\")\n",
    "else:\n",
    "    print(\"The model needs improvement as it doesn't explain the variation well.\")"
   ]
  },
  {
   "cell_type": "code",
   "execution_count": null,
   "id": "34aef834-4a79-4974-a121-cd97bfadc575",
   "metadata": {},
   "outputs": [],
   "source": [
    "used_car.info()"
   ]
  },
  {
   "cell_type": "code",
   "execution_count": null,
   "id": "223c1a1b-5b03-4825-8319-eb75edd88c69",
   "metadata": {},
   "outputs": [],
   "source": [
    "# Import necessary libraries\n",
    "import pandas as pd\n",
    "\n",
    "# Get user input for feature values\n",
    "print(\"Enter vehicle details:\")\n",
    "print(\"Vehicle Name:'Audi', 'BMW', 'Chevrolet', 'Datsun', 'Fiat', 'Ford', 'Honda','Hyundai', 'Jaguar', 'Jeep', 'Mahindra', 'Maruti', 'Mercedes-Benz','Nissan', 'Renault', 'Skoda', 'Tata', 'Toyota', 'Volkswagen','Volvo'\")\n",
    "car_name = input(\"Enter vehicle name(Choose from above): \")\n",
    "print(\"\")\n",
    "Year = int(input(\"Enter vehicle purchased year: \"))\n",
    "print(\"\")\n",
    "Kms_Driven = float(input(\"Enter kms driven: \"))\n",
    "print(\"\")\n",
    "Present_Price = input(\"Enter Present_Price:\")\n",
    "print(\"\")\n",
    "print(\"Fuel_type:'CNG', 'Diesel','Petrol'\")\n",
    "Fuel_Type = input(\"Enter fuel_type:(Choose from above) \")\n",
    "print(\"\")\n",
    "print(\"Seller_Type:'Dealer', 'Individual'\")\n",
    "Seller_Type = input(\"Enter Seller_Type :(Choose from above)\")\n",
    "print(\"\")\n",
    "print(\"Transmission:'Automatic', 'Manual'\")\n",
    "Transmission = input(\"Enter Transmission :(Choose from above)\")\n",
    "print(\"\")\n",
    "print(\"Owner:'First Owner','Second Owner','Third Owner'\")\n",
    "Owner = input(\"Enter owner:(Choose from above) \")\n",
    "print(\"\")\n",
    "\n",
    "print(\"\")\n",
    "\n",
    "# Make a prediction based on user input\n",
    "user_input = pd.DataFrame([[car_name, Year, Kms_Driven,Present_Price, Fuel_Type,Seller_Type\n",
    "                           ,Transmission,Owner]],\n",
    "                          columns=['car_name', 'Year', 'Kms_Driven','Present_Price','Fuel_Type',\n",
    "                                   'Seller_Type','Transmission','Owner'\n",
    "                                   ])\n",
    "\n",
    "predicted_price = pipe_linear.predict(user_input)\n",
    "\n",
    "print(f\"Predicted Price for the given input: ${predicted_price[0]:.2f}\")\n"
   ]
  },
  {
   "cell_type": "code",
   "execution_count": null,
   "id": "d4b0a60b-1fd3-4971-9ab8-91f5d88f0d25",
   "metadata": {},
   "outputs": [],
   "source": []
  }
 ],
 "metadata": {
  "kernelspec": {
   "display_name": "Python 3 (ipykernel)",
   "language": "python",
   "name": "python3"
  },
  "language_info": {
   "codemirror_mode": {
    "name": "ipython",
    "version": 3
   },
   "file_extension": ".py",
   "mimetype": "text/x-python",
   "name": "python",
   "nbconvert_exporter": "python",
   "pygments_lexer": "ipython3",
   "version": "3.11.7"
  }
 },
 "nbformat": 4,
 "nbformat_minor": 5
}
