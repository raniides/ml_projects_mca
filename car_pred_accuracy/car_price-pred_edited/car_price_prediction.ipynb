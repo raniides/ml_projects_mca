{
 "cells": [
  {
   "cell_type": "code",
   "execution_count": 61,
   "id": "e7453aaf-a5b6-4027-9624-2511d39aca3d",
   "metadata": {},
   "outputs": [],
   "source": [
    "import pandas as pd"
   ]
  },
  {
   "cell_type": "code",
   "execution_count": 62,
   "id": "ba749376-e07b-4994-b232-b2913b71c258",
   "metadata": {},
   "outputs": [],
   "source": [
    "used_car=pd.read_csv('cardetails_data.csv')"
   ]
  },
  {
   "cell_type": "code",
   "execution_count": 63,
   "id": "e1592dcc-4d01-403f-abd8-8339b95fc26b",
   "metadata": {},
   "outputs": [
    {
     "data": {
      "text/html": [
       "<div>\n",
       "<style scoped>\n",
       "    .dataframe tbody tr th:only-of-type {\n",
       "        vertical-align: middle;\n",
       "    }\n",
       "\n",
       "    .dataframe tbody tr th {\n",
       "        vertical-align: top;\n",
       "    }\n",
       "\n",
       "    .dataframe thead th {\n",
       "        text-align: right;\n",
       "    }\n",
       "</style>\n",
       "<table border=\"1\" class=\"dataframe\">\n",
       "  <thead>\n",
       "    <tr style=\"text-align: right;\">\n",
       "      <th></th>\n",
       "      <th>car_name</th>\n",
       "      <th>Year</th>\n",
       "      <th>Selling_Price</th>\n",
       "      <th>Present_Price</th>\n",
       "      <th>Kms_Driven</th>\n",
       "      <th>Fuel_Type</th>\n",
       "      <th>Seller_Type</th>\n",
       "      <th>Transmission</th>\n",
       "      <th>Owner</th>\n",
       "    </tr>\n",
       "  </thead>\n",
       "  <tbody>\n",
       "    <tr>\n",
       "      <th>0</th>\n",
       "      <td>Maruti 800 AC</td>\n",
       "      <td>2014</td>\n",
       "      <td>335000</td>\n",
       "      <td>559000</td>\n",
       "      <td>27000</td>\n",
       "      <td>Petrol</td>\n",
       "      <td>Dealer</td>\n",
       "      <td>Manual</td>\n",
       "      <td>First Owner</td>\n",
       "    </tr>\n",
       "    <tr>\n",
       "      <th>1</th>\n",
       "      <td>Maruti Wagon R LXI Minor</td>\n",
       "      <td>2013</td>\n",
       "      <td>475000</td>\n",
       "      <td>953999</td>\n",
       "      <td>43000</td>\n",
       "      <td>Diesel</td>\n",
       "      <td>Dealer</td>\n",
       "      <td>Manual</td>\n",
       "      <td>First Owner</td>\n",
       "    </tr>\n",
       "    <tr>\n",
       "      <th>2</th>\n",
       "      <td>Hyundai Verna 1.6 SX</td>\n",
       "      <td>2017</td>\n",
       "      <td>725000</td>\n",
       "      <td>985000</td>\n",
       "      <td>6900</td>\n",
       "      <td>Petrol</td>\n",
       "      <td>Dealer</td>\n",
       "      <td>Manual</td>\n",
       "      <td>First Owner</td>\n",
       "    </tr>\n",
       "    <tr>\n",
       "      <th>3</th>\n",
       "      <td>Datsun RediGO T Option</td>\n",
       "      <td>2011</td>\n",
       "      <td>285000</td>\n",
       "      <td>415000</td>\n",
       "      <td>5200</td>\n",
       "      <td>Petrol</td>\n",
       "      <td>Dealer</td>\n",
       "      <td>Manual</td>\n",
       "      <td>First Owner</td>\n",
       "    </tr>\n",
       "    <tr>\n",
       "      <th>4</th>\n",
       "      <td>Honda Amaze VX i-DTEC</td>\n",
       "      <td>2014</td>\n",
       "      <td>459999</td>\n",
       "      <td>687000</td>\n",
       "      <td>42450</td>\n",
       "      <td>Diesel</td>\n",
       "      <td>Dealer</td>\n",
       "      <td>Manual</td>\n",
       "      <td>First Owner</td>\n",
       "    </tr>\n",
       "    <tr>\n",
       "      <th>...</th>\n",
       "      <td>...</td>\n",
       "      <td>...</td>\n",
       "      <td>...</td>\n",
       "      <td>...</td>\n",
       "      <td>...</td>\n",
       "      <td>...</td>\n",
       "      <td>...</td>\n",
       "      <td>...</td>\n",
       "      <td>...</td>\n",
       "    </tr>\n",
       "    <tr>\n",
       "      <th>296</th>\n",
       "      <td>Maruti Baleno Alpha</td>\n",
       "      <td>2016</td>\n",
       "      <td>950000</td>\n",
       "      <td>1160000</td>\n",
       "      <td>33988</td>\n",
       "      <td>Diesel</td>\n",
       "      <td>Dealer</td>\n",
       "      <td>Manual</td>\n",
       "      <td>First Owner</td>\n",
       "    </tr>\n",
       "    <tr>\n",
       "      <th>297</th>\n",
       "      <td>Hyundai EON 1.0 Kappa Magna Plus</td>\n",
       "      <td>2015</td>\n",
       "      <td>400000</td>\n",
       "      <td>590000</td>\n",
       "      <td>60000</td>\n",
       "      <td>Petrol</td>\n",
       "      <td>Dealer</td>\n",
       "      <td>Manual</td>\n",
       "      <td>First Owner</td>\n",
       "    </tr>\n",
       "    <tr>\n",
       "      <th>298</th>\n",
       "      <td>Ford Figo Aspire 1.2 Ti-VCT Trend</td>\n",
       "      <td>2009</td>\n",
       "      <td>335000</td>\n",
       "      <td>1100000</td>\n",
       "      <td>87934</td>\n",
       "      <td>Petrol</td>\n",
       "      <td>Dealer</td>\n",
       "      <td>Manual</td>\n",
       "      <td>First Owner</td>\n",
       "    </tr>\n",
       "    <tr>\n",
       "      <th>299</th>\n",
       "      <td>Ford Figo Aspire Facelift</td>\n",
       "      <td>2017</td>\n",
       "      <td>1150000</td>\n",
       "      <td>1250000</td>\n",
       "      <td>9000</td>\n",
       "      <td>Diesel</td>\n",
       "      <td>Dealer</td>\n",
       "      <td>Manual</td>\n",
       "      <td>First Owner</td>\n",
       "    </tr>\n",
       "    <tr>\n",
       "      <th>300</th>\n",
       "      <td>Hyundai i10 Era</td>\n",
       "      <td>2016</td>\n",
       "      <td>530000</td>\n",
       "      <td>590000</td>\n",
       "      <td>5464</td>\n",
       "      <td>Petrol</td>\n",
       "      <td>Dealer</td>\n",
       "      <td>Manual</td>\n",
       "      <td>First Owner</td>\n",
       "    </tr>\n",
       "  </tbody>\n",
       "</table>\n",
       "<p>301 rows × 9 columns</p>\n",
       "</div>"
      ],
      "text/plain": [
       "                              car_name  Year  Selling_Price  Present_Price  \\\n",
       "0                        Maruti 800 AC  2014         335000         559000   \n",
       "1             Maruti Wagon R LXI Minor  2013         475000         953999   \n",
       "2                 Hyundai Verna 1.6 SX  2017         725000         985000   \n",
       "3               Datsun RediGO T Option  2011         285000         415000   \n",
       "4                Honda Amaze VX i-DTEC  2014         459999         687000   \n",
       "..                                 ...   ...            ...            ...   \n",
       "296                Maruti Baleno Alpha  2016         950000        1160000   \n",
       "297   Hyundai EON 1.0 Kappa Magna Plus  2015         400000         590000   \n",
       "298  Ford Figo Aspire 1.2 Ti-VCT Trend  2009         335000        1100000   \n",
       "299          Ford Figo Aspire Facelift  2017        1150000        1250000   \n",
       "300                    Hyundai i10 Era  2016         530000         590000   \n",
       "\n",
       "     Kms_Driven Fuel_Type Seller_Type Transmission        Owner  \n",
       "0         27000    Petrol      Dealer       Manual  First Owner  \n",
       "1         43000    Diesel      Dealer       Manual  First Owner  \n",
       "2          6900    Petrol      Dealer       Manual  First Owner  \n",
       "3          5200    Petrol      Dealer       Manual  First Owner  \n",
       "4         42450    Diesel      Dealer       Manual  First Owner  \n",
       "..          ...       ...         ...          ...          ...  \n",
       "296       33988    Diesel      Dealer       Manual  First Owner  \n",
       "297       60000    Petrol      Dealer       Manual  First Owner  \n",
       "298       87934    Petrol      Dealer       Manual  First Owner  \n",
       "299        9000    Diesel      Dealer       Manual  First Owner  \n",
       "300        5464    Petrol      Dealer       Manual  First Owner  \n",
       "\n",
       "[301 rows x 9 columns]"
      ]
     },
     "execution_count": 63,
     "metadata": {},
     "output_type": "execute_result"
    }
   ],
   "source": [
    "used_car"
   ]
  },
  {
   "cell_type": "code",
   "execution_count": 64,
   "id": "e0be2460-3315-4eb3-bece-52693a443d9a",
   "metadata": {},
   "outputs": [
    {
     "data": {
      "text/html": [
       "<div>\n",
       "<style scoped>\n",
       "    .dataframe tbody tr th:only-of-type {\n",
       "        vertical-align: middle;\n",
       "    }\n",
       "\n",
       "    .dataframe tbody tr th {\n",
       "        vertical-align: top;\n",
       "    }\n",
       "\n",
       "    .dataframe thead th {\n",
       "        text-align: right;\n",
       "    }\n",
       "</style>\n",
       "<table border=\"1\" class=\"dataframe\">\n",
       "  <thead>\n",
       "    <tr style=\"text-align: right;\">\n",
       "      <th></th>\n",
       "      <th>car_name</th>\n",
       "      <th>Year</th>\n",
       "      <th>Selling_Price</th>\n",
       "      <th>Present_Price</th>\n",
       "      <th>Kms_Driven</th>\n",
       "      <th>Fuel_Type</th>\n",
       "      <th>Seller_Type</th>\n",
       "      <th>Transmission</th>\n",
       "      <th>Owner</th>\n",
       "    </tr>\n",
       "  </thead>\n",
       "  <tbody>\n",
       "    <tr>\n",
       "      <th>0</th>\n",
       "      <td>Maruti 800 AC</td>\n",
       "      <td>2014</td>\n",
       "      <td>335000</td>\n",
       "      <td>559000</td>\n",
       "      <td>27000</td>\n",
       "      <td>Petrol</td>\n",
       "      <td>Dealer</td>\n",
       "      <td>Manual</td>\n",
       "      <td>First Owner</td>\n",
       "    </tr>\n",
       "    <tr>\n",
       "      <th>1</th>\n",
       "      <td>Maruti Wagon R LXI Minor</td>\n",
       "      <td>2013</td>\n",
       "      <td>475000</td>\n",
       "      <td>953999</td>\n",
       "      <td>43000</td>\n",
       "      <td>Diesel</td>\n",
       "      <td>Dealer</td>\n",
       "      <td>Manual</td>\n",
       "      <td>First Owner</td>\n",
       "    </tr>\n",
       "    <tr>\n",
       "      <th>2</th>\n",
       "      <td>Hyundai Verna 1.6 SX</td>\n",
       "      <td>2017</td>\n",
       "      <td>725000</td>\n",
       "      <td>985000</td>\n",
       "      <td>6900</td>\n",
       "      <td>Petrol</td>\n",
       "      <td>Dealer</td>\n",
       "      <td>Manual</td>\n",
       "      <td>First Owner</td>\n",
       "    </tr>\n",
       "    <tr>\n",
       "      <th>3</th>\n",
       "      <td>Datsun RediGO T Option</td>\n",
       "      <td>2011</td>\n",
       "      <td>285000</td>\n",
       "      <td>415000</td>\n",
       "      <td>5200</td>\n",
       "      <td>Petrol</td>\n",
       "      <td>Dealer</td>\n",
       "      <td>Manual</td>\n",
       "      <td>First Owner</td>\n",
       "    </tr>\n",
       "    <tr>\n",
       "      <th>4</th>\n",
       "      <td>Honda Amaze VX i-DTEC</td>\n",
       "      <td>2014</td>\n",
       "      <td>459999</td>\n",
       "      <td>687000</td>\n",
       "      <td>42450</td>\n",
       "      <td>Diesel</td>\n",
       "      <td>Dealer</td>\n",
       "      <td>Manual</td>\n",
       "      <td>First Owner</td>\n",
       "    </tr>\n",
       "  </tbody>\n",
       "</table>\n",
       "</div>"
      ],
      "text/plain": [
       "                   car_name  Year  Selling_Price  Present_Price  Kms_Driven  \\\n",
       "0             Maruti 800 AC  2014         335000         559000       27000   \n",
       "1  Maruti Wagon R LXI Minor  2013         475000         953999       43000   \n",
       "2      Hyundai Verna 1.6 SX  2017         725000         985000        6900   \n",
       "3    Datsun RediGO T Option  2011         285000         415000        5200   \n",
       "4     Honda Amaze VX i-DTEC  2014         459999         687000       42450   \n",
       "\n",
       "  Fuel_Type Seller_Type Transmission        Owner  \n",
       "0    Petrol      Dealer       Manual  First Owner  \n",
       "1    Diesel      Dealer       Manual  First Owner  \n",
       "2    Petrol      Dealer       Manual  First Owner  \n",
       "3    Petrol      Dealer       Manual  First Owner  \n",
       "4    Diesel      Dealer       Manual  First Owner  "
      ]
     },
     "execution_count": 64,
     "metadata": {},
     "output_type": "execute_result"
    }
   ],
   "source": [
    "used_car.head()"
   ]
  },
  {
   "cell_type": "code",
   "execution_count": 65,
   "id": "478bc09d-556c-43bb-98c7-1b5d49d70362",
   "metadata": {},
   "outputs": [
    {
     "data": {
      "text/html": [
       "<div>\n",
       "<style scoped>\n",
       "    .dataframe tbody tr th:only-of-type {\n",
       "        vertical-align: middle;\n",
       "    }\n",
       "\n",
       "    .dataframe tbody tr th {\n",
       "        vertical-align: top;\n",
       "    }\n",
       "\n",
       "    .dataframe thead th {\n",
       "        text-align: right;\n",
       "    }\n",
       "</style>\n",
       "<table border=\"1\" class=\"dataframe\">\n",
       "  <thead>\n",
       "    <tr style=\"text-align: right;\">\n",
       "      <th></th>\n",
       "      <th>car_name</th>\n",
       "      <th>Year</th>\n",
       "      <th>Selling_Price</th>\n",
       "      <th>Present_Price</th>\n",
       "      <th>Kms_Driven</th>\n",
       "      <th>Fuel_Type</th>\n",
       "      <th>Seller_Type</th>\n",
       "      <th>Transmission</th>\n",
       "      <th>Owner</th>\n",
       "    </tr>\n",
       "  </thead>\n",
       "  <tbody>\n",
       "    <tr>\n",
       "      <th>0</th>\n",
       "      <td>Maruti 800 AC</td>\n",
       "      <td>2014</td>\n",
       "      <td>335000</td>\n",
       "      <td>559000</td>\n",
       "      <td>27000</td>\n",
       "      <td>Petrol</td>\n",
       "      <td>Dealer</td>\n",
       "      <td>Manual</td>\n",
       "      <td>First Owner</td>\n",
       "    </tr>\n",
       "    <tr>\n",
       "      <th>1</th>\n",
       "      <td>Maruti Wagon R LXI Minor</td>\n",
       "      <td>2013</td>\n",
       "      <td>475000</td>\n",
       "      <td>953999</td>\n",
       "      <td>43000</td>\n",
       "      <td>Diesel</td>\n",
       "      <td>Dealer</td>\n",
       "      <td>Manual</td>\n",
       "      <td>First Owner</td>\n",
       "    </tr>\n",
       "    <tr>\n",
       "      <th>2</th>\n",
       "      <td>Hyundai Verna 1.6 SX</td>\n",
       "      <td>2017</td>\n",
       "      <td>725000</td>\n",
       "      <td>985000</td>\n",
       "      <td>6900</td>\n",
       "      <td>Petrol</td>\n",
       "      <td>Dealer</td>\n",
       "      <td>Manual</td>\n",
       "      <td>First Owner</td>\n",
       "    </tr>\n",
       "    <tr>\n",
       "      <th>3</th>\n",
       "      <td>Datsun RediGO T Option</td>\n",
       "      <td>2011</td>\n",
       "      <td>285000</td>\n",
       "      <td>415000</td>\n",
       "      <td>5200</td>\n",
       "      <td>Petrol</td>\n",
       "      <td>Dealer</td>\n",
       "      <td>Manual</td>\n",
       "      <td>First Owner</td>\n",
       "    </tr>\n",
       "    <tr>\n",
       "      <th>4</th>\n",
       "      <td>Honda Amaze VX i-DTEC</td>\n",
       "      <td>2014</td>\n",
       "      <td>459999</td>\n",
       "      <td>687000</td>\n",
       "      <td>42450</td>\n",
       "      <td>Diesel</td>\n",
       "      <td>Dealer</td>\n",
       "      <td>Manual</td>\n",
       "      <td>First Owner</td>\n",
       "    </tr>\n",
       "    <tr>\n",
       "      <th>...</th>\n",
       "      <td>...</td>\n",
       "      <td>...</td>\n",
       "      <td>...</td>\n",
       "      <td>...</td>\n",
       "      <td>...</td>\n",
       "      <td>...</td>\n",
       "      <td>...</td>\n",
       "      <td>...</td>\n",
       "      <td>...</td>\n",
       "    </tr>\n",
       "    <tr>\n",
       "      <th>296</th>\n",
       "      <td>Maruti Baleno Alpha</td>\n",
       "      <td>2016</td>\n",
       "      <td>950000</td>\n",
       "      <td>1160000</td>\n",
       "      <td>33988</td>\n",
       "      <td>Diesel</td>\n",
       "      <td>Dealer</td>\n",
       "      <td>Manual</td>\n",
       "      <td>First Owner</td>\n",
       "    </tr>\n",
       "    <tr>\n",
       "      <th>297</th>\n",
       "      <td>Hyundai EON 1.0 Kappa Magna Plus</td>\n",
       "      <td>2015</td>\n",
       "      <td>400000</td>\n",
       "      <td>590000</td>\n",
       "      <td>60000</td>\n",
       "      <td>Petrol</td>\n",
       "      <td>Dealer</td>\n",
       "      <td>Manual</td>\n",
       "      <td>First Owner</td>\n",
       "    </tr>\n",
       "    <tr>\n",
       "      <th>298</th>\n",
       "      <td>Ford Figo Aspire 1.2 Ti-VCT Trend</td>\n",
       "      <td>2009</td>\n",
       "      <td>335000</td>\n",
       "      <td>1100000</td>\n",
       "      <td>87934</td>\n",
       "      <td>Petrol</td>\n",
       "      <td>Dealer</td>\n",
       "      <td>Manual</td>\n",
       "      <td>First Owner</td>\n",
       "    </tr>\n",
       "    <tr>\n",
       "      <th>299</th>\n",
       "      <td>Ford Figo Aspire Facelift</td>\n",
       "      <td>2017</td>\n",
       "      <td>1150000</td>\n",
       "      <td>1250000</td>\n",
       "      <td>9000</td>\n",
       "      <td>Diesel</td>\n",
       "      <td>Dealer</td>\n",
       "      <td>Manual</td>\n",
       "      <td>First Owner</td>\n",
       "    </tr>\n",
       "    <tr>\n",
       "      <th>300</th>\n",
       "      <td>Hyundai i10 Era</td>\n",
       "      <td>2016</td>\n",
       "      <td>530000</td>\n",
       "      <td>590000</td>\n",
       "      <td>5464</td>\n",
       "      <td>Petrol</td>\n",
       "      <td>Dealer</td>\n",
       "      <td>Manual</td>\n",
       "      <td>First Owner</td>\n",
       "    </tr>\n",
       "  </tbody>\n",
       "</table>\n",
       "<p>301 rows × 9 columns</p>\n",
       "</div>"
      ],
      "text/plain": [
       "                              car_name  Year  Selling_Price  Present_Price  \\\n",
       "0                        Maruti 800 AC  2014         335000         559000   \n",
       "1             Maruti Wagon R LXI Minor  2013         475000         953999   \n",
       "2                 Hyundai Verna 1.6 SX  2017         725000         985000   \n",
       "3               Datsun RediGO T Option  2011         285000         415000   \n",
       "4                Honda Amaze VX i-DTEC  2014         459999         687000   \n",
       "..                                 ...   ...            ...            ...   \n",
       "296                Maruti Baleno Alpha  2016         950000        1160000   \n",
       "297   Hyundai EON 1.0 Kappa Magna Plus  2015         400000         590000   \n",
       "298  Ford Figo Aspire 1.2 Ti-VCT Trend  2009         335000        1100000   \n",
       "299          Ford Figo Aspire Facelift  2017        1150000        1250000   \n",
       "300                    Hyundai i10 Era  2016         530000         590000   \n",
       "\n",
       "     Kms_Driven Fuel_Type Seller_Type Transmission        Owner  \n",
       "0         27000    Petrol      Dealer       Manual  First Owner  \n",
       "1         43000    Diesel      Dealer       Manual  First Owner  \n",
       "2          6900    Petrol      Dealer       Manual  First Owner  \n",
       "3          5200    Petrol      Dealer       Manual  First Owner  \n",
       "4         42450    Diesel      Dealer       Manual  First Owner  \n",
       "..          ...       ...         ...          ...          ...  \n",
       "296       33988    Diesel      Dealer       Manual  First Owner  \n",
       "297       60000    Petrol      Dealer       Manual  First Owner  \n",
       "298       87934    Petrol      Dealer       Manual  First Owner  \n",
       "299        9000    Diesel      Dealer       Manual  First Owner  \n",
       "300        5464    Petrol      Dealer       Manual  First Owner  \n",
       "\n",
       "[301 rows x 9 columns]"
      ]
     },
     "execution_count": 65,
     "metadata": {},
     "output_type": "execute_result"
    }
   ],
   "source": [
    "used_car #to check how much data we have"
   ]
  },
  {
   "cell_type": "code",
   "execution_count": 66,
   "id": "c1b6686c-48e2-4f88-8e6c-eb79eedb16c4",
   "metadata": {},
   "outputs": [],
   "source": [
    "#rename Present_Price column to Actual_Price as it should be more understable.\n",
    "used_car.rename(columns = {'Present_Price':'Actual_Price'}, inplace = True) "
   ]
  },
  {
   "cell_type": "code",
   "execution_count": 67,
   "id": "6666d019-5478-49a9-8052-27ae914a6674",
   "metadata": {},
   "outputs": [
    {
     "name": "stdout",
     "output_type": "stream",
     "text": [
      "<class 'pandas.core.frame.DataFrame'>\n",
      "RangeIndex: 301 entries, 0 to 300\n",
      "Data columns (total 9 columns):\n",
      " #   Column         Non-Null Count  Dtype \n",
      "---  ------         --------------  ----- \n",
      " 0   car_name       301 non-null    object\n",
      " 1   Year           301 non-null    int64 \n",
      " 2   Selling_Price  301 non-null    int64 \n",
      " 3   Actual_Price   301 non-null    int64 \n",
      " 4   Kms_Driven     301 non-null    int64 \n",
      " 5   Fuel_Type      301 non-null    object\n",
      " 6   Seller_Type    301 non-null    object\n",
      " 7   Transmission   301 non-null    object\n",
      " 8   Owner          301 non-null    object\n",
      "dtypes: int64(4), object(5)\n",
      "memory usage: 21.3+ KB\n"
     ]
    }
   ],
   "source": [
    "used_car.info() #to see type and if there are any null values or not like that "
   ]
  },
  {
   "cell_type": "code",
   "execution_count": 68,
   "id": "7404968d-a436-4734-a0f2-2d210264cdfa",
   "metadata": {},
   "outputs": [],
   "source": [
    "#Now check with unique if the date is proper or not\n",
    "#check if any column include nan/null values\n",
    "#check int type column first because all data in it should be of int so there imporper data\n",
    "#that should be cleaned\n",
    "#we have to now cleaned a dataset"
   ]
  },
  {
   "cell_type": "code",
   "execution_count": 69,
   "id": "a1901116-89e1-47ad-a171-0abe8ef4905c",
   "metadata": {},
   "outputs": [
    {
     "data": {
      "text/plain": [
       "car_name         0\n",
       "Year             0\n",
       "Selling_Price    0\n",
       "Actual_Price     0\n",
       "Kms_Driven       0\n",
       "Fuel_Type        0\n",
       "Seller_Type      0\n",
       "Transmission     0\n",
       "Owner            0\n",
       "dtype: int64"
      ]
     },
     "execution_count": 69,
     "metadata": {},
     "output_type": "execute_result"
    }
   ],
   "source": [
    "#null check\n",
    "used_car.isnull().sum()"
   ]
  },
  {
   "cell_type": "code",
   "execution_count": 70,
   "id": "58c003ad-9e93-4d58-8bdd-c4c58263825b",
   "metadata": {},
   "outputs": [
    {
     "data": {
      "text/plain": [
       "(301, 9)"
      ]
     },
     "execution_count": 70,
     "metadata": {},
     "output_type": "execute_result"
    }
   ],
   "source": [
    "used_car.shape"
   ]
  },
  {
   "cell_type": "code",
   "execution_count": 71,
   "id": "a6e4d786-2270-4e69-82b8-88e285e693c0",
   "metadata": {},
   "outputs": [
    {
     "data": {
      "text/plain": [
       "0"
      ]
     },
     "execution_count": 71,
     "metadata": {},
     "output_type": "execute_result"
    }
   ],
   "source": [
    "#Duplicate check\n",
    "used_car.duplicated().sum()"
   ]
  },
  {
   "cell_type": "code",
   "execution_count": 72,
   "id": "a4b01aaf-92c1-4788-82cb-9c2fc7b060d9",
   "metadata": {},
   "outputs": [
    {
     "data": {
      "text/plain": [
       "(301, 9)"
      ]
     },
     "execution_count": 72,
     "metadata": {},
     "output_type": "execute_result"
    }
   ],
   "source": [
    "used_car.shape"
   ]
  },
  {
   "cell_type": "code",
   "execution_count": 73,
   "id": "eed605f3-e361-495e-95bf-cbfdc18a5af9",
   "metadata": {},
   "outputs": [
    {
     "name": "stdout",
     "output_type": "stream",
     "text": [
      "Unique values of car_name\n",
      "['Maruti 800 AC' 'Maruti Wagon R LXI Minor' 'Hyundai Verna 1.6 SX'\n",
      " 'Datsun RediGO T Option' 'Honda Amaze VX i-DTEC' 'Maruti Alto LX BSIII'\n",
      " 'Hyundai Xcent 1.2 Kappa S' 'Tata Indigo Grand Petrol'\n",
      " 'Hyundai Creta 1.6 VTVT S' 'Maruti Celerio Green VXI'\n",
      " 'Chevrolet Sail 1.2 Base' 'Toyota Corolla Altis 1.8 VL CVT'\n",
      " 'Maruti Ciaz VXi Plus' 'Hyundai Venue SX Opt Diesel'\n",
      " 'Chevrolet Enjoy TCDi LTZ 7 Seater' 'Jaguar XF 2.2 Litre Luxury'\n",
      " 'Mercedes-Benz New C-Class 220 CDI AT'\n",
      " 'Maruti Vitara Brezza ZDi Plus AMT' 'Audi Q5 2.0 TDI' 'Honda City V MT'\n",
      " 'Tata Tigor 1.2 Revotron XT' 'Audi A6 2.0 TDI  Design Edition'\n",
      " 'Mercedes-Benz New C-Class C 220 CDI Avantgarde'\n",
      " 'Skoda Superb Ambition 2.0 TDI CR AT' 'Toyota Corolla Altis G AT'\n",
      " 'Toyota Innova 2.5 G (Diesel) 7 Seater'\n",
      " 'Jeep Compass 1.4 Sport Plus BSIV'\n",
      " 'Mercedes-Benz E-Class E 200 CGI Elegance' 'Hyundai i10 Magna 1.1L'\n",
      " 'BMW 3 Series 320d Sport Line' 'Audi Q7 35 TDI Quattro Premium'\n",
      " 'Hyundai Elantra CRDi S' 'Mahindra Scorpio 1.99 S10'\n",
      " 'Honda City i DTEC V' 'Maruti Wagon R VXI BS IV with ABS'\n",
      " 'Maruti Wagon R VXI BS IV' 'Mahindra Scorpio LX'\n",
      " 'Hyundai Santro Xing GLS' 'Hyundai Grand i10 1.2 Kappa Asta'\n",
      " 'Maruti Alto LXi' 'Maruti Swift Dzire VDI Optional'\n",
      " 'Maruti Eeco 5 Seater AC BSIV' 'Hyundai i20 Sportz 1.4 CRDi'\n",
      " 'Maruti Omni Maruti Omni MPI STD BSIII 5-STR W/ IMMOBILISER'\n",
      " 'Maruti Swift ZDi BSIV' 'Hyundai i20 2015-2017 Sportz Option 1.4 CRDi'\n",
      " 'Mahindra Jeep CL 500 MDI' 'Honda City i DTEC VX' 'Tata Indica DLS'\n",
      " 'Hyundai EON Magna Plus' 'Toyota Etios GD'\n",
      " 'Chevrolet Tavera Neo LS B3 - 7(C) seats BSIII'\n",
      " 'Toyota Corolla Altis Diesel D4DG' 'Mahindra Scorpio 1.99 S6 Plus'\n",
      " 'Tata Indigo Classic Dicor' 'Toyota Innova 2.5 V Diesel 8-seater'\n",
      " 'Tata Indica Vista Quadrajet LS' 'Maruti Swift 1.3 VXi'\n",
      " 'Ford EcoSport 1.5 Diesel Titanium BSIV' 'Maruti Ciaz 1.3 Delta'\n",
      " 'Honda Civic 1.8 V AT' 'Hyundai i10 Sportz 1.2'\n",
      " 'Skoda Rapid 1.5 TDI Elegance' 'Hyundai Getz GLS' 'Nissan Terrano XL'\n",
      " 'Hyundai Grand i10 CRDi Sportz' 'Hyundai Elite i20 Diesel Era'\n",
      " 'Honda Amaze S i-VTEC' 'Honda Brio S MT' 'Hyundai Creta 1.6 SX Option'\n",
      " 'Mercedes-Benz S-Class S 350d Connoisseurs Edition'\n",
      " 'Mahindra XUV500 W8 2WD' 'Renault Duster 85PS Diesel RxL Optional'\n",
      " 'Hyundai Santro Xing XO' 'Mahindra Bolero 2011-2019 SLE'\n",
      " 'Audi A6 2.0 TDI Premium Plus' 'Fiat Avventura MULTIJET Emotion'\n",
      " 'Audi A8 4.2 TDI' 'Datsun RediGO 1.0 S'\n",
      " 'Volkswagen Jetta 1.4 TSI Comfortline'\n",
      " 'Audi A4 2.0 TDI 177 Bhp Premium Plus'\n",
      " 'Mercedes-Benz E-Class Exclusive E 200 BSIV' 'BMW X1 sDrive 20d xLine'\n",
      " 'Volvo V40 D3 R Design' 'Maruti SX4 Zxi BSIII' 'BMW 7 Series 730Ld'\n",
      " 'Mahindra Bolero Power Plus SLX' 'Hyundai Sonata CRDi M/T'\n",
      " 'Nissan Micra Active XV Petrol' 'Mahindra Xylo D4'\n",
      " 'Hyundai Elite i20 Sportz Plus Dual Tone BSIV' 'Renault KWID RXT'\n",
      " 'Mahindra Xylo E4 BS III' 'Maruti SX4 ZXI MT BSIV'\n",
      " 'Hyundai Creta 1.4 CRDi S' 'Maruti Swift Dzire VDI'\n",
      " 'Hyundai Verna 1.6 VTVT AT S Option' 'Mahindra Scorpio LX BSIV'\n",
      " 'Maruti SX4 Vxi BSIII' 'Maruti Ertiga VDI' 'Chevrolet Beat Diesel'\n",
      " 'Maruti Zen LX' 'Maruti Baleno Delta 1.2' 'Maruti Swift Vdi BSIII'\n",
      " 'Tata Nano Lx BSIV' 'Toyota Innova 2.5 GX (Diesel) 8 Seater'\n",
      " 'Maruti Ertiga SHVS VDI' 'Hyundai Creta 1.6 CRDi SX'\n",
      " 'Honda Amaze S i-Vtech' 'Tata Indica Vista Aqua 1.4 TDI'\n",
      " 'Chevrolet Tavera Neo 2 LS B4 7 Str BSIII' 'Chevrolet Cruze LTZ'\n",
      " 'Ford Figo Aspire 1.2 Ti-VCT Titanium Plus'\n",
      " 'Ford EcoSport 1.5 Diesel Titanium Plus BSIV' 'Hyundai i10 Sportz 1.1L'\n",
      " 'Maruti 800 Std' 'Chevrolet Spark 1.0 LS' 'Hyundai EON Era Plus'\n",
      " 'Tata Indica Vista Aqua TDI BSIII' 'Hyundai Santro LP zipPlus'\n",
      " 'Tata Bolt Quadrajet XE' 'Maruti 800 AC BSIII' 'Hyundai i20 Magna 1.2'\n",
      " 'Hyundai i20 1.2 Asta' 'Maruti Ciaz VDi Plus' 'Hyundai i20 Asta 1.4 CRDi'\n",
      " 'Hyundai Santro LE' 'Maruti Vitara Brezza VDi'\n",
      " 'Hyundai Santro Xing XL eRLX Euro III' 'Hyundai Getz 1.3 GLS'\n",
      " 'Mahindra Quanto C8' 'Chevrolet Tavera Neo 3 LS 7 C BSIII'\n",
      " 'Maruti Wagon R DUO LPG' 'Maruti Wagon R LXI'\n",
      " 'Chevrolet Enjoy 1.3 TCDi LS 8' 'Honda City i VTEC SV'\n",
      " 'Jaguar XJ 5.0 L V8 Supercharged' 'Honda Brio E MT'\n",
      " 'Maruti Swift VVT ZXI' 'Tata Indigo CR4' 'Hyundai i10 Asta AT'\n",
      " 'Chevrolet Beat LT' 'Maruti Swift VDI BSIV'\n",
      " 'Renault Duster 110PS Diesel RxZ' 'Hyundai Santro Xing XG'\n",
      " 'Maruti Swift Dzire ZXI Plus' 'Maruti Alto K10 LXI CNG'\n",
      " 'Maruti 800 Std BSII' 'Tata Nano LX SE'\n",
      " 'Skoda Rapid 1.6 MPI Ambition With Alloy Wheel' 'Maruti Alto K10 VXI'\n",
      " 'Maruti Ciaz 1.4 Delta' 'Maruti Alto LX' 'Hyundai i20 Asta'\n",
      " 'Tata Nexon 1.2 Revotron XM' 'Maruti Zen D'\n",
      " 'Volkswagen Vento Celeste 1.5 TDI Highline AT'\n",
      " 'Maruti Eeco 7 Seater Standard BSIV' 'Honda City 1.5 EXI'\n",
      " 'Maruti SX4 Zxi with Leather BSIII' 'Ford Figo Diesel Titanium'\n",
      " 'Maruti Swift Dzire VDi' 'Mahindra Xylo E4' 'Maruti Esteem Vxi - BSIII'\n",
      " 'Hyundai i20 1.2 Sportz' 'Chevrolet Beat Diesel LT'\n",
      " 'Chevrolet Cruze LTZ AT' 'Nissan Micra XL'\n",
      " 'BMW 5 Series 520d Luxury Line' 'Hyundai EON Era Plus Option'\n",
      " 'Fiat Linea T Jet Emotion' 'Renault Scala RxL'\n",
      " 'Ford Figo Petrol Titanium' 'Maruti Ciaz ZDi SHVS'\n",
      " 'Skoda Rapid 1.5 TDI Ambition BSIV' 'Mahindra XUV500 W6 2WD'\n",
      " 'Mahindra XUV300 W8 Option' 'Maruti Ertiga SHVS ZDI'\n",
      " 'Nissan Terrano XE D' 'Maruti S-Cross Facelift'\n",
      " 'Hyundai i20 Magna 1.4 CRDi (Diesel)'\n",
      " 'Mercedes-Benz New C-Class C 220 CDI BE Avantgare'\n",
      " 'Volkswagen Ameo 1.5 TDI Highline'\n",
      " 'Maruti Omni LPG CARGO BSIII W IMMOBILISER' 'Hyundai Verna i (Petrol)'\n",
      " 'Mahindra Renault Logan 1.5 DLS' 'Chevrolet Optra Magnum 2.0 LS BSIII'\n",
      " 'Mahindra Scorpio S11 BSIV' 'Hyundai i20 Active 1.2 SX'\n",
      " 'Maruti SX4 Celebration Diesel' 'Hyundai Grand i10 Magna'\n",
      " 'Maruti Alto LXi BSIII' 'Hyundai i10 Era'\n",
      " 'Toyota Innova 2.5 V Diesel 7-seater' 'Honda Mobilio V i DTEC'\n",
      " 'Toyota Innova 2.5 G (Diesel) 7 Seater BS IV'\n",
      " 'Tata Indica V2 2001-2011 DLS BSIII' 'Tata Indica Vista TDI LS'\n",
      " 'Chevrolet Beat Diesel LS' 'Tata Zest Quadrajet 1.3 75PS XE'\n",
      " 'Skoda Fabia 1.2L Diesel Ambiente'\n",
      " 'Toyota Innova 2.5 VX (Diesel) 8 Seater'\n",
      " 'Hyundai Grand i10 1.2 CRDi Asta' 'Datsun GO Plus T Option Petrol'\n",
      " 'Maruti Omni MPI STD BSIV' 'Maruti Baleno Alpha 1.2'\n",
      " 'Ford Fiesta Classic 1.4 SXI Duratorq'\n",
      " 'Hyundai Elite i20 Asta Option BSIV' 'Hyundai Grand i10 CRDi Magna'\n",
      " 'Hyundai Santro Xing GL Plus' 'Tata Sumo GX TC 7 Str BSIII'\n",
      " 'Maruti Vitara Brezza LDi Option' 'Honda Jazz S' 'Hyundai i20 1.4 Sportz'\n",
      " 'Maruti Ertiga SHVS ZDI Plus' 'Tata Sumo SE Plus BSIII'\n",
      " 'Maruti Ertiga VXI' 'Hyundai i20 1.4 Magna ABS' 'Hyundai Getz GL'\n",
      " 'Maruti Wagon R LX BS IV' 'Hyundai i20 1.2 Spotz' 'Maruti Alto 800 VXI'\n",
      " 'Hyundai i20 Asta (o)' 'Hyundai Verna 1.6 SX CRDi (O)'\n",
      " 'Mahindra Xylo D2 BSIV' 'Mahindra Bolero SLX 2WD BSIII'\n",
      " 'Maruti Ertiga VXI ABS' 'Honda Brio 1.2 E MT' 'Toyota Etios Liva G'\n",
      " 'Maruti Alto 800 LXI' 'Maruti Swift Dzire 1.2 Vxi BSIV'\n",
      " 'Mahindra Scorpio VLS AT 2.2 mHAWK' 'Mahindra Bolero SLX'\n",
      " 'Mahindra XUV500 W11 Option AWD' 'Tata Tiago 1.2 Revotron XZ'\n",
      " 'Mahindra Marazzo M8 8Str' 'Renault Duster 110PS Diesel RxL'\n",
      " 'Maruti Wagon R VXI' 'Chevrolet Spark 1.0 LT' 'Maruti Baleno Alpha'\n",
      " 'Hyundai EON 1.0 Kappa Magna Plus' 'Ford Figo Aspire 1.2 Ti-VCT Trend'\n",
      " 'Ford Figo Aspire Facelift']\n",
      "======================\n",
      "Unique values of Year\n",
      "[2014 2013 2017 2011 2018 2015 2016 2009 2010 2012 2003 2008 2006 2005\n",
      " 2004 2007]\n",
      "======================\n",
      "Unique values of Selling_Price\n",
      "[ 335000  475000  725000  285000  459999  925000  675000  650000  875000\n",
      "  745000  685000  750000  610000  225000  775000  325000  265000  490000\n",
      "  440000  250000  290000  300000  415000  600000  195000  310000  235000\n",
      "  495000  550000  295000  465000   35000  585000  254999  125000  105000\n",
      "  580000 1490000 2300000 1800000 1600000  275000  360000  450000  409999\n",
      " 1998999  695000 1875000 2350000 3300000 1975000  434999 1425000  395000\n",
      "  150000  525000 1450000 1473000 1250000  349000 3500000  590000  345000\n",
      "  380000 1125000  351000  400000 2075000 1700000  705000  965000  175000\n",
      "  170000  165000  145000  135000  120000  114999  111000  110000  100000\n",
      "   95000   90000   75000   80000   78000   72000   65000   60000   55000\n",
      "   52000   51000   50000   48000   45000   42000   40000   38000   31000\n",
      "   30000   27000   25000   20000   18000   17000   16000   15000   12000\n",
      "   10000  575000  515000  790000  484999 1175000  315000  645000  350000\n",
      "  825000  511000  270000  615000 1145000  390000  910000  480000  200000\n",
      "  535000  625000  595000  520000  375000 1290000  500000  540000  720000\n",
      " 1025000  850000  840000  915000  660000  365000  835000  670000  530000\n",
      " 1090000  865000  969999  210000  899000  740000  565000 1011000  640000\n",
      "  855000  950000 1150000]\n",
      "======================\n",
      "Unique values of Actual_Price\n",
      "[ 559000  953999  985000  415000  687000  983000  811999  861000  889000\n",
      "  892000  360000 1038000  994000  771000  721000 1079000  509000  798000\n",
      "  395000  571000  801000  346000  441000  499000  587000  649000  598000\n",
      "  488999  749000  994999  806000  774000  720000  227999  376000  787000\n",
      "  398000  715000  269000 1204000  928999 3061000 1977000 1021000 1504000\n",
      "  727000 1854000  680000 3596000 1861000  770000 3622999  695000 2315000\n",
      " 2045000 1374000 2091000  676000 1248000  893000 1468000 1235000 2283000\n",
      " 1489000  785000 2539000 1346000 2373000 9260000  605000 1609000 1370000\n",
      " 2278000 1864000  190000  182000  178000  160000  147000  237000  345000\n",
      "  150000  240000  140000  126000  117000  175000   95000   80000   87000\n",
      "   84000   82000   81000   74000  120000   78700   99000   94000   82600\n",
      "   55000   88000   51000   52000   54000   73000   83000   64000   72000\n",
      "  105000   56999   48000   57999   47000   75000   65000   32000  679000\n",
      "  570000  459999  443000  713000  810000 1479000 1360000  940000  760000\n",
      "  990000  682000  535000  700000  597000  580000  869999 1000000  750000\n",
      "  840000  590000 1400000 1180000  850000  790000  640000  610000 1309000\n",
      " 1160000 1100000 1250000]\n",
      "======================\n",
      "Unique values of Kms_Driven\n",
      "[ 27000  43000   6900   5200  42450   2071  18796  33429  20273  42367\n",
      "   2135  51000  15000  26000  77427  41678  35500  41442  25000   2400\n",
      "  50000  45280  56879  20000  55138  16200  44542  45000  51439  54200\n",
      "  39000  49998  48767 127000  10079  62000  24524  46706  58000  45780\n",
      "  64532  65000  25870  37000 104707  40000 135000  90000  70000  40534\n",
      "  39485  41000  40001  40588  78000  47000   6000  11000  59000  88000\n",
      "  12000  71000  56001  83000  36000  72000 135154  80000  89000  23000\n",
      "  38000 197176 142000  56000  58242  75000  29000   8700  50024   3000\n",
      "   1400   4000   1200   4100  21700  16500  18000   7000  35000  17000\n",
      "  17500  33000  14000   5400   5700  46500  11500   1300   5000   3500\n",
      "    500  11800  23500  16000  16600  32000  19000  24000  31000  13000\n",
      "   8000   4300   8600  14500   1000  42000   5500   6700  13700  38600\n",
      "  30000 213000  60000  21000   1900  22000  55000  49000 500000  53000\n",
      "  92233  28200  53460  28282   3493  12479  34797   3435  21125  35775\n",
      "  43535  22671  31604  20114  36100  12500  45078  38488  77632  61381\n",
      "  36198  22517  24678  57000  52132  15001  12900   4492  15141  11849\n",
      "  68000  60241  23709  32322  35866  34000  35934  56701  31427  48000\n",
      "  54242  53675  49562  40324  36054  29223   5600  40023  16002  40026\n",
      "  21200  19434  18828  69341  69562  27600  61203  30753  24800  21780\n",
      "  40126  14465  50456  63000   9010   9800  15059  28569  44000  10980\n",
      "  33019  60076  33988  87934   9000   5464]\n",
      "======================\n",
      "Unique values of Fuel_Type\n",
      "['Petrol' 'Diesel' 'CNG']\n",
      "======================\n",
      "Unique values of Seller_Type\n",
      "['Dealer' 'Individual']\n",
      "======================\n",
      "Unique values of Transmission\n",
      "['Manual' 'Automatic']\n",
      "======================\n",
      "Unique values of Owner\n",
      "['First Owner' 'Second Owner' 'Third Owner']\n",
      "======================\n"
     ]
    }
   ],
   "source": [
    "#Data Analysis\n",
    "\n",
    "for col in used_car.columns:\n",
    "    print('Unique values of ' + col)\n",
    "    print(used_car[col].unique())\n",
    "    print(\"======================\")"
   ]
  },
  {
   "cell_type": "code",
   "execution_count": 74,
   "id": "87959ca7-a19a-43df-badf-6532c1f5eb6d",
   "metadata": {},
   "outputs": [],
   "source": [
    "#name column has tuple in that name is too long so we will keep only first three \n",
    "#First word of full name that is only brand name \n",
    "#as it will give more better categoricol name\n",
    "# Now we will clean the dataset as per our need\n",
    "##Cleaning\n",
    "\n",
    "#first backup the copy as if while cleaning the date gets corrupted then\n",
    "#no need to reload the full dataset again , so more comfortable with backup copy, if dataset\n",
    "#is big\n",
    "\n",
    "backup=used_car.copy()"
   ]
  },
  {
   "cell_type": "code",
   "execution_count": 75,
   "id": "0504c190-e6b3-45cd-94af-57a715e85127",
   "metadata": {},
   "outputs": [],
   "source": [
    "def get_brand_name(car_name):\n",
    "    car_name = car_name.split(' ')[0]\n",
    "    return car_name.strip()"
   ]
  },
  {
   "cell_type": "code",
   "execution_count": 76,
   "id": "a7b279ad-11c9-417e-a398-0b3c46947454",
   "metadata": {},
   "outputs": [
    {
     "data": {
      "text/plain": [
       "'Maruti'"
      ]
     },
     "execution_count": 76,
     "metadata": {},
     "output_type": "execute_result"
    }
   ],
   "source": [
    "#for example\n",
    "get_brand_name('Maruti Wagon R LXI Minor')"
   ]
  },
  {
   "cell_type": "code",
   "execution_count": 77,
   "id": "f57adf19-072f-455f-b30d-24381b1ddee6",
   "metadata": {},
   "outputs": [],
   "source": [
    "used_car['car_name'] = used_car['car_name'].apply(get_brand_name)"
   ]
  },
  {
   "cell_type": "code",
   "execution_count": 78,
   "id": "edf381d3-520d-463a-bab8-d7aa0cd5d553",
   "metadata": {},
   "outputs": [
    {
     "data": {
      "text/plain": [
       "array(['Maruti', 'Hyundai', 'Datsun', 'Honda', 'Tata', 'Chevrolet',\n",
       "       'Toyota', 'Jaguar', 'Mercedes-Benz', 'Audi', 'Skoda', 'Jeep',\n",
       "       'BMW', 'Mahindra', 'Ford', 'Nissan', 'Renault', 'Fiat',\n",
       "       'Volkswagen', 'Volvo'], dtype=object)"
      ]
     },
     "execution_count": 78,
     "metadata": {},
     "output_type": "execute_result"
    }
   ],
   "source": [
    "used_car['car_name'].unique()"
   ]
  },
  {
   "cell_type": "code",
   "execution_count": 79,
   "id": "542c7d1a-4aad-4d0c-8d72-86456dd40111",
   "metadata": {},
   "outputs": [
    {
     "data": {
      "text/plain": [
       "0       Maruti\n",
       "1       Maruti\n",
       "2      Hyundai\n",
       "3       Datsun\n",
       "4        Honda\n",
       "        ...   \n",
       "296     Maruti\n",
       "297    Hyundai\n",
       "298       Ford\n",
       "299       Ford\n",
       "300    Hyundai\n",
       "Name: car_name, Length: 301, dtype: object"
      ]
     },
     "execution_count": 79,
     "metadata": {},
     "output_type": "execute_result"
    }
   ],
   "source": [
    "used_car['car_name']"
   ]
  },
  {
   "cell_type": "code",
   "execution_count": 80,
   "id": "77e9edd4-79bd-46b5-acec-58d55053cf82",
   "metadata": {},
   "outputs": [
    {
     "name": "stdout",
     "output_type": "stream",
     "text": [
      "<class 'pandas.core.frame.DataFrame'>\n",
      "RangeIndex: 301 entries, 0 to 300\n",
      "Data columns (total 9 columns):\n",
      " #   Column         Non-Null Count  Dtype \n",
      "---  ------         --------------  ----- \n",
      " 0   car_name       301 non-null    object\n",
      " 1   Year           301 non-null    int64 \n",
      " 2   Selling_Price  301 non-null    int64 \n",
      " 3   Actual_Price   301 non-null    int64 \n",
      " 4   Kms_Driven     301 non-null    int64 \n",
      " 5   Fuel_Type      301 non-null    object\n",
      " 6   Seller_Type    301 non-null    object\n",
      " 7   Transmission   301 non-null    object\n",
      " 8   Owner          301 non-null    object\n",
      "dtypes: int64(4), object(5)\n",
      "memory usage: 21.3+ KB\n"
     ]
    }
   ],
   "source": [
    "used_car.info()"
   ]
  },
  {
   "cell_type": "code",
   "execution_count": 81,
   "id": "83d44dfe-6e25-42d6-9e09-59a0e353ca00",
   "metadata": {},
   "outputs": [
    {
     "data": {
      "text/html": [
       "<div>\n",
       "<style scoped>\n",
       "    .dataframe tbody tr th:only-of-type {\n",
       "        vertical-align: middle;\n",
       "    }\n",
       "\n",
       "    .dataframe tbody tr th {\n",
       "        vertical-align: top;\n",
       "    }\n",
       "\n",
       "    .dataframe thead th {\n",
       "        text-align: right;\n",
       "    }\n",
       "</style>\n",
       "<table border=\"1\" class=\"dataframe\">\n",
       "  <thead>\n",
       "    <tr style=\"text-align: right;\">\n",
       "      <th></th>\n",
       "      <th>car_name</th>\n",
       "      <th>Year</th>\n",
       "      <th>Selling_Price</th>\n",
       "      <th>Actual_Price</th>\n",
       "      <th>Kms_Driven</th>\n",
       "      <th>Fuel_Type</th>\n",
       "      <th>Seller_Type</th>\n",
       "      <th>Transmission</th>\n",
       "      <th>Owner</th>\n",
       "    </tr>\n",
       "  </thead>\n",
       "  <tbody>\n",
       "    <tr>\n",
       "      <th>0</th>\n",
       "      <td>Maruti</td>\n",
       "      <td>2014</td>\n",
       "      <td>335000</td>\n",
       "      <td>559000</td>\n",
       "      <td>27000</td>\n",
       "      <td>Petrol</td>\n",
       "      <td>Dealer</td>\n",
       "      <td>Manual</td>\n",
       "      <td>First Owner</td>\n",
       "    </tr>\n",
       "    <tr>\n",
       "      <th>1</th>\n",
       "      <td>Maruti</td>\n",
       "      <td>2013</td>\n",
       "      <td>475000</td>\n",
       "      <td>953999</td>\n",
       "      <td>43000</td>\n",
       "      <td>Diesel</td>\n",
       "      <td>Dealer</td>\n",
       "      <td>Manual</td>\n",
       "      <td>First Owner</td>\n",
       "    </tr>\n",
       "    <tr>\n",
       "      <th>2</th>\n",
       "      <td>Hyundai</td>\n",
       "      <td>2017</td>\n",
       "      <td>725000</td>\n",
       "      <td>985000</td>\n",
       "      <td>6900</td>\n",
       "      <td>Petrol</td>\n",
       "      <td>Dealer</td>\n",
       "      <td>Manual</td>\n",
       "      <td>First Owner</td>\n",
       "    </tr>\n",
       "    <tr>\n",
       "      <th>3</th>\n",
       "      <td>Datsun</td>\n",
       "      <td>2011</td>\n",
       "      <td>285000</td>\n",
       "      <td>415000</td>\n",
       "      <td>5200</td>\n",
       "      <td>Petrol</td>\n",
       "      <td>Dealer</td>\n",
       "      <td>Manual</td>\n",
       "      <td>First Owner</td>\n",
       "    </tr>\n",
       "    <tr>\n",
       "      <th>4</th>\n",
       "      <td>Honda</td>\n",
       "      <td>2014</td>\n",
       "      <td>459999</td>\n",
       "      <td>687000</td>\n",
       "      <td>42450</td>\n",
       "      <td>Diesel</td>\n",
       "      <td>Dealer</td>\n",
       "      <td>Manual</td>\n",
       "      <td>First Owner</td>\n",
       "    </tr>\n",
       "    <tr>\n",
       "      <th>...</th>\n",
       "      <td>...</td>\n",
       "      <td>...</td>\n",
       "      <td>...</td>\n",
       "      <td>...</td>\n",
       "      <td>...</td>\n",
       "      <td>...</td>\n",
       "      <td>...</td>\n",
       "      <td>...</td>\n",
       "      <td>...</td>\n",
       "    </tr>\n",
       "    <tr>\n",
       "      <th>296</th>\n",
       "      <td>Maruti</td>\n",
       "      <td>2016</td>\n",
       "      <td>950000</td>\n",
       "      <td>1160000</td>\n",
       "      <td>33988</td>\n",
       "      <td>Diesel</td>\n",
       "      <td>Dealer</td>\n",
       "      <td>Manual</td>\n",
       "      <td>First Owner</td>\n",
       "    </tr>\n",
       "    <tr>\n",
       "      <th>297</th>\n",
       "      <td>Hyundai</td>\n",
       "      <td>2015</td>\n",
       "      <td>400000</td>\n",
       "      <td>590000</td>\n",
       "      <td>60000</td>\n",
       "      <td>Petrol</td>\n",
       "      <td>Dealer</td>\n",
       "      <td>Manual</td>\n",
       "      <td>First Owner</td>\n",
       "    </tr>\n",
       "    <tr>\n",
       "      <th>298</th>\n",
       "      <td>Ford</td>\n",
       "      <td>2009</td>\n",
       "      <td>335000</td>\n",
       "      <td>1100000</td>\n",
       "      <td>87934</td>\n",
       "      <td>Petrol</td>\n",
       "      <td>Dealer</td>\n",
       "      <td>Manual</td>\n",
       "      <td>First Owner</td>\n",
       "    </tr>\n",
       "    <tr>\n",
       "      <th>299</th>\n",
       "      <td>Ford</td>\n",
       "      <td>2017</td>\n",
       "      <td>1150000</td>\n",
       "      <td>1250000</td>\n",
       "      <td>9000</td>\n",
       "      <td>Diesel</td>\n",
       "      <td>Dealer</td>\n",
       "      <td>Manual</td>\n",
       "      <td>First Owner</td>\n",
       "    </tr>\n",
       "    <tr>\n",
       "      <th>300</th>\n",
       "      <td>Hyundai</td>\n",
       "      <td>2016</td>\n",
       "      <td>530000</td>\n",
       "      <td>590000</td>\n",
       "      <td>5464</td>\n",
       "      <td>Petrol</td>\n",
       "      <td>Dealer</td>\n",
       "      <td>Manual</td>\n",
       "      <td>First Owner</td>\n",
       "    </tr>\n",
       "  </tbody>\n",
       "</table>\n",
       "<p>301 rows × 9 columns</p>\n",
       "</div>"
      ],
      "text/plain": [
       "    car_name  Year  Selling_Price  Actual_Price  Kms_Driven Fuel_Type  \\\n",
       "0     Maruti  2014         335000        559000       27000    Petrol   \n",
       "1     Maruti  2013         475000        953999       43000    Diesel   \n",
       "2    Hyundai  2017         725000        985000        6900    Petrol   \n",
       "3     Datsun  2011         285000        415000        5200    Petrol   \n",
       "4      Honda  2014         459999        687000       42450    Diesel   \n",
       "..       ...   ...            ...           ...         ...       ...   \n",
       "296   Maruti  2016         950000       1160000       33988    Diesel   \n",
       "297  Hyundai  2015         400000        590000       60000    Petrol   \n",
       "298     Ford  2009         335000       1100000       87934    Petrol   \n",
       "299     Ford  2017        1150000       1250000        9000    Diesel   \n",
       "300  Hyundai  2016         530000        590000        5464    Petrol   \n",
       "\n",
       "    Seller_Type Transmission        Owner  \n",
       "0        Dealer       Manual  First Owner  \n",
       "1        Dealer       Manual  First Owner  \n",
       "2        Dealer       Manual  First Owner  \n",
       "3        Dealer       Manual  First Owner  \n",
       "4        Dealer       Manual  First Owner  \n",
       "..          ...          ...          ...  \n",
       "296      Dealer       Manual  First Owner  \n",
       "297      Dealer       Manual  First Owner  \n",
       "298      Dealer       Manual  First Owner  \n",
       "299      Dealer       Manual  First Owner  \n",
       "300      Dealer       Manual  First Owner  \n",
       "\n",
       "[301 rows x 9 columns]"
      ]
     },
     "execution_count": 81,
     "metadata": {},
     "output_type": "execute_result"
    }
   ],
   "source": [
    "used_car"
   ]
  },
  {
   "cell_type": "code",
   "execution_count": 82,
   "id": "31755f2a-7282-4ec9-bca2-23ad136dcc9b",
   "metadata": {},
   "outputs": [
    {
     "name": "stdout",
     "output_type": "stream",
     "text": [
      "Unique values of car_name\n",
      "['Maruti' 'Hyundai' 'Datsun' 'Honda' 'Tata' 'Chevrolet' 'Toyota' 'Jaguar'\n",
      " 'Mercedes-Benz' 'Audi' 'Skoda' 'Jeep' 'BMW' 'Mahindra' 'Ford' 'Nissan'\n",
      " 'Renault' 'Fiat' 'Volkswagen' 'Volvo']\n",
      "======================\n",
      "Unique values of Year\n",
      "[2014 2013 2017 2011 2018 2015 2016 2009 2010 2012 2003 2008 2006 2005\n",
      " 2004 2007]\n",
      "======================\n",
      "Unique values of Selling_Price\n",
      "[ 335000  475000  725000  285000  459999  925000  675000  650000  875000\n",
      "  745000  685000  750000  610000  225000  775000  325000  265000  490000\n",
      "  440000  250000  290000  300000  415000  600000  195000  310000  235000\n",
      "  495000  550000  295000  465000   35000  585000  254999  125000  105000\n",
      "  580000 1490000 2300000 1800000 1600000  275000  360000  450000  409999\n",
      " 1998999  695000 1875000 2350000 3300000 1975000  434999 1425000  395000\n",
      "  150000  525000 1450000 1473000 1250000  349000 3500000  590000  345000\n",
      "  380000 1125000  351000  400000 2075000 1700000  705000  965000  175000\n",
      "  170000  165000  145000  135000  120000  114999  111000  110000  100000\n",
      "   95000   90000   75000   80000   78000   72000   65000   60000   55000\n",
      "   52000   51000   50000   48000   45000   42000   40000   38000   31000\n",
      "   30000   27000   25000   20000   18000   17000   16000   15000   12000\n",
      "   10000  575000  515000  790000  484999 1175000  315000  645000  350000\n",
      "  825000  511000  270000  615000 1145000  390000  910000  480000  200000\n",
      "  535000  625000  595000  520000  375000 1290000  500000  540000  720000\n",
      " 1025000  850000  840000  915000  660000  365000  835000  670000  530000\n",
      " 1090000  865000  969999  210000  899000  740000  565000 1011000  640000\n",
      "  855000  950000 1150000]\n",
      "======================\n",
      "Unique values of Actual_Price\n",
      "[ 559000  953999  985000  415000  687000  983000  811999  861000  889000\n",
      "  892000  360000 1038000  994000  771000  721000 1079000  509000  798000\n",
      "  395000  571000  801000  346000  441000  499000  587000  649000  598000\n",
      "  488999  749000  994999  806000  774000  720000  227999  376000  787000\n",
      "  398000  715000  269000 1204000  928999 3061000 1977000 1021000 1504000\n",
      "  727000 1854000  680000 3596000 1861000  770000 3622999  695000 2315000\n",
      " 2045000 1374000 2091000  676000 1248000  893000 1468000 1235000 2283000\n",
      " 1489000  785000 2539000 1346000 2373000 9260000  605000 1609000 1370000\n",
      " 2278000 1864000  190000  182000  178000  160000  147000  237000  345000\n",
      "  150000  240000  140000  126000  117000  175000   95000   80000   87000\n",
      "   84000   82000   81000   74000  120000   78700   99000   94000   82600\n",
      "   55000   88000   51000   52000   54000   73000   83000   64000   72000\n",
      "  105000   56999   48000   57999   47000   75000   65000   32000  679000\n",
      "  570000  459999  443000  713000  810000 1479000 1360000  940000  760000\n",
      "  990000  682000  535000  700000  597000  580000  869999 1000000  750000\n",
      "  840000  590000 1400000 1180000  850000  790000  640000  610000 1309000\n",
      " 1160000 1100000 1250000]\n",
      "======================\n",
      "Unique values of Kms_Driven\n",
      "[ 27000  43000   6900   5200  42450   2071  18796  33429  20273  42367\n",
      "   2135  51000  15000  26000  77427  41678  35500  41442  25000   2400\n",
      "  50000  45280  56879  20000  55138  16200  44542  45000  51439  54200\n",
      "  39000  49998  48767 127000  10079  62000  24524  46706  58000  45780\n",
      "  64532  65000  25870  37000 104707  40000 135000  90000  70000  40534\n",
      "  39485  41000  40001  40588  78000  47000   6000  11000  59000  88000\n",
      "  12000  71000  56001  83000  36000  72000 135154  80000  89000  23000\n",
      "  38000 197176 142000  56000  58242  75000  29000   8700  50024   3000\n",
      "   1400   4000   1200   4100  21700  16500  18000   7000  35000  17000\n",
      "  17500  33000  14000   5400   5700  46500  11500   1300   5000   3500\n",
      "    500  11800  23500  16000  16600  32000  19000  24000  31000  13000\n",
      "   8000   4300   8600  14500   1000  42000   5500   6700  13700  38600\n",
      "  30000 213000  60000  21000   1900  22000  55000  49000 500000  53000\n",
      "  92233  28200  53460  28282   3493  12479  34797   3435  21125  35775\n",
      "  43535  22671  31604  20114  36100  12500  45078  38488  77632  61381\n",
      "  36198  22517  24678  57000  52132  15001  12900   4492  15141  11849\n",
      "  68000  60241  23709  32322  35866  34000  35934  56701  31427  48000\n",
      "  54242  53675  49562  40324  36054  29223   5600  40023  16002  40026\n",
      "  21200  19434  18828  69341  69562  27600  61203  30753  24800  21780\n",
      "  40126  14465  50456  63000   9010   9800  15059  28569  44000  10980\n",
      "  33019  60076  33988  87934   9000   5464]\n",
      "======================\n",
      "Unique values of Fuel_Type\n",
      "['Petrol' 'Diesel' 'CNG']\n",
      "======================\n",
      "Unique values of Seller_Type\n",
      "['Dealer' 'Individual']\n",
      "======================\n",
      "Unique values of Transmission\n",
      "['Manual' 'Automatic']\n",
      "======================\n",
      "Unique values of Owner\n",
      "['First Owner' 'Second Owner' 'Third Owner']\n",
      "======================\n"
     ]
    }
   ],
   "source": [
    "for col in used_car.columns:\n",
    "    print('Unique values of ' + col)\n",
    "    print(used_car[col].unique())\n",
    "    print(\"======================\")"
   ]
  },
  {
   "cell_type": "code",
   "execution_count": 83,
   "id": "bdf8fad7-6a16-4689-8848-1d6004e99f5a",
   "metadata": {},
   "outputs": [
    {
     "name": "stdout",
     "output_type": "stream",
     "text": [
      "Fuel_Type\n",
      "Petrol    239\n",
      "Diesel     60\n",
      "CNG         2\n",
      "Name: count, dtype: int64\n",
      "Seller_Type\n",
      "Dealer        195\n",
      "Individual    106\n",
      "Name: count, dtype: int64\n",
      "Transmission\n",
      "Manual       261\n",
      "Automatic     40\n",
      "Name: count, dtype: int64\n",
      "Owner\n",
      "First Owner     290\n",
      "Second Owner     10\n",
      "Third Owner       1\n",
      "Name: count, dtype: int64\n"
     ]
    }
   ],
   "source": [
    "# checking the distribution of categorical data\n",
    "print(used_car.Fuel_Type.value_counts())\n",
    "print(used_car.Seller_Type.value_counts())\n",
    "print(used_car.Transmission.value_counts())\n",
    "print(used_car.Owner.value_counts())"
   ]
  },
  {
   "cell_type": "code",
   "execution_count": 84,
   "id": "dadbe0cd-2b19-4594-9d26-a25b0978b16b",
   "metadata": {},
   "outputs": [
    {
     "data": {
      "text/plain": [
       "car_name         0\n",
       "Year             0\n",
       "Selling_Price    0\n",
       "Actual_Price     0\n",
       "Kms_Driven       0\n",
       "Fuel_Type        0\n",
       "Seller_Type      0\n",
       "Transmission     0\n",
       "Owner            0\n",
       "dtype: int64"
      ]
     },
     "execution_count": 84,
     "metadata": {},
     "output_type": "execute_result"
    }
   ],
   "source": [
    "used_car.isnull().sum()"
   ]
  },
  {
   "cell_type": "code",
   "execution_count": 85,
   "id": "88b0cb55-84d2-453e-a57d-869b76bd758f",
   "metadata": {},
   "outputs": [
    {
     "data": {
      "text/plain": [
       "<Axes: xlabel='Fuel_Type', ylabel='Selling_Price'>"
      ]
     },
     "execution_count": 85,
     "metadata": {},
     "output_type": "execute_result"
    },
    {
     "data": {
      "image/png": "[encoded data removed]",
      "text/plain": [
       "<Figure size 1400x700 with 1 Axes>"
      ]
     },
     "metadata": {},
     "output_type": "display_data"
    }
   ],
   "source": [
    "import matplotlib.pyplot as plt\n",
    "import seaborn as sns\n",
    "plt.subplots(figsize=(14,7))\n",
    "sns.boxplot(x='Fuel_Type',y='Selling_Price',data=used_car)"
   ]
  },
  {
   "cell_type": "code",
   "execution_count": 86,
   "id": "ce3380d4-9baa-4805-a94a-9d0247d09539",
   "metadata": {},
   "outputs": [
    {
     "data": {
      "text/plain": [
       "<Axes: xlabel='Owner', ylabel='Selling_Price'>"
      ]
     },
     "execution_count": 86,
     "metadata": {},
     "output_type": "execute_result"
    },
    {
     "data": {
      "image/png": "[encoded data removed]",
      "text/plain": [
       "<Figure size 1400x700 with 1 Axes>"
      ]
     },
     "metadata": {},
     "output_type": "display_data"
    }
   ],
   "source": [
    "import seaborn as sns\n",
    "plt.subplots(figsize=(14,7))\n",
    "sns.boxplot(x='Owner',y='Selling_Price',data=used_car)"
   ]
  },
  {
   "cell_type": "code",
   "execution_count": 87,
   "id": "652f12cf-3d56-48c9-a51c-f61a58e25778",
   "metadata": {},
   "outputs": [
    {
     "data": {
      "text/html": [
       "<div>\n",
       "<style scoped>\n",
       "    .dataframe tbody tr th:only-of-type {\n",
       "        vertical-align: middle;\n",
       "    }\n",
       "\n",
       "    .dataframe tbody tr th {\n",
       "        vertical-align: top;\n",
       "    }\n",
       "\n",
       "    .dataframe thead th {\n",
       "        text-align: right;\n",
       "    }\n",
       "</style>\n",
       "<table border=\"1\" class=\"dataframe\">\n",
       "  <thead>\n",
       "    <tr style=\"text-align: right;\">\n",
       "      <th></th>\n",
       "      <th>car_name</th>\n",
       "      <th>Year</th>\n",
       "      <th>Selling_Price</th>\n",
       "      <th>Actual_Price</th>\n",
       "      <th>Kms_Driven</th>\n",
       "      <th>Fuel_Type</th>\n",
       "      <th>Seller_Type</th>\n",
       "      <th>Transmission</th>\n",
       "      <th>Owner</th>\n",
       "    </tr>\n",
       "  </thead>\n",
       "  <tbody>\n",
       "    <tr>\n",
       "      <th>85</th>\n",
       "      <td>Hyundai</td>\n",
       "      <td>2006</td>\n",
       "      <td>250000</td>\n",
       "      <td>2373000</td>\n",
       "      <td>142000</td>\n",
       "      <td>Petrol</td>\n",
       "      <td>Individual</td>\n",
       "      <td>Automatic</td>\n",
       "      <td>Third Owner</td>\n",
       "    </tr>\n",
       "  </tbody>\n",
       "</table>\n",
       "</div>"
      ],
      "text/plain": [
       "   car_name  Year  Selling_Price  Actual_Price  Kms_Driven Fuel_Type  \\\n",
       "85  Hyundai  2006         250000       2373000      142000    Petrol   \n",
       "\n",
       "   Seller_Type Transmission        Owner  \n",
       "85  Individual    Automatic  Third Owner  "
      ]
     },
     "execution_count": 87,
     "metadata": {},
     "output_type": "execute_result"
    }
   ],
   "source": [
    "used_car[used_car['Owner']=='Third Owner']"
   ]
  },
  {
   "cell_type": "code",
   "execution_count": 88,
   "id": "68459f94-c312-47cb-ac76-f1f86173d9d4",
   "metadata": {},
   "outputs": [],
   "source": [
    "#used_car=used_car[used_car['Owner']=='Third Owner'].reset_index(drop=True)"
   ]
  },
  {
   "cell_type": "code",
   "execution_count": 89,
   "id": "abb6f6da-a96e-4b7b-9758-ef5239b6a98c",
   "metadata": {},
   "outputs": [
    {
     "data": {
      "text/plain": [
       "<seaborn.axisgrid.FacetGrid at 0x134ae8a90>"
      ]
     },
     "execution_count": 89,
     "metadata": {},
     "output_type": "execute_result"
    },
    {
     "data": {
      "image/png": "[encoded data removed]",
      "text/plain": [
       "<Figure size 1050x700 with 1 Axes>"
      ]
     },
     "metadata": {},
     "output_type": "display_data"
    }
   ],
   "source": [
    "sns.relplot(x='Kms_Driven',y='Selling_Price',data=used_car,height=7,aspect=1.5)"
   ]
  },
  {
   "cell_type": "code",
   "execution_count": 90,
   "id": "154cbaac-f667-4b47-945f-51a326908d56",
   "metadata": {},
   "outputs": [
    {
     "data": {
      "text/html": [
       "<div>\n",
       "<style scoped>\n",
       "    .dataframe tbody tr th:only-of-type {\n",
       "        vertical-align: middle;\n",
       "    }\n",
       "\n",
       "    .dataframe tbody tr th {\n",
       "        vertical-align: top;\n",
       "    }\n",
       "\n",
       "    .dataframe thead th {\n",
       "        text-align: right;\n",
       "    }\n",
       "</style>\n",
       "<table border=\"1\" class=\"dataframe\">\n",
       "  <thead>\n",
       "    <tr style=\"text-align: right;\">\n",
       "      <th></th>\n",
       "      <th>car_name</th>\n",
       "      <th>Year</th>\n",
       "      <th>Selling_Price</th>\n",
       "      <th>Actual_Price</th>\n",
       "      <th>Kms_Driven</th>\n",
       "      <th>Fuel_Type</th>\n",
       "      <th>Seller_Type</th>\n",
       "      <th>Transmission</th>\n",
       "      <th>Owner</th>\n",
       "    </tr>\n",
       "  </thead>\n",
       "  <tbody>\n",
       "    <tr>\n",
       "      <th>64</th>\n",
       "      <td>Tata</td>\n",
       "      <td>2017</td>\n",
       "      <td>3300000</td>\n",
       "      <td>3622999</td>\n",
       "      <td>6000</td>\n",
       "      <td>Diesel</td>\n",
       "      <td>Dealer</td>\n",
       "      <td>Automatic</td>\n",
       "      <td>First Owner</td>\n",
       "    </tr>\n",
       "    <tr>\n",
       "      <th>86</th>\n",
       "      <td>Honda</td>\n",
       "      <td>2010</td>\n",
       "      <td>3500000</td>\n",
       "      <td>9260000</td>\n",
       "      <td>78000</td>\n",
       "      <td>Diesel</td>\n",
       "      <td>Dealer</td>\n",
       "      <td>Manual</td>\n",
       "      <td>First Owner</td>\n",
       "    </tr>\n",
       "  </tbody>\n",
       "</table>\n",
       "</div>"
      ],
      "text/plain": [
       "   car_name  Year  Selling_Price  Actual_Price  Kms_Driven Fuel_Type  \\\n",
       "64     Tata  2017        3300000       3622999        6000    Diesel   \n",
       "86    Honda  2010        3500000       9260000       78000    Diesel   \n",
       "\n",
       "   Seller_Type Transmission        Owner  \n",
       "64      Dealer    Automatic  First Owner  \n",
       "86      Dealer       Manual  First Owner  "
      ]
     },
     "execution_count": 90,
     "metadata": {},
     "output_type": "execute_result"
    }
   ],
   "source": [
    "#outliers we r rwmobing based on above plot\n",
    "#drop that column\n",
    "used_car[used_car['Selling_Price']>3e6]\n"
   ]
  },
  {
   "cell_type": "code",
   "execution_count": 91,
   "id": "2f28c354-61eb-4e4e-ab54-1e497046e01d",
   "metadata": {},
   "outputs": [],
   "source": [
    "used_car=used_car[used_car['Selling_Price']<6e6].reset_index(drop=True)"
   ]
  },
  {
   "cell_type": "code",
   "execution_count": 92,
   "id": "18b22337-2d93-485a-8442-f52dfba4d4f9",
   "metadata": {},
   "outputs": [],
   "source": [
    "#now for better understanding i am saving the this cleaned csv in file with other name\n",
    "used_car.to_csv('Cleaned_used_cars_dataset.csv')"
   ]
  },
  {
   "cell_type": "code",
   "execution_count": 93,
   "id": "e3971ba2-d47b-4041-922a-3e61a2714892",
   "metadata": {},
   "outputs": [],
   "source": [
    "##Build the Model\n",
    "\n",
    "#extract the feature and not want drop , will come all in X\n",
    "#and target column price ,which is dropped will come in y \n",
    "\n",
    "X=used_car.drop(columns=['Selling_Price'])\n",
    "y=used_car['Selling_Price']  #target column"
   ]
  },
  {
   "cell_type": "code",
   "execution_count": 94,
   "id": "635dfc7e-487c-487d-93fe-37eddc28d4c9",
   "metadata": {},
   "outputs": [
    {
     "data": {
      "text/html": [
       "<div>\n",
       "<style scoped>\n",
       "    .dataframe tbody tr th:only-of-type {\n",
       "        vertical-align: middle;\n",
       "    }\n",
       "\n",
       "    .dataframe tbody tr th {\n",
       "        vertical-align: top;\n",
       "    }\n",
       "\n",
       "    .dataframe thead th {\n",
       "        text-align: right;\n",
       "    }\n",
       "</style>\n",
       "<table border=\"1\" class=\"dataframe\">\n",
       "  <thead>\n",
       "    <tr style=\"text-align: right;\">\n",
       "      <th></th>\n",
       "      <th>car_name</th>\n",
       "      <th>Year</th>\n",
       "      <th>Actual_Price</th>\n",
       "      <th>Kms_Driven</th>\n",
       "      <th>Fuel_Type</th>\n",
       "      <th>Seller_Type</th>\n",
       "      <th>Transmission</th>\n",
       "      <th>Owner</th>\n",
       "    </tr>\n",
       "  </thead>\n",
       "  <tbody>\n",
       "    <tr>\n",
       "      <th>0</th>\n",
       "      <td>Maruti</td>\n",
       "      <td>2014</td>\n",
       "      <td>559000</td>\n",
       "      <td>27000</td>\n",
       "      <td>Petrol</td>\n",
       "      <td>Dealer</td>\n",
       "      <td>Manual</td>\n",
       "      <td>First Owner</td>\n",
       "    </tr>\n",
       "    <tr>\n",
       "      <th>1</th>\n",
       "      <td>Maruti</td>\n",
       "      <td>2013</td>\n",
       "      <td>953999</td>\n",
       "      <td>43000</td>\n",
       "      <td>Diesel</td>\n",
       "      <td>Dealer</td>\n",
       "      <td>Manual</td>\n",
       "      <td>First Owner</td>\n",
       "    </tr>\n",
       "    <tr>\n",
       "      <th>2</th>\n",
       "      <td>Hyundai</td>\n",
       "      <td>2017</td>\n",
       "      <td>985000</td>\n",
       "      <td>6900</td>\n",
       "      <td>Petrol</td>\n",
       "      <td>Dealer</td>\n",
       "      <td>Manual</td>\n",
       "      <td>First Owner</td>\n",
       "    </tr>\n",
       "    <tr>\n",
       "      <th>3</th>\n",
       "      <td>Datsun</td>\n",
       "      <td>2011</td>\n",
       "      <td>415000</td>\n",
       "      <td>5200</td>\n",
       "      <td>Petrol</td>\n",
       "      <td>Dealer</td>\n",
       "      <td>Manual</td>\n",
       "      <td>First Owner</td>\n",
       "    </tr>\n",
       "    <tr>\n",
       "      <th>4</th>\n",
       "      <td>Honda</td>\n",
       "      <td>2014</td>\n",
       "      <td>687000</td>\n",
       "      <td>42450</td>\n",
       "      <td>Diesel</td>\n",
       "      <td>Dealer</td>\n",
       "      <td>Manual</td>\n",
       "      <td>First Owner</td>\n",
       "    </tr>\n",
       "    <tr>\n",
       "      <th>...</th>\n",
       "      <td>...</td>\n",
       "      <td>...</td>\n",
       "      <td>...</td>\n",
       "      <td>...</td>\n",
       "      <td>...</td>\n",
       "      <td>...</td>\n",
       "      <td>...</td>\n",
       "      <td>...</td>\n",
       "    </tr>\n",
       "    <tr>\n",
       "      <th>296</th>\n",
       "      <td>Maruti</td>\n",
       "      <td>2016</td>\n",
       "      <td>1160000</td>\n",
       "      <td>33988</td>\n",
       "      <td>Diesel</td>\n",
       "      <td>Dealer</td>\n",
       "      <td>Manual</td>\n",
       "      <td>First Owner</td>\n",
       "    </tr>\n",
       "    <tr>\n",
       "      <th>297</th>\n",
       "      <td>Hyundai</td>\n",
       "      <td>2015</td>\n",
       "      <td>590000</td>\n",
       "      <td>60000</td>\n",
       "      <td>Petrol</td>\n",
       "      <td>Dealer</td>\n",
       "      <td>Manual</td>\n",
       "      <td>First Owner</td>\n",
       "    </tr>\n",
       "    <tr>\n",
       "      <th>298</th>\n",
       "      <td>Ford</td>\n",
       "      <td>2009</td>\n",
       "      <td>1100000</td>\n",
       "      <td>87934</td>\n",
       "      <td>Petrol</td>\n",
       "      <td>Dealer</td>\n",
       "      <td>Manual</td>\n",
       "      <td>First Owner</td>\n",
       "    </tr>\n",
       "    <tr>\n",
       "      <th>299</th>\n",
       "      <td>Ford</td>\n",
       "      <td>2017</td>\n",
       "      <td>1250000</td>\n",
       "      <td>9000</td>\n",
       "      <td>Diesel</td>\n",
       "      <td>Dealer</td>\n",
       "      <td>Manual</td>\n",
       "      <td>First Owner</td>\n",
       "    </tr>\n",
       "    <tr>\n",
       "      <th>300</th>\n",
       "      <td>Hyundai</td>\n",
       "      <td>2016</td>\n",
       "      <td>590000</td>\n",
       "      <td>5464</td>\n",
       "      <td>Petrol</td>\n",
       "      <td>Dealer</td>\n",
       "      <td>Manual</td>\n",
       "      <td>First Owner</td>\n",
       "    </tr>\n",
       "  </tbody>\n",
       "</table>\n",
       "<p>301 rows × 8 columns</p>\n",
       "</div>"
      ],
      "text/plain": [
       "    car_name  Year  Actual_Price  Kms_Driven Fuel_Type Seller_Type  \\\n",
       "0     Maruti  2014        559000       27000    Petrol      Dealer   \n",
       "1     Maruti  2013        953999       43000    Diesel      Dealer   \n",
       "2    Hyundai  2017        985000        6900    Petrol      Dealer   \n",
       "3     Datsun  2011        415000        5200    Petrol      Dealer   \n",
       "4      Honda  2014        687000       42450    Diesel      Dealer   \n",
       "..       ...   ...           ...         ...       ...         ...   \n",
       "296   Maruti  2016       1160000       33988    Diesel      Dealer   \n",
       "297  Hyundai  2015        590000       60000    Petrol      Dealer   \n",
       "298     Ford  2009       1100000       87934    Petrol      Dealer   \n",
       "299     Ford  2017       1250000        9000    Diesel      Dealer   \n",
       "300  Hyundai  2016        590000        5464    Petrol      Dealer   \n",
       "\n",
       "    Transmission        Owner  \n",
       "0         Manual  First Owner  \n",
       "1         Manual  First Owner  \n",
       "2         Manual  First Owner  \n",
       "3         Manual  First Owner  \n",
       "4         Manual  First Owner  \n",
       "..           ...          ...  \n",
       "296       Manual  First Owner  \n",
       "297       Manual  First Owner  \n",
       "298       Manual  First Owner  \n",
       "299       Manual  First Owner  \n",
       "300       Manual  First Owner  \n",
       "\n",
       "[301 rows x 8 columns]"
      ]
     },
     "execution_count": 94,
     "metadata": {},
     "output_type": "execute_result"
    }
   ],
   "source": [
    "X #all features except price"
   ]
  },
  {
   "cell_type": "code",
   "execution_count": 95,
   "id": "f45948f3-8293-4f00-91be-9e795da1a254",
   "metadata": {},
   "outputs": [
    {
     "data": {
      "text/plain": [
       "0       335000\n",
       "1       475000\n",
       "2       725000\n",
       "3       285000\n",
       "4       459999\n",
       "        ...   \n",
       "296     950000\n",
       "297     400000\n",
       "298     335000\n",
       "299    1150000\n",
       "300     530000\n",
       "Name: Selling_Price, Length: 301, dtype: int64"
      ]
     },
     "execution_count": 95,
     "metadata": {},
     "output_type": "execute_result"
    }
   ],
   "source": [
    "y # target column"
   ]
  },
  {
   "cell_type": "code",
   "execution_count": 96,
   "id": "e990799c-d8bc-4c12-92e8-9a77e3435f51",
   "metadata": {},
   "outputs": [],
   "source": [
    "#we will import necessary files all\n",
    "#train_test_split from sklearn\n",
    "\n",
    "from sklearn.model_selection import train_test_split\n",
    "X_train,X_test,y_train,y_test=train_test_split(X,y, test_size=0.1,random_state=2)"
   ]
  },
  {
   "cell_type": "code",
   "execution_count": 97,
   "id": "5e3d549c-1b21-4b37-97b7-d98a7dfa33a5",
   "metadata": {},
   "outputs": [],
   "source": [
    "#using linerRegression model\n",
    "from sklearn.linear_model import LinearRegression"
   ]
  },
  {
   "cell_type": "code",
   "execution_count": 98,
   "id": "0d95352f-b248-4274-b4fb-8ba2df8551a2",
   "metadata": {},
   "outputs": [
    {
     "name": "stdout",
     "output_type": "stream",
     "text": [
      "<class 'pandas.core.frame.DataFrame'>\n",
      "RangeIndex: 301 entries, 0 to 300\n",
      "Data columns (total 9 columns):\n",
      " #   Column         Non-Null Count  Dtype \n",
      "---  ------         --------------  ----- \n",
      " 0   car_name       301 non-null    object\n",
      " 1   Year           301 non-null    int64 \n",
      " 2   Selling_Price  301 non-null    int64 \n",
      " 3   Actual_Price   301 non-null    int64 \n",
      " 4   Kms_Driven     301 non-null    int64 \n",
      " 5   Fuel_Type      301 non-null    object\n",
      " 6   Seller_Type    301 non-null    object\n",
      " 7   Transmission   301 non-null    object\n",
      " 8   Owner          301 non-null    object\n",
      "dtypes: int64(4), object(5)\n",
      "memory usage: 21.3+ KB\n"
     ]
    }
   ],
   "source": [
    "used_car.info()"
   ]
  },
  {
   "cell_type": "code",
   "execution_count": 99,
   "id": "bf3f0253-aed5-4bd7-bd31-0c6d83a35ec6",
   "metadata": {},
   "outputs": [
    {
     "data": {
      "text/html": [
       "<style>#sk-container-id-3 {color: black;background-color: white;}#sk-container-id-3 pre{padding: 0;}#sk-container-id-3 div.sk-toggleable {background-color: white;}#sk-container-id-3 label.sk-toggleable__label {cursor: pointer;display: block;width: 100%;margin-bottom: 0;padding: 0.3em;box-sizing: border-box;text-align: center;}#sk-container-id-3 label.sk-toggleable__label-arrow:before {content: \"▸\";float: left;margin-right: 0.25em;color: #696969;}#sk-container-id-3 label.sk-toggleable__label-arrow:hover:before {color: black;}#sk-container-id-3 div.sk-estimator:hover label.sk-toggleable__label-arrow:before {color: black;}#sk-container-id-3 div.sk-toggleable__content {max-height: 0;max-width: 0;overflow: hidden;text-align: left;background-color: #f0f8ff;}#sk-container-id-3 div.sk-toggleable__content pre {margin: 0.2em;color: black;border-radius: 0.25em;background-color: #f0f8ff;}#sk-container-id-3 input.sk-toggleable__control:checked~div.sk-toggleable__content {max-height: 200px;max-width: 100%;overflow: auto;}#sk-container-id-3 input.sk-toggleable__control:checked~label.sk-toggleable__label-arrow:before {content: \"▾\";}#sk-container-id-3 div.sk-estimator input.sk-toggleable__control:checked~label.sk-toggleable__label {background-color: #d4ebff;}#sk-container-id-3 div.sk-label input.sk-toggleable__control:checked~label.sk-toggleable__label {background-color: #d4ebff;}#sk-container-id-3 input.sk-hidden--visually {border: 0;clip: rect(1px 1px 1px 1px);clip: rect(1px, 1px, 1px, 1px);height: 1px;margin: -1px;overflow: hidden;padding: 0;position: absolute;width: 1px;}#sk-container-id-3 div.sk-estimator {font-family: monospace;background-color: #f0f8ff;border: 1px dotted black;border-radius: 0.25em;box-sizing: border-box;margin-bottom: 0.5em;}#sk-container-id-3 div.sk-estimator:hover {background-color: #d4ebff;}#sk-container-id-3 div.sk-parallel-item::after {content: \"\";width: 100%;border-bottom: 1px solid gray;flex-grow: 1;}#sk-container-id-3 div.sk-label:hover label.sk-toggleable__label {background-color: #d4ebff;}#sk-container-id-3 div.sk-serial::before {content: \"\";position: absolute;border-left: 1px solid gray;box-sizing: border-box;top: 0;bottom: 0;left: 50%;z-index: 0;}#sk-container-id-3 div.sk-serial {display: flex;flex-direction: column;align-items: center;background-color: white;padding-right: 0.2em;padding-left: 0.2em;position: relative;}#sk-container-id-3 div.sk-item {position: relative;z-index: 1;}#sk-container-id-3 div.sk-parallel {display: flex;align-items: stretch;justify-content: center;background-color: white;position: relative;}#sk-container-id-3 div.sk-item::before, #sk-container-id-3 div.sk-parallel-item::before {content: \"\";position: absolute;border-left: 1px solid gray;box-sizing: border-box;top: 0;bottom: 0;left: 50%;z-index: -1;}#sk-container-id-3 div.sk-parallel-item {display: flex;flex-direction: column;z-index: 1;position: relative;background-color: white;}#sk-container-id-3 div.sk-parallel-item:first-child::after {align-self: flex-end;width: 50%;}#sk-container-id-3 div.sk-parallel-item:last-child::after {align-self: flex-start;width: 50%;}#sk-container-id-3 div.sk-parallel-item:only-child::after {width: 0;}#sk-container-id-3 div.sk-dashed-wrapped {border: 1px dashed gray;margin: 0 0.4em 0.5em 0.4em;box-sizing: border-box;padding-bottom: 0.4em;background-color: white;}#sk-container-id-3 div.sk-label label {font-family: monospace;font-weight: bold;display: inline-block;line-height: 1.2em;}#sk-container-id-3 div.sk-label-container {text-align: center;}#sk-container-id-3 div.sk-container {/* jupyter's `normalize.less` sets `[hidden] { display: none; }` but bootstrap.min.css set `[hidden] { display: none !important; }` so we also need the `!important` here to be able to override the default hidden behavior on the sphinx rendered scikit-learn.org. See: https://github.com/scikit-learn/scikit-learn/issues/21755 */display: inline-block !important;position: relative;}#sk-container-id-3 div.sk-text-repr-fallback {display: none;}</style><div id=\"sk-container-id-3\" class=\"sk-top-container\"><div class=\"sk-text-repr-fallback\"><pre>OneHotEncoder()</pre><b>In a Jupyter environment, please rerun this cell to show the HTML representation or trust the notebook. <br />On GitHub, the HTML representation is unable to render, please try loading this page with nbviewer.org.</b></div><div class=\"sk-container\" hidden><div class=\"sk-item\"><div class=\"sk-estimator sk-toggleable\"><input class=\"sk-toggleable__control sk-hidden--visually\" id=\"sk-estimator-id-9\" type=\"checkbox\" checked><label for=\"sk-estimator-id-9\" class=\"sk-toggleable__label sk-toggleable__label-arrow\">OneHotEncoder</label><div class=\"sk-toggleable__content\"><pre>OneHotEncoder()</pre></div></div></div></div></div>"
      ],
      "text/plain": [
       "OneHotEncoder()"
      ]
     },
     "execution_count": 99,
     "metadata": {},
     "output_type": "execute_result"
    }
   ],
   "source": [
    "#now in onehatencoder we r gona make the object of onehatencoder\n",
    "#and in that we r gona fit all categorical values of X\n",
    "\n",
    "from sklearn.preprocessing import OneHotEncoder\n",
    "ohe = OneHotEncoder()\n",
    "ohe.fit(X[['car_name','Fuel_Type','Seller_Type','Transmission','Owner']])\n"
   ]
  },
  {
   "cell_type": "code",
   "execution_count": 100,
   "id": "3a6ccf9b-9b20-4685-8f59-2191c47746ef",
   "metadata": {},
   "outputs": [],
   "source": [
    "#now transform all X_traine and X_test using this onehotencoder\n",
    "\n",
    "from sklearn.compose import make_column_transformer\n",
    "from sklearn.pipeline import make_pipeline"
   ]
  },
  {
   "cell_type": "code",
   "execution_count": 101,
   "id": "72a40a2c-4789-44ac-a1ad-b83b2a85bd3a",
   "metadata": {},
   "outputs": [
    {
     "data": {
      "text/plain": [
       "[array(['Audi', 'BMW', 'Chevrolet', 'Datsun', 'Fiat', 'Ford', 'Honda',\n",
       "        'Hyundai', 'Jaguar', 'Jeep', 'Mahindra', 'Maruti', 'Mercedes-Benz',\n",
       "        'Nissan', 'Renault', 'Skoda', 'Tata', 'Toyota', 'Volkswagen',\n",
       "        'Volvo'], dtype=object),\n",
       " array(['CNG', 'Diesel', 'Petrol'], dtype=object),\n",
       " array(['Dealer', 'Individual'], dtype=object),\n",
       " array(['Automatic', 'Manual'], dtype=object),\n",
       " array(['First Owner', 'Second Owner', 'Third Owner'], dtype=object)]"
      ]
     },
     "execution_count": 101,
     "metadata": {},
     "output_type": "execute_result"
    }
   ],
   "source": [
    "ohe.categories_"
   ]
  },
  {
   "cell_type": "code",
   "execution_count": 102,
   "id": "dfe0a230-0bee-4d06-b167-27745b5b4a49",
   "metadata": {},
   "outputs": [],
   "source": [
    "column_trans=make_column_transformer((OneHotEncoder(categories=ohe.categories_),['car_name','Fuel_Type','Seller_Type','Transmission','Owner']),\n",
    "                                  remainder='passthrough')"
   ]
  },
  {
   "cell_type": "code",
   "execution_count": 103,
   "id": "617eda14-3198-4706-a842-928a746bbb51",
   "metadata": {},
   "outputs": [],
   "source": [
    "linear_reg=LinearRegression()"
   ]
  },
  {
   "cell_type": "code",
   "execution_count": 104,
   "id": "2230f160-2371-44ee-bd17-a60fe033c28e",
   "metadata": {},
   "outputs": [],
   "source": [
    "pipe_linear=make_pipeline(column_trans,linear_reg)"
   ]
  },
  {
   "cell_type": "code",
   "execution_count": 105,
   "id": "80f78811-e99c-4e69-a341-dda08ad080de",
   "metadata": {},
   "outputs": [
    {
     "data": {
      "text/html": [
       "<style>#sk-container-id-4 {color: black;background-color: white;}#sk-container-id-4 pre{padding: 0;}#sk-container-id-4 div.sk-toggleable {background-color: white;}#sk-container-id-4 label.sk-toggleable__label {cursor: pointer;display: block;width: 100%;margin-bottom: 0;padding: 0.3em;box-sizing: border-box;text-align: center;}#sk-container-id-4 label.sk-toggleable__label-arrow:before {content: \"▸\";float: left;margin-right: 0.25em;color: #696969;}#sk-container-id-4 label.sk-toggleable__label-arrow:hover:before {color: black;}#sk-container-id-4 div.sk-estimator:hover label.sk-toggleable__label-arrow:before {color: black;}#sk-container-id-4 div.sk-toggleable__content {max-height: 0;max-width: 0;overflow: hidden;text-align: left;background-color: #f0f8ff;}#sk-container-id-4 div.sk-toggleable__content pre {margin: 0.2em;color: black;border-radius: 0.25em;background-color: #f0f8ff;}#sk-container-id-4 input.sk-toggleable__control:checked~div.sk-toggleable__content {max-height: 200px;max-width: 100%;overflow: auto;}#sk-container-id-4 input.sk-toggleable__control:checked~label.sk-toggleable__label-arrow:before {content: \"▾\";}#sk-container-id-4 div.sk-estimator input.sk-toggleable__control:checked~label.sk-toggleable__label {background-color: #d4ebff;}#sk-container-id-4 div.sk-label input.sk-toggleable__control:checked~label.sk-toggleable__label {background-color: #d4ebff;}#sk-container-id-4 input.sk-hidden--visually {border: 0;clip: rect(1px 1px 1px 1px);clip: rect(1px, 1px, 1px, 1px);height: 1px;margin: -1px;overflow: hidden;padding: 0;position: absolute;width: 1px;}#sk-container-id-4 div.sk-estimator {font-family: monospace;background-color: #f0f8ff;border: 1px dotted black;border-radius: 0.25em;box-sizing: border-box;margin-bottom: 0.5em;}#sk-container-id-4 div.sk-estimator:hover {background-color: #d4ebff;}#sk-container-id-4 div.sk-parallel-item::after {content: \"\";width: 100%;border-bottom: 1px solid gray;flex-grow: 1;}#sk-container-id-4 div.sk-label:hover label.sk-toggleable__label {background-color: #d4ebff;}#sk-container-id-4 div.sk-serial::before {content: \"\";position: absolute;border-left: 1px solid gray;box-sizing: border-box;top: 0;bottom: 0;left: 50%;z-index: 0;}#sk-container-id-4 div.sk-serial {display: flex;flex-direction: column;align-items: center;background-color: white;padding-right: 0.2em;padding-left: 0.2em;position: relative;}#sk-container-id-4 div.sk-item {position: relative;z-index: 1;}#sk-container-id-4 div.sk-parallel {display: flex;align-items: stretch;justify-content: center;background-color: white;position: relative;}#sk-container-id-4 div.sk-item::before, #sk-container-id-4 div.sk-parallel-item::before {content: \"\";position: absolute;border-left: 1px solid gray;box-sizing: border-box;top: 0;bottom: 0;left: 50%;z-index: -1;}#sk-container-id-4 div.sk-parallel-item {display: flex;flex-direction: column;z-index: 1;position: relative;background-color: white;}#sk-container-id-4 div.sk-parallel-item:first-child::after {align-self: flex-end;width: 50%;}#sk-container-id-4 div.sk-parallel-item:last-child::after {align-self: flex-start;width: 50%;}#sk-container-id-4 div.sk-parallel-item:only-child::after {width: 0;}#sk-container-id-4 div.sk-dashed-wrapped {border: 1px dashed gray;margin: 0 0.4em 0.5em 0.4em;box-sizing: border-box;padding-bottom: 0.4em;background-color: white;}#sk-container-id-4 div.sk-label label {font-family: monospace;font-weight: bold;display: inline-block;line-height: 1.2em;}#sk-container-id-4 div.sk-label-container {text-align: center;}#sk-container-id-4 div.sk-container {/* jupyter's `normalize.less` sets `[hidden] { display: none; }` but bootstrap.min.css set `[hidden] { display: none !important; }` so we also need the `!important` here to be able to override the default hidden behavior on the sphinx rendered scikit-learn.org. See: https://github.com/scikit-learn/scikit-learn/issues/21755 */display: inline-block !important;position: relative;}#sk-container-id-4 div.sk-text-repr-fallback {display: none;}</style><div id=\"sk-container-id-4\" class=\"sk-top-container\"><div class=\"sk-text-repr-fallback\"><pre>Pipeline(steps=[(&#x27;columntransformer&#x27;,\n",
       "                 ColumnTransformer(remainder=&#x27;passthrough&#x27;,\n",
       "                                   transformers=[(&#x27;onehotencoder&#x27;,\n",
       "                                                  OneHotEncoder(categories=[array([&#x27;Audi&#x27;, &#x27;BMW&#x27;, &#x27;Chevrolet&#x27;, &#x27;Datsun&#x27;, &#x27;Fiat&#x27;, &#x27;Ford&#x27;, &#x27;Honda&#x27;,\n",
       "       &#x27;Hyundai&#x27;, &#x27;Jaguar&#x27;, &#x27;Jeep&#x27;, &#x27;Mahindra&#x27;, &#x27;Maruti&#x27;, &#x27;Mercedes-Benz&#x27;,\n",
       "       &#x27;Nissan&#x27;, &#x27;Renault&#x27;, &#x27;Skoda&#x27;, &#x27;Tata&#x27;, &#x27;Toyota&#x27;, &#x27;Volkswagen&#x27;,\n",
       "       &#x27;Volvo&#x27;], dtype=object),\n",
       "                                                                            array([&#x27;CNG&#x27;, &#x27;Diesel&#x27;, &#x27;Petrol&#x27;], dtype=object),\n",
       "                                                                            array([&#x27;Dealer&#x27;, &#x27;Individual&#x27;], dtype=object),\n",
       "                                                                            array([&#x27;Automatic&#x27;, &#x27;Manual&#x27;], dtype=object),\n",
       "                                                                            array([&#x27;First Owner&#x27;, &#x27;Second Owner&#x27;, &#x27;Third Owner&#x27;], dtype=object)]),\n",
       "                                                  [&#x27;car_name&#x27;, &#x27;Fuel_Type&#x27;,\n",
       "                                                   &#x27;Seller_Type&#x27;,\n",
       "                                                   &#x27;Transmission&#x27;,\n",
       "                                                   &#x27;Owner&#x27;])])),\n",
       "                (&#x27;linearregression&#x27;, LinearRegression())])</pre><b>In a Jupyter environment, please rerun this cell to show the HTML representation or trust the notebook. <br />On GitHub, the HTML representation is unable to render, please try loading this page with nbviewer.org.</b></div><div class=\"sk-container\" hidden><div class=\"sk-item sk-dashed-wrapped\"><div class=\"sk-label-container\"><div class=\"sk-label sk-toggleable\"><input class=\"sk-toggleable__control sk-hidden--visually\" id=\"sk-estimator-id-10\" type=\"checkbox\" ><label for=\"sk-estimator-id-10\" class=\"sk-toggleable__label sk-toggleable__label-arrow\">Pipeline</label><div class=\"sk-toggleable__content\"><pre>Pipeline(steps=[(&#x27;columntransformer&#x27;,\n",
       "                 ColumnTransformer(remainder=&#x27;passthrough&#x27;,\n",
       "                                   transformers=[(&#x27;onehotencoder&#x27;,\n",
       "                                                  OneHotEncoder(categories=[array([&#x27;Audi&#x27;, &#x27;BMW&#x27;, &#x27;Chevrolet&#x27;, &#x27;Datsun&#x27;, &#x27;Fiat&#x27;, &#x27;Ford&#x27;, &#x27;Honda&#x27;,\n",
       "       &#x27;Hyundai&#x27;, &#x27;Jaguar&#x27;, &#x27;Jeep&#x27;, &#x27;Mahindra&#x27;, &#x27;Maruti&#x27;, &#x27;Mercedes-Benz&#x27;,\n",
       "       &#x27;Nissan&#x27;, &#x27;Renault&#x27;, &#x27;Skoda&#x27;, &#x27;Tata&#x27;, &#x27;Toyota&#x27;, &#x27;Volkswagen&#x27;,\n",
       "       &#x27;Volvo&#x27;], dtype=object),\n",
       "                                                                            array([&#x27;CNG&#x27;, &#x27;Diesel&#x27;, &#x27;Petrol&#x27;], dtype=object),\n",
       "                                                                            array([&#x27;Dealer&#x27;, &#x27;Individual&#x27;], dtype=object),\n",
       "                                                                            array([&#x27;Automatic&#x27;, &#x27;Manual&#x27;], dtype=object),\n",
       "                                                                            array([&#x27;First Owner&#x27;, &#x27;Second Owner&#x27;, &#x27;Third Owner&#x27;], dtype=object)]),\n",
       "                                                  [&#x27;car_name&#x27;, &#x27;Fuel_Type&#x27;,\n",
       "                                                   &#x27;Seller_Type&#x27;,\n",
       "                                                   &#x27;Transmission&#x27;,\n",
       "                                                   &#x27;Owner&#x27;])])),\n",
       "                (&#x27;linearregression&#x27;, LinearRegression())])</pre></div></div></div><div class=\"sk-serial\"><div class=\"sk-item sk-dashed-wrapped\"><div class=\"sk-label-container\"><div class=\"sk-label sk-toggleable\"><input class=\"sk-toggleable__control sk-hidden--visually\" id=\"sk-estimator-id-11\" type=\"checkbox\" ><label for=\"sk-estimator-id-11\" class=\"sk-toggleable__label sk-toggleable__label-arrow\">columntransformer: ColumnTransformer</label><div class=\"sk-toggleable__content\"><pre>ColumnTransformer(remainder=&#x27;passthrough&#x27;,\n",
       "                  transformers=[(&#x27;onehotencoder&#x27;,\n",
       "                                 OneHotEncoder(categories=[array([&#x27;Audi&#x27;, &#x27;BMW&#x27;, &#x27;Chevrolet&#x27;, &#x27;Datsun&#x27;, &#x27;Fiat&#x27;, &#x27;Ford&#x27;, &#x27;Honda&#x27;,\n",
       "       &#x27;Hyundai&#x27;, &#x27;Jaguar&#x27;, &#x27;Jeep&#x27;, &#x27;Mahindra&#x27;, &#x27;Maruti&#x27;, &#x27;Mercedes-Benz&#x27;,\n",
       "       &#x27;Nissan&#x27;, &#x27;Renault&#x27;, &#x27;Skoda&#x27;, &#x27;Tata&#x27;, &#x27;Toyota&#x27;, &#x27;Volkswagen&#x27;,\n",
       "       &#x27;Volvo&#x27;], dtype=object),\n",
       "                                                           array([&#x27;CNG&#x27;, &#x27;Diesel&#x27;, &#x27;Petrol&#x27;], dtype=object),\n",
       "                                                           array([&#x27;Dealer&#x27;, &#x27;Individual&#x27;], dtype=object),\n",
       "                                                           array([&#x27;Automatic&#x27;, &#x27;Manual&#x27;], dtype=object),\n",
       "                                                           array([&#x27;First Owner&#x27;, &#x27;Second Owner&#x27;, &#x27;Third Owner&#x27;], dtype=object)]),\n",
       "                                 [&#x27;car_name&#x27;, &#x27;Fuel_Type&#x27;, &#x27;Seller_Type&#x27;,\n",
       "                                  &#x27;Transmission&#x27;, &#x27;Owner&#x27;])])</pre></div></div></div><div class=\"sk-parallel\"><div class=\"sk-parallel-item\"><div class=\"sk-item\"><div class=\"sk-label-container\"><div class=\"sk-label sk-toggleable\"><input class=\"sk-toggleable__control sk-hidden--visually\" id=\"sk-estimator-id-12\" type=\"checkbox\" ><label for=\"sk-estimator-id-12\" class=\"sk-toggleable__label sk-toggleable__label-arrow\">onehotencoder</label><div class=\"sk-toggleable__content\"><pre>[&#x27;car_name&#x27;, &#x27;Fuel_Type&#x27;, &#x27;Seller_Type&#x27;, &#x27;Transmission&#x27;, &#x27;Owner&#x27;]</pre></div></div></div><div class=\"sk-serial\"><div class=\"sk-item\"><div class=\"sk-estimator sk-toggleable\"><input class=\"sk-toggleable__control sk-hidden--visually\" id=\"sk-estimator-id-13\" type=\"checkbox\" ><label for=\"sk-estimator-id-13\" class=\"sk-toggleable__label sk-toggleable__label-arrow\">OneHotEncoder</label><div class=\"sk-toggleable__content\"><pre>OneHotEncoder(categories=[array([&#x27;Audi&#x27;, &#x27;BMW&#x27;, &#x27;Chevrolet&#x27;, &#x27;Datsun&#x27;, &#x27;Fiat&#x27;, &#x27;Ford&#x27;, &#x27;Honda&#x27;,\n",
       "       &#x27;Hyundai&#x27;, &#x27;Jaguar&#x27;, &#x27;Jeep&#x27;, &#x27;Mahindra&#x27;, &#x27;Maruti&#x27;, &#x27;Mercedes-Benz&#x27;,\n",
       "       &#x27;Nissan&#x27;, &#x27;Renault&#x27;, &#x27;Skoda&#x27;, &#x27;Tata&#x27;, &#x27;Toyota&#x27;, &#x27;Volkswagen&#x27;,\n",
       "       &#x27;Volvo&#x27;], dtype=object),\n",
       "                          array([&#x27;CNG&#x27;, &#x27;Diesel&#x27;, &#x27;Petrol&#x27;], dtype=object),\n",
       "                          array([&#x27;Dealer&#x27;, &#x27;Individual&#x27;], dtype=object),\n",
       "                          array([&#x27;Automatic&#x27;, &#x27;Manual&#x27;], dtype=object),\n",
       "                          array([&#x27;First Owner&#x27;, &#x27;Second Owner&#x27;, &#x27;Third Owner&#x27;], dtype=object)])</pre></div></div></div></div></div></div><div class=\"sk-parallel-item\"><div class=\"sk-item\"><div class=\"sk-label-container\"><div class=\"sk-label sk-toggleable\"><input class=\"sk-toggleable__control sk-hidden--visually\" id=\"sk-estimator-id-14\" type=\"checkbox\" ><label for=\"sk-estimator-id-14\" class=\"sk-toggleable__label sk-toggleable__label-arrow\">remainder</label><div class=\"sk-toggleable__content\"><pre>[&#x27;Year&#x27;, &#x27;Actual_Price&#x27;, &#x27;Kms_Driven&#x27;]</pre></div></div></div><div class=\"sk-serial\"><div class=\"sk-item\"><div class=\"sk-estimator sk-toggleable\"><input class=\"sk-toggleable__control sk-hidden--visually\" id=\"sk-estimator-id-15\" type=\"checkbox\" ><label for=\"sk-estimator-id-15\" class=\"sk-toggleable__label sk-toggleable__label-arrow\">passthrough</label><div class=\"sk-toggleable__content\"><pre>passthrough</pre></div></div></div></div></div></div></div></div><div class=\"sk-item\"><div class=\"sk-estimator sk-toggleable\"><input class=\"sk-toggleable__control sk-hidden--visually\" id=\"sk-estimator-id-16\" type=\"checkbox\" ><label for=\"sk-estimator-id-16\" class=\"sk-toggleable__label sk-toggleable__label-arrow\">LinearRegression</label><div class=\"sk-toggleable__content\"><pre>LinearRegression()</pre></div></div></div></div></div></div></div>"
      ],
      "text/plain": [
       "Pipeline(steps=[('columntransformer',\n",
       "                 ColumnTransformer(remainder='passthrough',\n",
       "                                   transformers=[('onehotencoder',\n",
       "                                                  OneHotEncoder(categories=[array(['Audi', 'BMW', 'Chevrolet', 'Datsun', 'Fiat', 'Ford', 'Honda',\n",
       "       'Hyundai', 'Jaguar', 'Jeep', 'Mahindra', 'Maruti', 'Mercedes-Benz',\n",
       "       'Nissan', 'Renault', 'Skoda', 'Tata', 'Toyota', 'Volkswagen',\n",
       "       'Volvo'], dtype=object),\n",
       "                                                                            array(['CNG', 'Diesel', 'Petrol'], dtype=object),\n",
       "                                                                            array(['Dealer', 'Individual'], dtype=object),\n",
       "                                                                            array(['Automatic', 'Manual'], dtype=object),\n",
       "                                                                            array(['First Owner', 'Second Owner', 'Third Owner'], dtype=object)]),\n",
       "                                                  ['car_name', 'Fuel_Type',\n",
       "                                                   'Seller_Type',\n",
       "                                                   'Transmission',\n",
       "                                                   'Owner'])])),\n",
       "                ('linearregression', LinearRegression())])"
      ]
     },
     "execution_count": 105,
     "metadata": {},
     "output_type": "execute_result"
    }
   ],
   "source": [
    "pipe_linear.fit(X_train,y_train)"
   ]
  },
  {
   "cell_type": "code",
   "execution_count": 106,
   "id": "639f9228-8667-48a2-94be-7d8d733c3bb4",
   "metadata": {},
   "outputs": [],
   "source": [
    "pred=pipe_linear.predict(X_test)"
   ]
  },
  {
   "cell_type": "code",
   "execution_count": 107,
   "id": "101c0c3d-3d09-4f1b-bb9f-6ef870aa3163",
   "metadata": {},
   "outputs": [
    {
     "name": "stdout",
     "output_type": "stream",
     "text": [
      "R Square: 0.8652166846583011\n",
      "Mean Squared Error: 17733190476.744423\n",
      "Mean Absolute Error: 103814.62007154236\n"
     ]
    }
   ],
   "source": [
    "from sklearn.metrics import r2_score,mean_squared_error,mean_absolute_error\n",
    "r2=r2_score(y_test,pred)\n",
    "mse = mean_squared_error(y_test,pred)\n",
    "mae = mean_absolute_error(y_test,pred)\n",
    "\n",
    "print(\"R Square:\",r2)\n",
    "print(\"Mean Squared Error:\",mse)\n",
    "print(\"Mean Absolute Error:\",mae)"
   ]
  },
  {
   "cell_type": "code",
   "execution_count": 108,
   "id": "f4672fd6-e11e-418f-9861-4f07392fc284",
   "metadata": {},
   "outputs": [],
   "source": [
    "scores=[]\n",
    "for i in range(100):\n",
    "    X_train,X_test,y_train,y_test=train_test_split(X,y,test_size=0.1,random_state=i)\n",
    "    linear_reg=LinearRegression()\n",
    "    pipe_linear=make_pipeline(column_trans,linear_reg)\n",
    "    pipe_linear.fit(X_train,y_train)\n",
    "    pred=pipe_linear.predict(X_test)\n",
    "    scores.append(r2_score(y_test,pred))\n"
   ]
  },
  {
   "cell_type": "code",
   "execution_count": 109,
   "id": "692f4a80-b142-4dd6-b01a-7e8e2ef3a776",
   "metadata": {},
   "outputs": [
    {
     "data": {
      "text/plain": [
       "33"
      ]
     },
     "execution_count": 109,
     "metadata": {},
     "output_type": "execute_result"
    }
   ],
   "source": [
    "import numpy as np\n",
    "np.argmax(scores)"
   ]
  },
  {
   "cell_type": "code",
   "execution_count": 110,
   "id": "4495eede-8b5d-4a60-a0c5-e54ae6fc6097",
   "metadata": {},
   "outputs": [
    {
     "data": {
      "text/plain": [
       "0.9295186338671733"
      ]
     },
     "execution_count": 110,
     "metadata": {},
     "output_type": "execute_result"
    }
   ],
   "source": [
    "scores[np.argmax(scores)]\n"
   ]
  },
  {
   "cell_type": "code",
   "execution_count": 111,
   "id": "90a1ee32-4b59-4832-8beb-28e9570e98d8",
   "metadata": {},
   "outputs": [
    {
     "name": "stdout",
     "output_type": "stream",
     "text": [
      "R Square: 0.9295186338671733\n",
      "Mean Squared Error: 14339996409.48413\n",
      "Mean Absolute Error: 90938.29258457644\n"
     ]
    }
   ],
   "source": [
    "X_train,X_test,y_train,y_test=train_test_split(X,y,test_size=0.1,random_state=np.argmax(scores))\n",
    "linear_reg=LinearRegression()\n",
    "pipe_linear=make_pipeline(column_trans,linear_reg)\n",
    "pipe_linear.fit(X_train,y_train)\n",
    "pred=pipe_linear.predict(X_test)\n",
    "r2=r2_score(y_test,pred)\n",
    "mse = mean_squared_error(y_test,pred)\n",
    "mae = mean_absolute_error(y_test,pred)\n",
    "\n",
    "print(\"R Square:\",r2)\n",
    "print(\"Mean Squared Error:\",mse)\n",
    "print(\"Mean Absolute Error:\",mae)"
   ]
  },
  {
   "cell_type": "code",
   "execution_count": 112,
   "id": "87a1fe9d",
   "metadata": {},
   "outputs": [
    {
     "data": {
      "image/png": "[encoded data removed]",
      "text/plain": [
       "<Figure size 640x480 with 1 Axes>"
      ]
     },
     "metadata": {},
     "output_type": "display_data"
    }
   ],
   "source": [
    "import matplotlib.pyplot as plt\n",
    "# Plotting predictions vs actual values\n",
    "plt.scatter(y_test, pred)\n",
    "plt.xlabel('Actual Prices')\n",
    "plt.ylabel('Predicted Prices')\n",
    "plt.title('Actual Prices vs Predicted Prices')\n",
    "plt.show()"
   ]
  },
  {
   "cell_type": "code",
   "execution_count": 113,
   "id": "16a3a48a-4a0d-42d9-b266-573d496ede7e",
   "metadata": {},
   "outputs": [],
   "source": [
    "import pickle"
   ]
  },
  {
   "cell_type": "code",
   "execution_count": 114,
   "id": "de4bb373-6ee6-455c-b7a3-1ab48b4c7b7b",
   "metadata": {},
   "outputs": [],
   "source": [
    "pickle.dump(pipe_linear,open('LinearRegressionModel.pkl','wb'))"
   ]
  },
  {
   "cell_type": "code",
   "execution_count": 115,
   "id": "2a533a7e-6020-4157-92df-9cbf04d4304e",
   "metadata": {},
   "outputs": [
    {
     "name": "stdout",
     "output_type": "stream",
     "text": [
      "The model is doing a good job explaining the variation in prices.\n"
     ]
    }
   ],
   "source": [
    "if r2 >= 0.7:\n",
    "    print(\"The model is doing a good job explaining the variation in prices.\")\n",
    "elif 0.5 <= r2 < 0.7:\n",
    "    print(\"The model is decent but may be improved.\")\n",
    "else:\n",
    "    print(\"The model needs improvement as it doesn't explain the variation well.\")"
   ]
  },
  {
   "cell_type": "code",
   "execution_count": 116,
   "id": "34aef834-4a79-4974-a121-cd97bfadc575",
   "metadata": {},
   "outputs": [
    {
     "name": "stdout",
     "output_type": "stream",
     "text": [
      "<class 'pandas.core.frame.DataFrame'>\n",
      "RangeIndex: 301 entries, 0 to 300\n",
      "Data columns (total 9 columns):\n",
      " #   Column         Non-Null Count  Dtype \n",
      "---  ------         --------------  ----- \n",
      " 0   car_name       301 non-null    object\n",
      " 1   Year           301 non-null    int64 \n",
      " 2   Selling_Price  301 non-null    int64 \n",
      " 3   Actual_Price   301 non-null    int64 \n",
      " 4   Kms_Driven     301 non-null    int64 \n",
      " 5   Fuel_Type      301 non-null    object\n",
      " 6   Seller_Type    301 non-null    object\n",
      " 7   Transmission   301 non-null    object\n",
      " 8   Owner          301 non-null    object\n",
      "dtypes: int64(4), object(5)\n",
      "memory usage: 21.3+ KB\n"
     ]
    }
   ],
   "source": [
    "used_car.info()"
   ]
  },
  {
   "cell_type": "code",
   "execution_count": 117,
   "id": "93739c6a-8e23-44e7-8a00-4bfb649c59eb",
   "metadata": {},
   "outputs": [
    {
     "data": {
      "text/html": [
       "<div>\n",
       "<style scoped>\n",
       "    .dataframe tbody tr th:only-of-type {\n",
       "        vertical-align: middle;\n",
       "    }\n",
       "\n",
       "    .dataframe tbody tr th {\n",
       "        vertical-align: top;\n",
       "    }\n",
       "\n",
       "    .dataframe thead th {\n",
       "        text-align: right;\n",
       "    }\n",
       "</style>\n",
       "<table border=\"1\" class=\"dataframe\">\n",
       "  <thead>\n",
       "    <tr style=\"text-align: right;\">\n",
       "      <th></th>\n",
       "      <th>car_name</th>\n",
       "      <th>Year</th>\n",
       "      <th>Selling_Price</th>\n",
       "      <th>Actual_Price</th>\n",
       "      <th>Kms_Driven</th>\n",
       "      <th>Fuel_Type</th>\n",
       "      <th>Seller_Type</th>\n",
       "      <th>Transmission</th>\n",
       "      <th>Owner</th>\n",
       "    </tr>\n",
       "  </thead>\n",
       "  <tbody>\n",
       "    <tr>\n",
       "      <th>0</th>\n",
       "      <td>Maruti</td>\n",
       "      <td>2014</td>\n",
       "      <td>335000</td>\n",
       "      <td>559000</td>\n",
       "      <td>27000</td>\n",
       "      <td>Petrol</td>\n",
       "      <td>Dealer</td>\n",
       "      <td>Manual</td>\n",
       "      <td>First Owner</td>\n",
       "    </tr>\n",
       "    <tr>\n",
       "      <th>1</th>\n",
       "      <td>Maruti</td>\n",
       "      <td>2013</td>\n",
       "      <td>475000</td>\n",
       "      <td>953999</td>\n",
       "      <td>43000</td>\n",
       "      <td>Diesel</td>\n",
       "      <td>Dealer</td>\n",
       "      <td>Manual</td>\n",
       "      <td>First Owner</td>\n",
       "    </tr>\n",
       "    <tr>\n",
       "      <th>2</th>\n",
       "      <td>Hyundai</td>\n",
       "      <td>2017</td>\n",
       "      <td>725000</td>\n",
       "      <td>985000</td>\n",
       "      <td>6900</td>\n",
       "      <td>Petrol</td>\n",
       "      <td>Dealer</td>\n",
       "      <td>Manual</td>\n",
       "      <td>First Owner</td>\n",
       "    </tr>\n",
       "    <tr>\n",
       "      <th>3</th>\n",
       "      <td>Datsun</td>\n",
       "      <td>2011</td>\n",
       "      <td>285000</td>\n",
       "      <td>415000</td>\n",
       "      <td>5200</td>\n",
       "      <td>Petrol</td>\n",
       "      <td>Dealer</td>\n",
       "      <td>Manual</td>\n",
       "      <td>First Owner</td>\n",
       "    </tr>\n",
       "    <tr>\n",
       "      <th>4</th>\n",
       "      <td>Honda</td>\n",
       "      <td>2014</td>\n",
       "      <td>459999</td>\n",
       "      <td>687000</td>\n",
       "      <td>42450</td>\n",
       "      <td>Diesel</td>\n",
       "      <td>Dealer</td>\n",
       "      <td>Manual</td>\n",
       "      <td>First Owner</td>\n",
       "    </tr>\n",
       "    <tr>\n",
       "      <th>...</th>\n",
       "      <td>...</td>\n",
       "      <td>...</td>\n",
       "      <td>...</td>\n",
       "      <td>...</td>\n",
       "      <td>...</td>\n",
       "      <td>...</td>\n",
       "      <td>...</td>\n",
       "      <td>...</td>\n",
       "      <td>...</td>\n",
       "    </tr>\n",
       "    <tr>\n",
       "      <th>296</th>\n",
       "      <td>Maruti</td>\n",
       "      <td>2016</td>\n",
       "      <td>950000</td>\n",
       "      <td>1160000</td>\n",
       "      <td>33988</td>\n",
       "      <td>Diesel</td>\n",
       "      <td>Dealer</td>\n",
       "      <td>Manual</td>\n",
       "      <td>First Owner</td>\n",
       "    </tr>\n",
       "    <tr>\n",
       "      <th>297</th>\n",
       "      <td>Hyundai</td>\n",
       "      <td>2015</td>\n",
       "      <td>400000</td>\n",
       "      <td>590000</td>\n",
       "      <td>60000</td>\n",
       "      <td>Petrol</td>\n",
       "      <td>Dealer</td>\n",
       "      <td>Manual</td>\n",
       "      <td>First Owner</td>\n",
       "    </tr>\n",
       "    <tr>\n",
       "      <th>298</th>\n",
       "      <td>Ford</td>\n",
       "      <td>2009</td>\n",
       "      <td>335000</td>\n",
       "      <td>1100000</td>\n",
       "      <td>87934</td>\n",
       "      <td>Petrol</td>\n",
       "      <td>Dealer</td>\n",
       "      <td>Manual</td>\n",
       "      <td>First Owner</td>\n",
       "    </tr>\n",
       "    <tr>\n",
       "      <th>299</th>\n",
       "      <td>Ford</td>\n",
       "      <td>2017</td>\n",
       "      <td>1150000</td>\n",
       "      <td>1250000</td>\n",
       "      <td>9000</td>\n",
       "      <td>Diesel</td>\n",
       "      <td>Dealer</td>\n",
       "      <td>Manual</td>\n",
       "      <td>First Owner</td>\n",
       "    </tr>\n",
       "    <tr>\n",
       "      <th>300</th>\n",
       "      <td>Hyundai</td>\n",
       "      <td>2016</td>\n",
       "      <td>530000</td>\n",
       "      <td>590000</td>\n",
       "      <td>5464</td>\n",
       "      <td>Petrol</td>\n",
       "      <td>Dealer</td>\n",
       "      <td>Manual</td>\n",
       "      <td>First Owner</td>\n",
       "    </tr>\n",
       "  </tbody>\n",
       "</table>\n",
       "<p>301 rows × 9 columns</p>\n",
       "</div>"
      ],
      "text/plain": [
       "    car_name  Year  Selling_Price  Actual_Price  Kms_Driven Fuel_Type  \\\n",
       "0     Maruti  2014         335000        559000       27000    Petrol   \n",
       "1     Maruti  2013         475000        953999       43000    Diesel   \n",
       "2    Hyundai  2017         725000        985000        6900    Petrol   \n",
       "3     Datsun  2011         285000        415000        5200    Petrol   \n",
       "4      Honda  2014         459999        687000       42450    Diesel   \n",
       "..       ...   ...            ...           ...         ...       ...   \n",
       "296   Maruti  2016         950000       1160000       33988    Diesel   \n",
       "297  Hyundai  2015         400000        590000       60000    Petrol   \n",
       "298     Ford  2009         335000       1100000       87934    Petrol   \n",
       "299     Ford  2017        1150000       1250000        9000    Diesel   \n",
       "300  Hyundai  2016         530000        590000        5464    Petrol   \n",
       "\n",
       "    Seller_Type Transmission        Owner  \n",
       "0        Dealer       Manual  First Owner  \n",
       "1        Dealer       Manual  First Owner  \n",
       "2        Dealer       Manual  First Owner  \n",
       "3        Dealer       Manual  First Owner  \n",
       "4        Dealer       Manual  First Owner  \n",
       "..          ...          ...          ...  \n",
       "296      Dealer       Manual  First Owner  \n",
       "297      Dealer       Manual  First Owner  \n",
       "298      Dealer       Manual  First Owner  \n",
       "299      Dealer       Manual  First Owner  \n",
       "300      Dealer       Manual  First Owner  \n",
       "\n",
       "[301 rows x 9 columns]"
      ]
     },
     "execution_count": 117,
     "metadata": {},
     "output_type": "execute_result"
    }
   ],
   "source": [
    "used_car"
   ]
  },
  {
   "cell_type": "code",
   "execution_count": 120,
   "id": "223c1a1b-5b03-4825-8319-eb75edd88c69",
   "metadata": {},
   "outputs": [
    {
     "name": "stdout",
     "output_type": "stream",
     "text": [
      "Enter vehicle details:\n",
      "Vehicle Name:'Audi', 'BMW', 'Chevrolet', 'Datsun', 'Fiat', 'Ford', 'Honda','Hyundai', 'Jaguar', 'Jeep', 'Mahindra', 'Maruti', 'Mercedes-Benz','Nissan', 'Renault', 'Skoda', 'Tata', 'Toyota', 'Volkswagen','Volvo'\n"
     ]
    },
    {
     "name": "stdin",
     "output_type": "stream",
     "text": [
      "Enter vehicle name(Choose from above):  Maruti\n"
     ]
    },
    {
     "name": "stdout",
     "output_type": "stream",
     "text": [
      "\n"
     ]
    },
    {
     "name": "stdin",
     "output_type": "stream",
     "text": [
      "Enter vehicle purchased year:  2018\n"
     ]
    },
    {
     "name": "stdout",
     "output_type": "stream",
     "text": [
      "\n"
     ]
    },
    {
     "name": "stdin",
     "output_type": "stream",
     "text": [
      "Enter kms driven:  10000\n"
     ]
    },
    {
     "name": "stdout",
     "output_type": "stream",
     "text": [
      "\n"
     ]
    },
    {
     "name": "stdin",
     "output_type": "stream",
     "text": [
      "Enter Actual_Price: 850000\n"
     ]
    },
    {
     "name": "stdout",
     "output_type": "stream",
     "text": [
      "\n",
      "Fuel_type:'CNG', 'Diesel','Petrol'\n"
     ]
    },
    {
     "name": "stdin",
     "output_type": "stream",
     "text": [
      "Enter fuel_type:(Choose from above)  Petrol\n"
     ]
    },
    {
     "name": "stdout",
     "output_type": "stream",
     "text": [
      "\n",
      "Seller_Type:'Dealer', 'Individual'\n"
     ]
    },
    {
     "name": "stdin",
     "output_type": "stream",
     "text": [
      "Enter Seller_Type :(Choose from above) Dealer\n"
     ]
    },
    {
     "name": "stdout",
     "output_type": "stream",
     "text": [
      "\n",
      "Transmission:'Automatic', 'Manual'\n"
     ]
    },
    {
     "name": "stdin",
     "output_type": "stream",
     "text": [
      "Enter Transmission :(Choose from above) Manual\n"
     ]
    },
    {
     "name": "stdout",
     "output_type": "stream",
     "text": [
      "\n",
      "Owner:'First Owner','Second Owner','Third Owner'\n"
     ]
    },
    {
     "name": "stdin",
     "output_type": "stream",
     "text": [
      "Enter owner:(Choose from above)  First Owner\n"
     ]
    },
    {
     "name": "stdout",
     "output_type": "stream",
     "text": [
      "\n",
      "\n",
      "Predicted Price for the given input: $739683.98\n"
     ]
    }
   ],
   "source": [
    "# Import necessary libraries\n",
    "import pandas as pd\n",
    "\n",
    "# Get user input for feature values\n",
    "print(\"Enter vehicle details:\")\n",
    "print(\"Vehicle Name:'Audi', 'BMW', 'Chevrolet', 'Datsun', 'Fiat', 'Ford', 'Honda','Hyundai', 'Jaguar', 'Jeep', 'Mahindra', 'Maruti', 'Mercedes-Benz','Nissan', 'Renault', 'Skoda', 'Tata', 'Toyota', 'Volkswagen','Volvo'\")\n",
    "car_name = input(\"Enter vehicle name(Choose from above): \")\n",
    "print(\"\")\n",
    "Year = int(input(\"Enter vehicle purchased year: \"))\n",
    "print(\"\")\n",
    "Kms_Driven = float(input(\"Enter kms driven: \"))\n",
    "print(\"\")\n",
    "Actual_Price = input(\"Enter Actual_Price:\")\n",
    "print(\"\")\n",
    "print(\"Fuel_type:'CNG', 'Diesel','Petrol'\")\n",
    "Fuel_Type = input(\"Enter fuel_type:(Choose from above) \")\n",
    "print(\"\")\n",
    "print(\"Seller_Type:'Dealer', 'Individual'\")\n",
    "Seller_Type = input(\"Enter Seller_Type :(Choose from above)\")\n",
    "print(\"\")\n",
    "print(\"Transmission:'Automatic', 'Manual'\")\n",
    "Transmission = input(\"Enter Transmission :(Choose from above)\")\n",
    "print(\"\")\n",
    "print(\"Owner:'First Owner','Second Owner','Third Owner'\")\n",
    "Owner = input(\"Enter owner:(Choose from above) \")\n",
    "print(\"\")\n",
    "\n",
    "print(\"\")\n",
    "\n",
    "# Make a prediction based on user input\n",
    "user_input = pd.DataFrame([[car_name, Year, Kms_Driven,Actual_Price, Fuel_Type,Seller_Type\n",
    "                           ,Transmission,Owner]],\n",
    "                          columns=['car_name', 'Year', 'Kms_Driven','Actual_Price','Fuel_Type',\n",
    "                                   'Seller_Type','Transmission','Owner'\n",
    "                                   ])\n",
    "\n",
    "predicted_price = pipe_linear.predict(user_input)\n",
    "\n",
    "print(f\"Predicted Price for the given input: ${predicted_price[0]:.2f}\")\n"
   ]
  },
  {
   "cell_type": "code",
   "execution_count": null,
   "id": "d4b0a60b-1fd3-4971-9ab8-91f5d88f0d25",
   "metadata": {},
   "outputs": [],
   "source": []
  }
 ],
 "metadata": {
  "kernelspec": {
   "display_name": "Python 3 (ipykernel)",
   "language": "python",
   "name": "python3"
  },
  "language_info": {
   "codemirror_mode": {
    "name": "ipython",
    "version": 3
   },
   "file_extension": ".py",
   "mimetype": "text/x-python",
   "name": "python",
   "nbconvert_exporter": "python",
   "pygments_lexer": "ipython3",
   "version": "3.11.7"
  }
 },
 "nbformat": 4,
 "nbformat_minor": 5
}
