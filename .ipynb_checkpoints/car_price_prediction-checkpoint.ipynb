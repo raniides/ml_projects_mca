{
 "cells": [
  {
   "cell_type": "code",
   "execution_count": 356,
   "id": "e7453aaf-a5b6-4027-9624-2511d39aca3d",
   "metadata": {},
   "outputs": [],
   "source": [
    "import pandas as pd"
   ]
  },
  {
   "cell_type": "code",
   "execution_count": 357,
   "id": "ba749376-e07b-4994-b232-b2913b71c258",
   "metadata": {},
   "outputs": [],
   "source": [
    "#Dataset is taken from website \"https://www.kaggle.com/datasets/nehalbirla/vehicle-dataset-from-cardekho\"\n",
    "\n",
    "used_car=pd.read_csv('car_dekho_cars.csv')"
   ]
  },
  {
   "cell_type": "code",
   "execution_count": 358,
   "id": "e1592dcc-4d01-403f-abd8-8339b95fc26b",
   "metadata": {},
   "outputs": [
    {
     "data": {
      "text/html": [
       "<div>\n",
       "<style scoped>\n",
       "    .dataframe tbody tr th:only-of-type {\n",
       "        vertical-align: middle;\n",
       "    }\n",
       "\n",
       "    .dataframe tbody tr th {\n",
       "        vertical-align: top;\n",
       "    }\n",
       "\n",
       "    .dataframe thead th {\n",
       "        text-align: right;\n",
       "    }\n",
       "</style>\n",
       "<table border=\"1\" class=\"dataframe\">\n",
       "  <thead>\n",
       "    <tr style=\"text-align: right;\">\n",
       "      <th></th>\n",
       "      <th>name</th>\n",
       "      <th>year</th>\n",
       "      <th>selling_price</th>\n",
       "      <th>km_driven</th>\n",
       "      <th>fuel</th>\n",
       "    </tr>\n",
       "  </thead>\n",
       "  <tbody>\n",
       "    <tr>\n",
       "      <th>0</th>\n",
       "      <td>Maruti 800 AC</td>\n",
       "      <td>2007</td>\n",
       "      <td>60000</td>\n",
       "      <td>70000</td>\n",
       "      <td>Petrol</td>\n",
       "    </tr>\n",
       "    <tr>\n",
       "      <th>1</th>\n",
       "      <td>Maruti Wagon R LXI Minor</td>\n",
       "      <td>2007</td>\n",
       "      <td>135000</td>\n",
       "      <td>50000</td>\n",
       "      <td>Petrol</td>\n",
       "    </tr>\n",
       "    <tr>\n",
       "      <th>2</th>\n",
       "      <td>Hyundai Verna 1.6 SX</td>\n",
       "      <td>2012</td>\n",
       "      <td>600000</td>\n",
       "      <td>100000</td>\n",
       "      <td>Diesel</td>\n",
       "    </tr>\n",
       "    <tr>\n",
       "      <th>3</th>\n",
       "      <td>Datsun RediGO T Option</td>\n",
       "      <td>2017</td>\n",
       "      <td>250000</td>\n",
       "      <td>46000</td>\n",
       "      <td>Petrol</td>\n",
       "    </tr>\n",
       "    <tr>\n",
       "      <th>4</th>\n",
       "      <td>Honda Amaze VX i-DTEC</td>\n",
       "      <td>2014</td>\n",
       "      <td>450000</td>\n",
       "      <td>141000</td>\n",
       "      <td>Diesel</td>\n",
       "    </tr>\n",
       "    <tr>\n",
       "      <th>...</th>\n",
       "      <td>...</td>\n",
       "      <td>...</td>\n",
       "      <td>...</td>\n",
       "      <td>...</td>\n",
       "      <td>...</td>\n",
       "    </tr>\n",
       "    <tr>\n",
       "      <th>4335</th>\n",
       "      <td>Hyundai i20 Magna 1.4 CRDi (Diesel)</td>\n",
       "      <td>2014</td>\n",
       "      <td>409999</td>\n",
       "      <td>80000</td>\n",
       "      <td>Diesel</td>\n",
       "    </tr>\n",
       "    <tr>\n",
       "      <th>4336</th>\n",
       "      <td>Hyundai i20 Magna 1.4 CRDi</td>\n",
       "      <td>2014</td>\n",
       "      <td>409999</td>\n",
       "      <td>80000</td>\n",
       "      <td>Diesel</td>\n",
       "    </tr>\n",
       "    <tr>\n",
       "      <th>4337</th>\n",
       "      <td>Maruti 800 AC BSIII</td>\n",
       "      <td>2009</td>\n",
       "      <td>110000</td>\n",
       "      <td>83000</td>\n",
       "      <td>Petrol</td>\n",
       "    </tr>\n",
       "    <tr>\n",
       "      <th>4338</th>\n",
       "      <td>Hyundai Creta 1.6 CRDi SX Option</td>\n",
       "      <td>2016</td>\n",
       "      <td>865000</td>\n",
       "      <td>90000</td>\n",
       "      <td>Diesel</td>\n",
       "    </tr>\n",
       "    <tr>\n",
       "      <th>4339</th>\n",
       "      <td>Renault KWID RXT</td>\n",
       "      <td>2016</td>\n",
       "      <td>225000</td>\n",
       "      <td>40000</td>\n",
       "      <td>Petrol</td>\n",
       "    </tr>\n",
       "  </tbody>\n",
       "</table>\n",
       "<p>4340 rows × 5 columns</p>\n",
       "</div>"
      ],
      "text/plain": [
       "                                     name  year  selling_price  km_driven  \\\n",
       "0                           Maruti 800 AC  2007          60000      70000   \n",
       "1                Maruti Wagon R LXI Minor  2007         135000      50000   \n",
       "2                    Hyundai Verna 1.6 SX  2012         600000     100000   \n",
       "3                  Datsun RediGO T Option  2017         250000      46000   \n",
       "4                   Honda Amaze VX i-DTEC  2014         450000     141000   \n",
       "...                                   ...   ...            ...        ...   \n",
       "4335  Hyundai i20 Magna 1.4 CRDi (Diesel)  2014         409999      80000   \n",
       "4336           Hyundai i20 Magna 1.4 CRDi  2014         409999      80000   \n",
       "4337                  Maruti 800 AC BSIII  2009         110000      83000   \n",
       "4338     Hyundai Creta 1.6 CRDi SX Option  2016         865000      90000   \n",
       "4339                     Renault KWID RXT  2016         225000      40000   \n",
       "\n",
       "        fuel  \n",
       "0     Petrol  \n",
       "1     Petrol  \n",
       "2     Diesel  \n",
       "3     Petrol  \n",
       "4     Diesel  \n",
       "...      ...  \n",
       "4335  Diesel  \n",
       "4336  Diesel  \n",
       "4337  Petrol  \n",
       "4338  Diesel  \n",
       "4339  Petrol  \n",
       "\n",
       "[4340 rows x 5 columns]"
      ]
     },
     "execution_count": 358,
     "metadata": {},
     "output_type": "execute_result"
    }
   ],
   "source": [
    "used_car"
   ]
  },
  {
   "cell_type": "code",
   "execution_count": 359,
   "id": "e0be2460-3315-4eb3-bece-52693a443d9a",
   "metadata": {},
   "outputs": [
    {
     "data": {
      "text/html": [
       "<div>\n",
       "<style scoped>\n",
       "    .dataframe tbody tr th:only-of-type {\n",
       "        vertical-align: middle;\n",
       "    }\n",
       "\n",
       "    .dataframe tbody tr th {\n",
       "        vertical-align: top;\n",
       "    }\n",
       "\n",
       "    .dataframe thead th {\n",
       "        text-align: right;\n",
       "    }\n",
       "</style>\n",
       "<table border=\"1\" class=\"dataframe\">\n",
       "  <thead>\n",
       "    <tr style=\"text-align: right;\">\n",
       "      <th></th>\n",
       "      <th>name</th>\n",
       "      <th>year</th>\n",
       "      <th>selling_price</th>\n",
       "      <th>km_driven</th>\n",
       "      <th>fuel</th>\n",
       "    </tr>\n",
       "  </thead>\n",
       "  <tbody>\n",
       "    <tr>\n",
       "      <th>0</th>\n",
       "      <td>Maruti 800 AC</td>\n",
       "      <td>2007</td>\n",
       "      <td>60000</td>\n",
       "      <td>70000</td>\n",
       "      <td>Petrol</td>\n",
       "    </tr>\n",
       "    <tr>\n",
       "      <th>1</th>\n",
       "      <td>Maruti Wagon R LXI Minor</td>\n",
       "      <td>2007</td>\n",
       "      <td>135000</td>\n",
       "      <td>50000</td>\n",
       "      <td>Petrol</td>\n",
       "    </tr>\n",
       "    <tr>\n",
       "      <th>2</th>\n",
       "      <td>Hyundai Verna 1.6 SX</td>\n",
       "      <td>2012</td>\n",
       "      <td>600000</td>\n",
       "      <td>100000</td>\n",
       "      <td>Diesel</td>\n",
       "    </tr>\n",
       "    <tr>\n",
       "      <th>3</th>\n",
       "      <td>Datsun RediGO T Option</td>\n",
       "      <td>2017</td>\n",
       "      <td>250000</td>\n",
       "      <td>46000</td>\n",
       "      <td>Petrol</td>\n",
       "    </tr>\n",
       "    <tr>\n",
       "      <th>4</th>\n",
       "      <td>Honda Amaze VX i-DTEC</td>\n",
       "      <td>2014</td>\n",
       "      <td>450000</td>\n",
       "      <td>141000</td>\n",
       "      <td>Diesel</td>\n",
       "    </tr>\n",
       "  </tbody>\n",
       "</table>\n",
       "</div>"
      ],
      "text/plain": [
       "                       name  year  selling_price  km_driven    fuel\n",
       "0             Maruti 800 AC  2007          60000      70000  Petrol\n",
       "1  Maruti Wagon R LXI Minor  2007         135000      50000  Petrol\n",
       "2      Hyundai Verna 1.6 SX  2012         600000     100000  Diesel\n",
       "3    Datsun RediGO T Option  2017         250000      46000  Petrol\n",
       "4     Honda Amaze VX i-DTEC  2014         450000     141000  Diesel"
      ]
     },
     "execution_count": 359,
     "metadata": {},
     "output_type": "execute_result"
    }
   ],
   "source": [
    "used_car.head()"
   ]
  },
  {
   "cell_type": "code",
   "execution_count": 360,
   "id": "478bc09d-556c-43bb-98c7-1b5d49d70362",
   "metadata": {},
   "outputs": [
    {
     "data": {
      "text/plain": [
       "(4340, 5)"
      ]
     },
     "execution_count": 360,
     "metadata": {},
     "output_type": "execute_result"
    }
   ],
   "source": [
    "used_car.shape #to check how much data we have"
   ]
  },
  {
   "cell_type": "code",
   "execution_count": 361,
   "id": "6666d019-5478-49a9-8052-27ae914a6674",
   "metadata": {},
   "outputs": [
    {
     "name": "stdout",
     "output_type": "stream",
     "text": [
      "<class 'pandas.core.frame.DataFrame'>\n",
      "RangeIndex: 4340 entries, 0 to 4339\n",
      "Data columns (total 5 columns):\n",
      " #   Column         Non-Null Count  Dtype \n",
      "---  ------         --------------  ----- \n",
      " 0   name           4340 non-null   object\n",
      " 1   year           4340 non-null   int64 \n",
      " 2   selling_price  4340 non-null   int64 \n",
      " 3   km_driven      4340 non-null   int64 \n",
      " 4   fuel           4340 non-null   object\n",
      "dtypes: int64(3), object(2)\n",
      "memory usage: 169.7+ KB\n"
     ]
    }
   ],
   "source": [
    "used_car.info() #to see type and if there are any null values or not like that "
   ]
  },
  {
   "cell_type": "code",
   "execution_count": 362,
   "id": "7404968d-a436-4734-a0f2-2d210264cdfa",
   "metadata": {},
   "outputs": [],
   "source": [
    "#Now check with unique if the date is proper or not\n",
    "#check if any column include nan/null values\n",
    "#check int type column first because all data in it should be of int so there imporper data\n",
    "#that should be cleaned\n",
    "#we have to now cleaned a dataset"
   ]
  },
  {
   "cell_type": "code",
   "execution_count": 363,
   "id": "eed605f3-e361-495e-95bf-cbfdc18a5af9",
   "metadata": {},
   "outputs": [
    {
     "data": {
      "text/plain": [
       "array([2007, 2012, 2017, 2014, 2016, 2015, 2018, 2019, 2013, 2011, 2010,\n",
       "       2009, 2006, 1996, 2005, 2008, 2004, 1998, 2003, 2002, 2020, 2000,\n",
       "       1999, 2001, 1995, 1997, 1992])"
      ]
     },
     "execution_count": 363,
     "metadata": {},
     "output_type": "execute_result"
    }
   ],
   "source": [
    "used_car['year'].unique()"
   ]
  },
  {
   "cell_type": "code",
   "execution_count": 364,
   "id": "7d7702bc-1661-4f9a-a0e5-e567bc7ee380",
   "metadata": {},
   "outputs": [
    {
     "data": {
      "text/plain": [
       "array([  60000,  135000,  600000,  250000,  450000,  140000,  550000,\n",
       "        240000,  850000,  365000,  260000, 1650000,  585000, 1195000,\n",
       "        390000, 1964999, 1425000,  975000, 1190000,  930000,  525000,\n",
       "       1735000, 1375000,  900000, 1300000, 1400000,  229999, 1550000,\n",
       "       1250000,  625000, 1050000,  560000,  290000,  275000,  411000,\n",
       "        150000,  500000,  100000,  725000,  401000,  750000,  310000,\n",
       "        665000,  465000,  160000,  675000,  300000,   70000,  151000,\n",
       "        280000,  350000,  570000,  125000,  130000,  925000,  200000,\n",
       "        248000,   80000,  650000,  495000,  371000, 1025000, 8150000,\n",
       "        325000, 1470000, 2800000,  210000, 1150000, 4500000, 2750000,\n",
       "       1975000,  175000, 2500000,  628000,  399000,  315000,  780000,\n",
       "        434000,  690000,  555000,  120000,  165000,   95000,  800000,\n",
       "        840000,  490000,  400000, 1000000,  530000,   40000,   75000,\n",
       "        540000,  700000,  430000,   65000,  195000,  170000,  225000,\n",
       "         99000,  620000, 2550000,  320000,  810000,  282000,   72000,\n",
       "        640000,  380000, 1500000,  434999,  190000, 2900000,  425000,\n",
       "        265000,  890000,  685000,  940000,  590000,  385000, 2000000,\n",
       "        235000,   52000,   89999,  180000,  285000, 1075000,   90000,\n",
       "        220000,  110000,  880000,  115999,  360000,  680000,  860000,\n",
       "        270000,  395000,  624000,  345000,  106000, 1800000,  575000,\n",
       "        370000,   50000,   55000,  755000,  720000, 1100000,  159000,\n",
       "        335000,  185000,  470000,  145000,  595000, 1600000,  105000,\n",
       "        409999,  215000,  475000,  330000, 1044999, 1350000,  420000,\n",
       "        760000,   43000, 1850000, 1125000,  133000,  352000,  520000,\n",
       "        509999,  556000,  484999,  565000,  295000, 2050000, 1475000,\n",
       "       4400000,  670000,  770000,  775000, 1725000, 2150000, 3800000,\n",
       "       1580000, 4950000,  535000,  239000, 2600000,  114999,  200999,\n",
       "        710000,  969999,  155000,  138000,  311000,   58000,  183000,\n",
       "        825000,  299000,  639000,  415000, 1199000,  699000,  269000,\n",
       "        249000, 1549000,  254999,  211000,  599000, 4000000, 1200000,\n",
       "         98000,  790000, 1700000,   68000,  875000, 1330000,  919999,\n",
       "        611000,  711000,  851000,  610000,  744000,  480000,  950000,\n",
       "         85000,  615000,  227000,  222000,  735000,  271000, 1490000,\n",
       "        455000,  421000, 2700000, 4700000, 1900000, 1770000,  660000,\n",
       "        716000,  147000, 1140000, 3050000,  375000, 1950000,  340000,\n",
       "       3100000,  245000,  715000, 1750000, 3500000,  835000, 2490000,\n",
       "       1015000,   91200, 2400000,  635000,  302000,  204999,  341000,\n",
       "        819999,  351000,  630000, 1085000,  580000,   78000, 3200000,\n",
       "        695000,  355000,  619000,   81000,  486000,  802000, 2300000,\n",
       "        287000,  250999,   45000, 1485000, 1825000, 3256000,  451000,\n",
       "        149000,  163000,  419000,  990000,  346000,  509000,   69000,\n",
       "       1380000,  256000,   97000,  199000, 2595000,  730000,  368000,\n",
       "        545000,  641000,  784000,  324000, 2100000,  305000,  221000,\n",
       "        828999, 1119000,  746000, 1030000, 1334000,  811999, 1331000,\n",
       "        852000,  830000,  213000,   35000,  869999,  178000,  515000,\n",
       "        312000,  111000,  774000,  148000,   57000,  284000,  349000,\n",
       "        458000,  381000,  751000,  782000,  321000,   92800,  291000,\n",
       "         73000,  655000,  263000,  217000,  539000,  142000,  910000,\n",
       "        740000,  164000,  999000,   56000, 3899000,  440000,  238000,\n",
       "       1295000,  541000,  894999,  844999,  288000, 1225000, 1010000,\n",
       "         30000,  396000,  281000,   93000,  459999,   88000,   22000,\n",
       "         79000,  198000,  182000,  861999,  836000,  696000,  596000,\n",
       "        612000,   20000,   61000,  511000, 1230000,  426000,   62000,\n",
       "       1450000,   71000, 2200000, 1249000, 1240000, 1068000, 1189000,\n",
       "        363000,  821000,  815000,  738000,  765000,  516000,  134000,\n",
       "        347000, 2650000, 2675000,  359000,  980000,  707000,  471000,\n",
       "        377000,  763000,  701000,  277000,  936999,   82000,  799000,\n",
       "       1451000, 1575000,   78692,  479000,   48000,  121000,  785000,\n",
       "        173000, 4800000,  587000,  123000, 1290000,  193000,  721000,\n",
       "       1040000, 2349000, 1165000,   42000, 1680000,  231999,  841000,\n",
       "       1280000, 1090000,  449000,  724000,  126000,  795000, 2575000,\n",
       "       1035000, 1260000, 8900000, 1860000, 4200000, 5500000,  430999,\n",
       "       1151000,  927999,   51111,  212000,  428000,  219000,  749000,\n",
       "        233000,  614000,   37500,  865000])"
      ]
     },
     "execution_count": 364,
     "metadata": {},
     "output_type": "execute_result"
    }
   ],
   "source": [
    "used_car['selling_price'].unique()"
   ]
  },
  {
   "cell_type": "code",
   "execution_count": 365,
   "id": "b60b7760-53ae-45b3-ad6c-4114e21ecc3c",
   "metadata": {},
   "outputs": [
    {
     "data": {
      "text/plain": [
       "array([ 70000,  50000, 100000,  46000, 141000, 125000,  25000,  60000,\n",
       "        78000,  35000,  24000,   5000,  33000,  28000,  59000,   4500,\n",
       "       175900,  14500,  15000,  33800, 130400,  80000,  10000, 119000,\n",
       "        75800,  40000,  74000,  64000, 120000,  79000,  18500,  10200,\n",
       "        29000,  90000,  73300,  92000,  66764, 350000, 230000,  31000,\n",
       "        39000, 166000, 110000,  54000,  63000,  76000,  11958,  20000,\n",
       "         9000,   6500,  58000,  62200,  34000,  53000,  49000,  63500,\n",
       "         9800,  13000,  21000,  29173,  48000,  30000,  87000,  16000,\n",
       "        79350,  81000,   3600,  14272,  49213,  57000,   3240, 114000,\n",
       "        53772, 140000, 175000,  36000, 155500,  23000,  22155,  78380,\n",
       "       150000,  80362,  55000,   1136,  43000,   2650, 115962,  65000,\n",
       "        56000, 213000, 139000, 160000, 163000,  32000,  52000,  11240,\n",
       "        66000,  26500,  72000,  44000, 130000, 195000, 155000,   4000,\n",
       "        41000,  10832,  14681,  51000, 200000,  19600,  46730,  21170,\n",
       "       167223, 141440, 212814,  88635, 149674,   8000,  68000,  38000,\n",
       "        75000,  98000,  81925,  82080,  97000,  52047,  62009,  33100,\n",
       "       220000,  45000, 180000,  22000,  80577, 127500,  40903,  22288,\n",
       "        61690,  64484,  75976,  85962,  57035,  72104, 164000, 124439,\n",
       "        77000,   1250,  17152,  24005, 149000,  19000, 109000,  61000,\n",
       "        27633,  12586,  38083,  55328,  81632, 155201,  93283, 217871,\n",
       "        90165, 101504,  86017,  85036,  91086, 160254, 125531,  82000,\n",
       "        84000, 560000,  14365,  61083,  66363,  11700,   7104,  45974,\n",
       "        55340,  61585,  39415,  29654,  64672,  54634,  66521,  23974,\n",
       "         1000,  86000,  52600,  19890,  11918,  10510,  47162,  49824,\n",
       "        58500,  56580,  46507,  11451, 172000,  66508,  29900,   3000,\n",
       "        85000,   7900,  17500, 206500,  88600, 186000,  11000, 138000,\n",
       "        27974,  18000,   1400, 124000,  42000,  28205,  32670,  30093,\n",
       "        56228,  59319,  39503,  35299,  51687,  76259,  44049,  45087,\n",
       "        41125,  42215,  54206,  52547,  59110,  54565,  47564,  45143,\n",
       "        61624, 132000,  10980,  20629,  69782,  63654,  59385,  70378,\n",
       "        55425,  78413,  40890,  34823,  55545,  56541,  43700,  27483,\n",
       "        56207,   1440,  91195,  63657,  97248,  89000,  12000,  12997,\n",
       "        26430,  24600,  28481,  41988,  30375,   7658,  34400,  28942,\n",
       "        53600,  53652, 106000, 205000,  79500, 197000,   9161,  19077,\n",
       "       128000,  21302,  10500, 107000,  55300,  74300,  48781,  87620,\n",
       "        40219,  11473,   8352,   9745,   9748,  20694,  31080,  37605,\n",
       "        55850,  58850,  23839,  45454,  46957, 190000,   1500,  47000,\n",
       "       116000,  26350,  71042, 167870, 133564,  23038,  43608,  11212,\n",
       "        49217,  28838, 135000,  19571,  29600,  13500,  48600, 127643,\n",
       "       102354,  62237,  21394,  32686,   1001,  53261,  14000,  39895,\n",
       "        73000,  17000,  18591,  26766, 300000,  27620, 223000, 161327,\n",
       "         6000,  71000, 144000,  37000,  26000,  27000,  13250, 101000,\n",
       "         8500,  90246,  60400,  70950,   1100,  31491, 107143,  46412,\n",
       "       107500,  43826,  55838, 112880,  30300,  80659,  81324, 127884,\n",
       "        66755, 123084, 806599,  95851, 234000, 170000,  96000,  19014,\n",
       "        23262,  35925,  40771,  30500,  55800,  66569,  81358,  82695,\n",
       "        68293, 190621,  64700,  88470, 126000,  74183,      1, 192000,\n",
       "        83411,  13270,  88000,   7000,  13770, 102000, 143000, 115000,\n",
       "       136906, 133000,  28689,  80322,  61658, 185000,  30600, 235000,\n",
       "        67000,  74500, 118700, 223660,   2000,  73756,  16400,  41395,\n",
       "        71014, 181000,  89550, 149500,  83000,  44800, 156000, 146000,\n",
       "        99000,  37516,  25880, 136000,   2020,  94000,  88500,  52536,\n",
       "         1950, 118400,   6480,  32077,  19107,  18469,  28217,  72787,\n",
       "        31063,  79641,  58692,  54784,  64156,   9500,  81366, 244000,\n",
       "       312000, 145000,   7300,  72539,    101,  52328,  91505,  20500,\n",
       "       154000,  41723,  68745,  27289,  24662,  28245,  27005,  39227,\n",
       "        31367,  35008, 100005,  45264,  39093,  45241,   2769,  43128,\n",
       "        22255,  59213,   1010,   1111,  48965,   5166,  76290,  45766,\n",
       "        78771,  79357,  76736,  92645, 101849, 155836,  63230,   1758,\n",
       "         1452,  35122,  92621,  92198, 152000,  78322,  54309,  34600,\n",
       "        38217,  77073,  16584,  81257,   3917,  69069,  59059,  39039,\n",
       "        33033,  55168,  41041,  67067,  66066,  82082,  70070,  63063,\n",
       "         9528, 135200,  50300, 151624,  74820, 129000,  66778,  63400,\n",
       "       157000,  38500, 103921,  14825,  43377, 102307, 245244,  68500,\n",
       "         5007,  49600,  43100,  10171,  41123,  20118,  52517,  99117,\n",
       "         3700,  43500, 137250,   5400,  11200,  93000,  62000,   5800,\n",
       "       267000, 250000,  28635,  32114,  95149,  68458, 105546, 104000,\n",
       "       132343,  26134,  52895,  42324,  60236,  10300, 142000,  28643,\n",
       "         7600,  47253,   4432,  68523,  80251,  34500,  42743,  93900,\n",
       "        55766, 113600, 138925, 121764, 105429,  23122,  44500,  13599,\n",
       "         5200,  12700,  95000,  45839,  74510,  87293, 156040,  93415,\n",
       "       101159,  68519,  55130,  65239,  58182,  91245, 102989, 108000,\n",
       "       178000,  75118,   4637,  42655,  69000, 117000, 105000, 182000,\n",
       "        24585,  13900,  17563, 173000, 151000, 117780,  81595,   9700,\n",
       "       221000,  28740,  48500, 148620, 270000,  41090, 296823,  89255,\n",
       "       168000,   5550,   1700,  45217,  44440,  91365,  90010,  31800,\n",
       "        59100,  31200,  22700,  50900,   2417,  65500, 140300,  10211,\n",
       "       260000,  32933,  54551,  57112,  41025,  53122,  64111,  78892,\n",
       "        74113,  84775,  20778,  64441,  43192,  44416,  79991,  62601,\n",
       "        89600,  60800,  69111,  20969,  20194,  34982,  44588,  57904,\n",
       "        59258,  60826,   1300,  31707, 115992, 109052,  90658,  25552,\n",
       "        40700,  11174,  72500,  76600,  97700,  37500,  23800,  44077,\n",
       "       210000,   9422, 240000,  17100, 224642, 222435, 159000, 101100,\n",
       "         1200, 134444, 238000, 165000,  63700,  74800,  60516,  76731,\n",
       "        63840,  76400,  31489, 295000, 158000, 400000,  19495,  62668,\n",
       "        85710,  63356, 129627,   4400,  14987,  25061,  42494,  44875,\n",
       "        89741, 347089, 222252,  55250,  12500, 162000,  22038,   2500,\n",
       "        89126, 134000,  42500, 131365,  48980,  98900,  13800,  99700,\n",
       "        49654,  45457,  39221,  48220,  11114,  60208,  98600,  85441,\n",
       "        64541,  16267,  71500,  12999,  14700,  92686,  49359, 108731,\n",
       "        29976,  30646,  23600,  71318,  78098,  18054,  38406,  54350,\n",
       "        32260,  58231,  59858,  73350,  88473,  96987,  77350,  61187,\n",
       "        68350,  81150, 280000, 105700,  37091,  38900,   9400,  14100,\n",
       "        37555,  56600,  67580,  48238,  38365,  23670,  49834,  57353,\n",
       "        68308,  63240,  64916,  37161, 118000,  50852,  53500,  51500,\n",
       "        79800,   6590,  49957,  43235,  50699, 140730, 256000, 218000,\n",
       "        66782, 112198])"
      ]
     },
     "execution_count": 365,
     "metadata": {},
     "output_type": "execute_result"
    }
   ],
   "source": [
    "used_car['km_driven'].unique()"
   ]
  },
  {
   "cell_type": "code",
   "execution_count": 366,
   "id": "2ed4490e-accc-49c2-b158-37130fb10194",
   "metadata": {},
   "outputs": [
    {
     "data": {
      "text/plain": [
       "array(['Petrol', 'Diesel', 'CNG', 'LPG', 'Electric'], dtype=object)"
      ]
     },
     "execution_count": 366,
     "metadata": {},
     "output_type": "execute_result"
    }
   ],
   "source": [
    "used_car['fuel'].unique()"
   ]
  },
  {
   "cell_type": "code",
   "execution_count": 367,
   "id": "ea956046-95dc-45cc-87a7-037dc9709042",
   "metadata": {},
   "outputs": [
    {
     "data": {
      "text/plain": [
       "array(['Maruti 800 AC', 'Maruti Wagon R LXI Minor',\n",
       "       'Hyundai Verna 1.6 SX', ..., 'Mahindra Verito 1.5 D6 BSIII',\n",
       "       'Toyota Innova 2.5 VX (Diesel) 8 Seater BS IV',\n",
       "       'Hyundai i20 Magna 1.4 CRDi'], dtype=object)"
      ]
     },
     "execution_count": 367,
     "metadata": {},
     "output_type": "execute_result"
    }
   ],
   "source": [
    "used_car['name'].unique()"
   ]
  },
  {
   "cell_type": "code",
   "execution_count": 368,
   "id": "87959ca7-a19a-43df-badf-6532c1f5eb6d",
   "metadata": {},
   "outputs": [],
   "source": [
    "#name column has tuple in that name is too long so we will keep only first three \n",
    "#First three words of full name as it will give more better categoricol name"
   ]
  },
  {
   "cell_type": "code",
   "execution_count": 369,
   "id": "1137a354-c851-4c8b-9062-a6d3a9c7bf58",
   "metadata": {},
   "outputs": [],
   "source": [
    "# Now we will clean the dataset as per our need"
   ]
  },
  {
   "cell_type": "code",
   "execution_count": 370,
   "id": "cd84282c-83fc-4a79-9edd-28e5ac31d5ca",
   "metadata": {},
   "outputs": [],
   "source": [
    "##Cleaning\n",
    "\n",
    "#first backup the copy as if while cleaning the date gets corrupted then\n",
    "#no need to reload the full dataset again , so more comfortable with backup copy, if dataset\n",
    "#is big\n",
    "\n",
    "backup=used_car.copy()"
   ]
  },
  {
   "cell_type": "code",
   "execution_count": 371,
   "id": "f7c17f1d-2fff-416c-8fd4-a748e66005f7",
   "metadata": {},
   "outputs": [],
   "source": [
    "#rename fuel column to fuel_type as it should be more understable.\n",
    "used_car.rename(columns = {'fuel':'fuel_type'}, inplace = True) "
   ]
  },
  {
   "cell_type": "code",
   "execution_count": 372,
   "id": "4ccce634-8484-4cf3-95c3-b87a07075894",
   "metadata": {},
   "outputs": [
    {
     "name": "stdout",
     "output_type": "stream",
     "text": [
      "<class 'pandas.core.frame.DataFrame'>\n",
      "RangeIndex: 4340 entries, 0 to 4339\n",
      "Data columns (total 5 columns):\n",
      " #   Column         Non-Null Count  Dtype \n",
      "---  ------         --------------  ----- \n",
      " 0   name           4340 non-null   object\n",
      " 1   year           4340 non-null   int64 \n",
      " 2   selling_price  4340 non-null   int64 \n",
      " 3   km_driven      4340 non-null   int64 \n",
      " 4   fuel_type      4340 non-null   object\n",
      "dtypes: int64(3), object(2)\n",
      "memory usage: 169.7+ KB\n"
     ]
    }
   ],
   "source": [
    "used_car.info()"
   ]
  },
  {
   "cell_type": "code",
   "execution_count": 373,
   "id": "542c7d1a-4aad-4d0c-8d72-86456dd40111",
   "metadata": {},
   "outputs": [
    {
     "data": {
      "text/plain": [
       "0                             Maruti 800 AC\n",
       "1                  Maruti Wagon R LXI Minor\n",
       "2                      Hyundai Verna 1.6 SX\n",
       "3                    Datsun RediGO T Option\n",
       "4                     Honda Amaze VX i-DTEC\n",
       "                       ...                 \n",
       "4335    Hyundai i20 Magna 1.4 CRDi (Diesel)\n",
       "4336             Hyundai i20 Magna 1.4 CRDi\n",
       "4337                    Maruti 800 AC BSIII\n",
       "4338       Hyundai Creta 1.6 CRDi SX Option\n",
       "4339                       Renault KWID RXT\n",
       "Name: name, Length: 4340, dtype: object"
      ]
     },
     "execution_count": 373,
     "metadata": {},
     "output_type": "execute_result"
    }
   ],
   "source": [
    "used_car['name']"
   ]
  },
  {
   "cell_type": "code",
   "execution_count": 374,
   "id": "5ae38a16-f9ad-43f0-aeb5-6cba4998e60d",
   "metadata": {},
   "outputs": [
    {
     "data": {
      "text/plain": [
       "0                                [Maruti, 800, AC]\n",
       "1                   [Maruti, Wagon, R, LXI, Minor]\n",
       "2                        [Hyundai, Verna, 1.6, SX]\n",
       "3                      [Datsun, RediGO, T, Option]\n",
       "4                       [Honda, Amaze, VX, i-DTEC]\n",
       "                           ...                    \n",
       "4335    [Hyundai, i20, Magna, 1.4, CRDi, (Diesel)]\n",
       "4336              [Hyundai, i20, Magna, 1.4, CRDi]\n",
       "4337                      [Maruti, 800, AC, BSIII]\n",
       "4338       [Hyundai, Creta, 1.6, CRDi, SX, Option]\n",
       "4339                          [Renault, KWID, RXT]\n",
       "Name: name, Length: 4340, dtype: object"
      ]
     },
     "execution_count": 374,
     "metadata": {},
     "output_type": "execute_result"
    }
   ],
   "source": [
    "#to only show three words of full name\n",
    "#first split the name with space\n",
    "\n",
    "used_car['name'].str.split(' ')\n"
   ]
  },
  {
   "cell_type": "code",
   "execution_count": 375,
   "id": "26812972-c7c8-4216-afbb-41471fc0eea4",
   "metadata": {},
   "outputs": [
    {
     "data": {
      "text/plain": [
       "0          [Maruti, 800]\n",
       "1        [Maruti, Wagon]\n",
       "2       [Hyundai, Verna]\n",
       "3       [Datsun, RediGO]\n",
       "4         [Honda, Amaze]\n",
       "              ...       \n",
       "4335      [Hyundai, i20]\n",
       "4336      [Hyundai, i20]\n",
       "4337       [Maruti, 800]\n",
       "4338    [Hyundai, Creta]\n",
       "4339     [Renault, KWID]\n",
       "Name: name, Length: 4340, dtype: object"
      ]
     },
     "execution_count": 375,
     "metadata": {},
     "output_type": "execute_result"
    }
   ],
   "source": [
    "#after this slice the name from 0 to 3 to get three words of name\n",
    "\n",
    "used_car['name'].str.split(' ').str.slice(0,2)"
   ]
  },
  {
   "cell_type": "code",
   "execution_count": 376,
   "id": "f7b84176-e0ac-4ec9-9246-5ffa4370d006",
   "metadata": {},
   "outputs": [
    {
     "data": {
      "text/plain": [
       "0          Maruti 800\n",
       "1        Maruti Wagon\n",
       "2       Hyundai Verna\n",
       "3       Datsun RediGO\n",
       "4         Honda Amaze\n",
       "            ...      \n",
       "4335      Hyundai i20\n",
       "4336      Hyundai i20\n",
       "4337       Maruti 800\n",
       "4338    Hyundai Creta\n",
       "4339     Renault KWID\n",
       "Name: name, Length: 4340, dtype: object"
      ]
     },
     "execution_count": 376,
     "metadata": {},
     "output_type": "execute_result"
    }
   ],
   "source": [
    "used_car['name'].str.split(' ').str.slice(0,2).str.join(' ')\n",
    "#now we will only get first three words of name"
   ]
  },
  {
   "cell_type": "code",
   "execution_count": 377,
   "id": "e7ce7cf2-b120-4589-bebf-d56914854db2",
   "metadata": {},
   "outputs": [],
   "source": [
    "#now put this backin car name column in dataset\n",
    "used_car['name']=used_car['name'].str.split(' ').str.slice(0,2).str.join(' ')"
   ]
  },
  {
   "cell_type": "code",
   "execution_count": 378,
   "id": "65353d1a-888d-460c-b237-9272cb3732cf",
   "metadata": {},
   "outputs": [
    {
     "data": {
      "text/plain": [
       "array(['Maruti 800', 'Maruti Wagon', 'Hyundai Verna', 'Datsun RediGO',\n",
       "       'Honda Amaze', 'Maruti Alto', 'Hyundai Xcent', 'Tata Indigo',\n",
       "       'Hyundai Creta', 'Maruti Celerio', 'Chevrolet Sail',\n",
       "       'Toyota Corolla', 'Maruti Ciaz', 'Hyundai Venue',\n",
       "       'Chevrolet Enjoy', 'Jaguar XF', 'Mercedes-Benz New',\n",
       "       'Maruti Vitara', 'Audi Q5', 'Honda City', 'Tata Tigor', 'Audi A6',\n",
       "       'Skoda Superb', 'Toyota Innova', 'Jeep Compass',\n",
       "       'Mercedes-Benz E-Class', 'Hyundai i10', 'BMW 3', 'Audi Q7',\n",
       "       'Hyundai Elantra', 'Mahindra Scorpio', 'Hyundai Santro',\n",
       "       'Hyundai Grand', 'Maruti Swift', 'Maruti Eeco', 'Hyundai i20',\n",
       "       'Maruti Omni', 'Mahindra Jeep', 'Tata Indica', 'Hyundai EON',\n",
       "       'Toyota Etios', 'Chevrolet Tavera', 'Ford EcoSport', 'Honda Civic',\n",
       "       'Skoda Rapid', 'Hyundai Getz', 'Nissan Terrano', 'Hyundai Elite',\n",
       "       'Honda Brio', 'Mercedes-Benz S-Class', 'Mahindra XUV500',\n",
       "       'Renault Duster', 'Mahindra Bolero', 'Fiat Avventura', 'Audi A8',\n",
       "       'Volkswagen Jetta', 'Audi A4', 'BMW X1', 'Volvo V40', 'Maruti SX4',\n",
       "       'BMW 7', 'Hyundai Sonata', 'Nissan Micra', 'Mahindra Xylo',\n",
       "       'Renault KWID', 'Maruti Ertiga', 'Chevrolet Beat', 'Maruti Zen',\n",
       "       'Maruti Baleno', 'Tata Nano', 'Chevrolet Cruze', 'Ford Figo',\n",
       "       'Chevrolet Spark', 'Tata Bolt', 'Mahindra Quanto', 'Jaguar XJ',\n",
       "       'Tata Nexon', 'Volkswagen Vento', 'Maruti Esteem', 'BMW 5',\n",
       "       'Fiat Linea', 'Renault Scala', 'Mahindra XUV300', 'Maruti S-Cross',\n",
       "       'Volkswagen Ameo', 'Mahindra Renault', 'Chevrolet Optra',\n",
       "       'Honda Mobilio', 'Tata Zest', 'Skoda Fabia', 'Datsun GO',\n",
       "       'Ford Fiesta', 'Tata Sumo', 'Honda Jazz', 'Tata Tiago',\n",
       "       'Mahindra Marazzo', 'Maruti A-Star', 'Skoda Yeti', 'Ford Aspire',\n",
       "       'Mitsubishi Outlander', 'Ford Endeavour', 'Volkswagen Polo',\n",
       "       'Maruti Ritz', 'Maruti Estilo', 'Tata Manza', 'Tata Safari',\n",
       "       'Toyota Fortuner', 'Ford Ecosport', 'Mahindra Supro',\n",
       "       'Mahindra KUV', 'Tata New', 'Honda Accord', 'Mahindra TUV',\n",
       "       'Honda BR-V', 'Ford Ikon', 'Fiat Punto', 'Honda WR-V',\n",
       "       'Skoda Laura', 'Hyundai Tucson', 'Mercedes-Benz GL-Class',\n",
       "       'Renault Pulse', 'Mercedes-Benz C-Class', 'BMW X5', 'Maruti Gypsy',\n",
       "       'Mahindra Verito', 'Tata Hexa', 'Tata Venture',\n",
       "       'Chevrolet Captiva', 'Chevrolet Aveo', 'Mahindra Thar',\n",
       "       'Skoda Octavia', 'Hyundai Accent', 'Land Rover', 'Renault Lodgy',\n",
       "       'Fiat Grande', 'Fiat Palio', 'Mercedes-Benz M-Class',\n",
       "       'Maruti Ignis', 'Nissan Sunny', 'Audi Q3', 'Audi A5',\n",
       "       'Toyota Camry', 'Mitsubishi Pajero', 'Tata Xenon',\n",
       "       'Renault Captur', 'Volkswagen Passat', 'Ford Freestyle',\n",
       "       'Mahindra Alturas', 'Tata Aria', 'Honda CR-V', 'Daewoo Matiz',\n",
       "       'Datsun redi-GO', 'MG Hector', 'Hyundai Santa', 'Force One',\n",
       "       'Mahindra NuvoSport', 'Maruti S-Presso', 'Toyota Yaris',\n",
       "       'Ford Fusion', 'Renault Fluence', 'Nissan Evalia',\n",
       "       'Renault Koleos', 'Tata Harrier', 'Tata Altroz', 'Isuzu D-Max',\n",
       "       'Nissan Kicks', 'OpelCorsa 1.6Gls', 'Honda BRV', 'Mercedes-Benz B',\n",
       "       'Fiat 500', 'Renault Triber', 'Mitsubishi Montero',\n",
       "       'Nissan X-Trail', 'Volvo XC60', 'Ambassador Classic',\n",
       "       'Ford Classic', 'Kia Seltos', 'OpelCorsa 1.4', 'Maruti Grand',\n",
       "       'Mahindra Ingenio', 'Ambassador Grand', 'Volkswagen CrossPolo',\n",
       "       'Tata Spacio', 'Tata Winger', 'Audi RS7', 'Ambassador CLASSIC',\n",
       "       'Mercedes-Benz GLS', 'Volvo XC', 'Toyota Qualis'], dtype=object)"
      ]
     },
     "execution_count": 378,
     "metadata": {},
     "output_type": "execute_result"
    }
   ],
   "source": [
    "used_car['name'].unique()"
   ]
  },
  {
   "cell_type": "code",
   "execution_count": 379,
   "id": "83d44dfe-6e25-42d6-9e09-59a0e353ca00",
   "metadata": {},
   "outputs": [
    {
     "data": {
      "text/html": [
       "<div>\n",
       "<style scoped>\n",
       "    .dataframe tbody tr th:only-of-type {\n",
       "        vertical-align: middle;\n",
       "    }\n",
       "\n",
       "    .dataframe tbody tr th {\n",
       "        vertical-align: top;\n",
       "    }\n",
       "\n",
       "    .dataframe thead th {\n",
       "        text-align: right;\n",
       "    }\n",
       "</style>\n",
       "<table border=\"1\" class=\"dataframe\">\n",
       "  <thead>\n",
       "    <tr style=\"text-align: right;\">\n",
       "      <th></th>\n",
       "      <th>name</th>\n",
       "      <th>year</th>\n",
       "      <th>selling_price</th>\n",
       "      <th>km_driven</th>\n",
       "      <th>fuel_type</th>\n",
       "    </tr>\n",
       "  </thead>\n",
       "  <tbody>\n",
       "    <tr>\n",
       "      <th>0</th>\n",
       "      <td>Maruti 800</td>\n",
       "      <td>2007</td>\n",
       "      <td>60000</td>\n",
       "      <td>70000</td>\n",
       "      <td>Petrol</td>\n",
       "    </tr>\n",
       "    <tr>\n",
       "      <th>1</th>\n",
       "      <td>Maruti Wagon</td>\n",
       "      <td>2007</td>\n",
       "      <td>135000</td>\n",
       "      <td>50000</td>\n",
       "      <td>Petrol</td>\n",
       "    </tr>\n",
       "    <tr>\n",
       "      <th>2</th>\n",
       "      <td>Hyundai Verna</td>\n",
       "      <td>2012</td>\n",
       "      <td>600000</td>\n",
       "      <td>100000</td>\n",
       "      <td>Diesel</td>\n",
       "    </tr>\n",
       "    <tr>\n",
       "      <th>3</th>\n",
       "      <td>Datsun RediGO</td>\n",
       "      <td>2017</td>\n",
       "      <td>250000</td>\n",
       "      <td>46000</td>\n",
       "      <td>Petrol</td>\n",
       "    </tr>\n",
       "    <tr>\n",
       "      <th>4</th>\n",
       "      <td>Honda Amaze</td>\n",
       "      <td>2014</td>\n",
       "      <td>450000</td>\n",
       "      <td>141000</td>\n",
       "      <td>Diesel</td>\n",
       "    </tr>\n",
       "    <tr>\n",
       "      <th>...</th>\n",
       "      <td>...</td>\n",
       "      <td>...</td>\n",
       "      <td>...</td>\n",
       "      <td>...</td>\n",
       "      <td>...</td>\n",
       "    </tr>\n",
       "    <tr>\n",
       "      <th>4335</th>\n",
       "      <td>Hyundai i20</td>\n",
       "      <td>2014</td>\n",
       "      <td>409999</td>\n",
       "      <td>80000</td>\n",
       "      <td>Diesel</td>\n",
       "    </tr>\n",
       "    <tr>\n",
       "      <th>4336</th>\n",
       "      <td>Hyundai i20</td>\n",
       "      <td>2014</td>\n",
       "      <td>409999</td>\n",
       "      <td>80000</td>\n",
       "      <td>Diesel</td>\n",
       "    </tr>\n",
       "    <tr>\n",
       "      <th>4337</th>\n",
       "      <td>Maruti 800</td>\n",
       "      <td>2009</td>\n",
       "      <td>110000</td>\n",
       "      <td>83000</td>\n",
       "      <td>Petrol</td>\n",
       "    </tr>\n",
       "    <tr>\n",
       "      <th>4338</th>\n",
       "      <td>Hyundai Creta</td>\n",
       "      <td>2016</td>\n",
       "      <td>865000</td>\n",
       "      <td>90000</td>\n",
       "      <td>Diesel</td>\n",
       "    </tr>\n",
       "    <tr>\n",
       "      <th>4339</th>\n",
       "      <td>Renault KWID</td>\n",
       "      <td>2016</td>\n",
       "      <td>225000</td>\n",
       "      <td>40000</td>\n",
       "      <td>Petrol</td>\n",
       "    </tr>\n",
       "  </tbody>\n",
       "</table>\n",
       "<p>4340 rows × 5 columns</p>\n",
       "</div>"
      ],
      "text/plain": [
       "               name  year  selling_price  km_driven fuel_type\n",
       "0        Maruti 800  2007          60000      70000    Petrol\n",
       "1      Maruti Wagon  2007         135000      50000    Petrol\n",
       "2     Hyundai Verna  2012         600000     100000    Diesel\n",
       "3     Datsun RediGO  2017         250000      46000    Petrol\n",
       "4       Honda Amaze  2014         450000     141000    Diesel\n",
       "...             ...   ...            ...        ...       ...\n",
       "4335    Hyundai i20  2014         409999      80000    Diesel\n",
       "4336    Hyundai i20  2014         409999      80000    Diesel\n",
       "4337     Maruti 800  2009         110000      83000    Petrol\n",
       "4338  Hyundai Creta  2016         865000      90000    Diesel\n",
       "4339   Renault KWID  2016         225000      40000    Petrol\n",
       "\n",
       "[4340 rows x 5 columns]"
      ]
     },
     "execution_count": 379,
     "metadata": {},
     "output_type": "execute_result"
    }
   ],
   "source": [
    "used_car"
   ]
  },
  {
   "cell_type": "code",
   "execution_count": 380,
   "id": "e22e7a2e-4c57-441c-85ed-b6ef5785a259",
   "metadata": {},
   "outputs": [
    {
     "name": "stdout",
     "output_type": "stream",
     "text": [
      "<class 'pandas.core.frame.DataFrame'>\n",
      "RangeIndex: 4340 entries, 0 to 4339\n",
      "Data columns (total 5 columns):\n",
      " #   Column         Non-Null Count  Dtype \n",
      "---  ------         --------------  ----- \n",
      " 0   name           4340 non-null   object\n",
      " 1   year           4340 non-null   int64 \n",
      " 2   selling_price  4340 non-null   int64 \n",
      " 3   km_driven      4340 non-null   int64 \n",
      " 4   fuel_type      4340 non-null   object\n",
      "dtypes: int64(3), object(2)\n",
      "memory usage: 169.7+ KB\n"
     ]
    }
   ],
   "source": [
    "used_car.info()"
   ]
  },
  {
   "cell_type": "code",
   "execution_count": 381,
   "id": "9a7dcc5a-0e85-4599-81d4-0be4c31ad092",
   "metadata": {},
   "outputs": [
    {
     "data": {
      "text/html": [
       "<div>\n",
       "<style scoped>\n",
       "    .dataframe tbody tr th:only-of-type {\n",
       "        vertical-align: middle;\n",
       "    }\n",
       "\n",
       "    .dataframe tbody tr th {\n",
       "        vertical-align: top;\n",
       "    }\n",
       "\n",
       "    .dataframe thead th {\n",
       "        text-align: right;\n",
       "    }\n",
       "</style>\n",
       "<table border=\"1\" class=\"dataframe\">\n",
       "  <thead>\n",
       "    <tr style=\"text-align: right;\">\n",
       "      <th></th>\n",
       "      <th>year</th>\n",
       "      <th>selling_price</th>\n",
       "      <th>km_driven</th>\n",
       "    </tr>\n",
       "  </thead>\n",
       "  <tbody>\n",
       "    <tr>\n",
       "      <th>count</th>\n",
       "      <td>4340.000000</td>\n",
       "      <td>4.340000e+03</td>\n",
       "      <td>4340.000000</td>\n",
       "    </tr>\n",
       "    <tr>\n",
       "      <th>mean</th>\n",
       "      <td>2013.090783</td>\n",
       "      <td>5.041273e+05</td>\n",
       "      <td>66215.777419</td>\n",
       "    </tr>\n",
       "    <tr>\n",
       "      <th>std</th>\n",
       "      <td>4.215344</td>\n",
       "      <td>5.785487e+05</td>\n",
       "      <td>46644.102194</td>\n",
       "    </tr>\n",
       "    <tr>\n",
       "      <th>min</th>\n",
       "      <td>1992.000000</td>\n",
       "      <td>2.000000e+04</td>\n",
       "      <td>1.000000</td>\n",
       "    </tr>\n",
       "    <tr>\n",
       "      <th>25%</th>\n",
       "      <td>2011.000000</td>\n",
       "      <td>2.087498e+05</td>\n",
       "      <td>35000.000000</td>\n",
       "    </tr>\n",
       "    <tr>\n",
       "      <th>50%</th>\n",
       "      <td>2014.000000</td>\n",
       "      <td>3.500000e+05</td>\n",
       "      <td>60000.000000</td>\n",
       "    </tr>\n",
       "    <tr>\n",
       "      <th>75%</th>\n",
       "      <td>2016.000000</td>\n",
       "      <td>6.000000e+05</td>\n",
       "      <td>90000.000000</td>\n",
       "    </tr>\n",
       "    <tr>\n",
       "      <th>max</th>\n",
       "      <td>2020.000000</td>\n",
       "      <td>8.900000e+06</td>\n",
       "      <td>806599.000000</td>\n",
       "    </tr>\n",
       "  </tbody>\n",
       "</table>\n",
       "</div>"
      ],
      "text/plain": [
       "              year  selling_price      km_driven\n",
       "count  4340.000000   4.340000e+03    4340.000000\n",
       "mean   2013.090783   5.041273e+05   66215.777419\n",
       "std       4.215344   5.785487e+05   46644.102194\n",
       "min    1992.000000   2.000000e+04       1.000000\n",
       "25%    2011.000000   2.087498e+05   35000.000000\n",
       "50%    2014.000000   3.500000e+05   60000.000000\n",
       "75%    2016.000000   6.000000e+05   90000.000000\n",
       "max    2020.000000   8.900000e+06  806599.000000"
      ]
     },
     "execution_count": 381,
     "metadata": {},
     "output_type": "execute_result"
    }
   ],
   "source": [
    "used_car.describe()"
   ]
  },
  {
   "cell_type": "code",
   "execution_count": 382,
   "id": "21560add-6512-4f43-9127-a81ce1ea8e45",
   "metadata": {},
   "outputs": [],
   "source": [
    "#till 75% third quartile, car are between 60 lacks aasume but after that it is 89 lack so \n",
    "#so there is an outlier\n",
    "#so checking how many outlier is there in this\n",
    "#first give a paricular condition to check this above"
   ]
  },
  {
   "cell_type": "code",
   "execution_count": 383,
   "id": "6cb00d37-37ab-4169-aaae-26b1db463543",
   "metadata": {},
   "outputs": [],
   "source": [
    "#Condiiton is that first check outlier with \n",
    "#condition take seems > then 6e6 60 lack assume then remove that outlier\n",
    "#so there two columns above 60 lack so that are outlier\n",
    "#drop that column\n",
    "used_car=used_car[used_car['selling_price']<6e6].reset_index(drop=True)"
   ]
  },
  {
   "cell_type": "code",
   "execution_count": 384,
   "id": "d9c52aa9-5ec7-4a56-ba79-0eec337452f2",
   "metadata": {},
   "outputs": [
    {
     "data": {
      "text/html": [
       "<div>\n",
       "<style scoped>\n",
       "    .dataframe tbody tr th:only-of-type {\n",
       "        vertical-align: middle;\n",
       "    }\n",
       "\n",
       "    .dataframe tbody tr th {\n",
       "        vertical-align: top;\n",
       "    }\n",
       "\n",
       "    .dataframe thead th {\n",
       "        text-align: right;\n",
       "    }\n",
       "</style>\n",
       "<table border=\"1\" class=\"dataframe\">\n",
       "  <thead>\n",
       "    <tr style=\"text-align: right;\">\n",
       "      <th></th>\n",
       "      <th>name</th>\n",
       "      <th>year</th>\n",
       "      <th>selling_price</th>\n",
       "      <th>km_driven</th>\n",
       "      <th>fuel_type</th>\n",
       "    </tr>\n",
       "  </thead>\n",
       "  <tbody>\n",
       "    <tr>\n",
       "      <th>0</th>\n",
       "      <td>Maruti 800</td>\n",
       "      <td>2007</td>\n",
       "      <td>60000</td>\n",
       "      <td>70000</td>\n",
       "      <td>Petrol</td>\n",
       "    </tr>\n",
       "    <tr>\n",
       "      <th>1</th>\n",
       "      <td>Maruti Wagon</td>\n",
       "      <td>2007</td>\n",
       "      <td>135000</td>\n",
       "      <td>50000</td>\n",
       "      <td>Petrol</td>\n",
       "    </tr>\n",
       "    <tr>\n",
       "      <th>2</th>\n",
       "      <td>Hyundai Verna</td>\n",
       "      <td>2012</td>\n",
       "      <td>600000</td>\n",
       "      <td>100000</td>\n",
       "      <td>Diesel</td>\n",
       "    </tr>\n",
       "    <tr>\n",
       "      <th>3</th>\n",
       "      <td>Datsun RediGO</td>\n",
       "      <td>2017</td>\n",
       "      <td>250000</td>\n",
       "      <td>46000</td>\n",
       "      <td>Petrol</td>\n",
       "    </tr>\n",
       "    <tr>\n",
       "      <th>4</th>\n",
       "      <td>Honda Amaze</td>\n",
       "      <td>2014</td>\n",
       "      <td>450000</td>\n",
       "      <td>141000</td>\n",
       "      <td>Diesel</td>\n",
       "    </tr>\n",
       "    <tr>\n",
       "      <th>...</th>\n",
       "      <td>...</td>\n",
       "      <td>...</td>\n",
       "      <td>...</td>\n",
       "      <td>...</td>\n",
       "      <td>...</td>\n",
       "    </tr>\n",
       "    <tr>\n",
       "      <th>4333</th>\n",
       "      <td>Hyundai i20</td>\n",
       "      <td>2014</td>\n",
       "      <td>409999</td>\n",
       "      <td>80000</td>\n",
       "      <td>Diesel</td>\n",
       "    </tr>\n",
       "    <tr>\n",
       "      <th>4334</th>\n",
       "      <td>Hyundai i20</td>\n",
       "      <td>2014</td>\n",
       "      <td>409999</td>\n",
       "      <td>80000</td>\n",
       "      <td>Diesel</td>\n",
       "    </tr>\n",
       "    <tr>\n",
       "      <th>4335</th>\n",
       "      <td>Maruti 800</td>\n",
       "      <td>2009</td>\n",
       "      <td>110000</td>\n",
       "      <td>83000</td>\n",
       "      <td>Petrol</td>\n",
       "    </tr>\n",
       "    <tr>\n",
       "      <th>4336</th>\n",
       "      <td>Hyundai Creta</td>\n",
       "      <td>2016</td>\n",
       "      <td>865000</td>\n",
       "      <td>90000</td>\n",
       "      <td>Diesel</td>\n",
       "    </tr>\n",
       "    <tr>\n",
       "      <th>4337</th>\n",
       "      <td>Renault KWID</td>\n",
       "      <td>2016</td>\n",
       "      <td>225000</td>\n",
       "      <td>40000</td>\n",
       "      <td>Petrol</td>\n",
       "    </tr>\n",
       "  </tbody>\n",
       "</table>\n",
       "<p>4338 rows × 5 columns</p>\n",
       "</div>"
      ],
      "text/plain": [
       "               name  year  selling_price  km_driven fuel_type\n",
       "0        Maruti 800  2007          60000      70000    Petrol\n",
       "1      Maruti Wagon  2007         135000      50000    Petrol\n",
       "2     Hyundai Verna  2012         600000     100000    Diesel\n",
       "3     Datsun RediGO  2017         250000      46000    Petrol\n",
       "4       Honda Amaze  2014         450000     141000    Diesel\n",
       "...             ...   ...            ...        ...       ...\n",
       "4333    Hyundai i20  2014         409999      80000    Diesel\n",
       "4334    Hyundai i20  2014         409999      80000    Diesel\n",
       "4335     Maruti 800  2009         110000      83000    Petrol\n",
       "4336  Hyundai Creta  2016         865000      90000    Diesel\n",
       "4337   Renault KWID  2016         225000      40000    Petrol\n",
       "\n",
       "[4338 rows x 5 columns]"
      ]
     },
     "execution_count": 384,
     "metadata": {},
     "output_type": "execute_result"
    }
   ],
   "source": [
    "used_car"
   ]
  },
  {
   "cell_type": "code",
   "execution_count": 385,
   "id": "233e8ff5-9081-402f-beb8-7473921f1a2f",
   "metadata": {},
   "outputs": [],
   "source": [
    "#now for better understanding i am saving the this cleaned csv in file with other name\n",
    "\n",
    "used_car.to_csv('cleaned_used_cars.csv')"
   ]
  },
  {
   "cell_type": "code",
   "execution_count": 386,
   "id": "e3971ba2-d47b-4041-922a-3e61a2714892",
   "metadata": {},
   "outputs": [],
   "source": [
    "##Build the Model\n",
    "\n",
    "#extract the feature and not want drop , will come all in X\n",
    "#and target column price ,which is dropped will come in y \n",
    "\n",
    "X=used_car.drop(columns='selling_price')\n",
    "y=used_car['selling_price']  #target column"
   ]
  },
  {
   "cell_type": "code",
   "execution_count": 387,
   "id": "635dfc7e-487c-487d-93fe-37eddc28d4c9",
   "metadata": {},
   "outputs": [
    {
     "data": {
      "text/html": [
       "<div>\n",
       "<style scoped>\n",
       "    .dataframe tbody tr th:only-of-type {\n",
       "        vertical-align: middle;\n",
       "    }\n",
       "\n",
       "    .dataframe tbody tr th {\n",
       "        vertical-align: top;\n",
       "    }\n",
       "\n",
       "    .dataframe thead th {\n",
       "        text-align: right;\n",
       "    }\n",
       "</style>\n",
       "<table border=\"1\" class=\"dataframe\">\n",
       "  <thead>\n",
       "    <tr style=\"text-align: right;\">\n",
       "      <th></th>\n",
       "      <th>name</th>\n",
       "      <th>year</th>\n",
       "      <th>km_driven</th>\n",
       "      <th>fuel_type</th>\n",
       "    </tr>\n",
       "  </thead>\n",
       "  <tbody>\n",
       "    <tr>\n",
       "      <th>0</th>\n",
       "      <td>Maruti 800</td>\n",
       "      <td>2007</td>\n",
       "      <td>70000</td>\n",
       "      <td>Petrol</td>\n",
       "    </tr>\n",
       "    <tr>\n",
       "      <th>1</th>\n",
       "      <td>Maruti Wagon</td>\n",
       "      <td>2007</td>\n",
       "      <td>50000</td>\n",
       "      <td>Petrol</td>\n",
       "    </tr>\n",
       "    <tr>\n",
       "      <th>2</th>\n",
       "      <td>Hyundai Verna</td>\n",
       "      <td>2012</td>\n",
       "      <td>100000</td>\n",
       "      <td>Diesel</td>\n",
       "    </tr>\n",
       "    <tr>\n",
       "      <th>3</th>\n",
       "      <td>Datsun RediGO</td>\n",
       "      <td>2017</td>\n",
       "      <td>46000</td>\n",
       "      <td>Petrol</td>\n",
       "    </tr>\n",
       "    <tr>\n",
       "      <th>4</th>\n",
       "      <td>Honda Amaze</td>\n",
       "      <td>2014</td>\n",
       "      <td>141000</td>\n",
       "      <td>Diesel</td>\n",
       "    </tr>\n",
       "    <tr>\n",
       "      <th>...</th>\n",
       "      <td>...</td>\n",
       "      <td>...</td>\n",
       "      <td>...</td>\n",
       "      <td>...</td>\n",
       "    </tr>\n",
       "    <tr>\n",
       "      <th>4333</th>\n",
       "      <td>Hyundai i20</td>\n",
       "      <td>2014</td>\n",
       "      <td>80000</td>\n",
       "      <td>Diesel</td>\n",
       "    </tr>\n",
       "    <tr>\n",
       "      <th>4334</th>\n",
       "      <td>Hyundai i20</td>\n",
       "      <td>2014</td>\n",
       "      <td>80000</td>\n",
       "      <td>Diesel</td>\n",
       "    </tr>\n",
       "    <tr>\n",
       "      <th>4335</th>\n",
       "      <td>Maruti 800</td>\n",
       "      <td>2009</td>\n",
       "      <td>83000</td>\n",
       "      <td>Petrol</td>\n",
       "    </tr>\n",
       "    <tr>\n",
       "      <th>4336</th>\n",
       "      <td>Hyundai Creta</td>\n",
       "      <td>2016</td>\n",
       "      <td>90000</td>\n",
       "      <td>Diesel</td>\n",
       "    </tr>\n",
       "    <tr>\n",
       "      <th>4337</th>\n",
       "      <td>Renault KWID</td>\n",
       "      <td>2016</td>\n",
       "      <td>40000</td>\n",
       "      <td>Petrol</td>\n",
       "    </tr>\n",
       "  </tbody>\n",
       "</table>\n",
       "<p>4338 rows × 4 columns</p>\n",
       "</div>"
      ],
      "text/plain": [
       "               name  year  km_driven fuel_type\n",
       "0        Maruti 800  2007      70000    Petrol\n",
       "1      Maruti Wagon  2007      50000    Petrol\n",
       "2     Hyundai Verna  2012     100000    Diesel\n",
       "3     Datsun RediGO  2017      46000    Petrol\n",
       "4       Honda Amaze  2014     141000    Diesel\n",
       "...             ...   ...        ...       ...\n",
       "4333    Hyundai i20  2014      80000    Diesel\n",
       "4334    Hyundai i20  2014      80000    Diesel\n",
       "4335     Maruti 800  2009      83000    Petrol\n",
       "4336  Hyundai Creta  2016      90000    Diesel\n",
       "4337   Renault KWID  2016      40000    Petrol\n",
       "\n",
       "[4338 rows x 4 columns]"
      ]
     },
     "execution_count": 387,
     "metadata": {},
     "output_type": "execute_result"
    }
   ],
   "source": [
    "X #all features except price"
   ]
  },
  {
   "cell_type": "code",
   "execution_count": 388,
   "id": "f45948f3-8293-4f00-91be-9e795da1a254",
   "metadata": {},
   "outputs": [
    {
     "data": {
      "text/plain": [
       "0        60000\n",
       "1       135000\n",
       "2       600000\n",
       "3       250000\n",
       "4       450000\n",
       "         ...  \n",
       "4333    409999\n",
       "4334    409999\n",
       "4335    110000\n",
       "4336    865000\n",
       "4337    225000\n",
       "Name: selling_price, Length: 4338, dtype: int64"
      ]
     },
     "execution_count": 388,
     "metadata": {},
     "output_type": "execute_result"
    }
   ],
   "source": [
    "y # target column"
   ]
  },
  {
   "cell_type": "code",
   "execution_count": 389,
   "id": "e990799c-d8bc-4c12-92e8-9a77e3435f51",
   "metadata": {},
   "outputs": [],
   "source": [
    "#we will import necessary files all\n",
    "#train_test_split from sklearn\n",
    "\n",
    "from sklearn.model_selection import train_test_split\n",
    "X_train,X_test,y_train,y_test=train_test_split(X,y, test_size=0.2)"
   ]
  },
  {
   "cell_type": "code",
   "execution_count": 390,
   "id": "5e3d549c-1b21-4b37-97b7-d98a7dfa33a5",
   "metadata": {},
   "outputs": [],
   "source": [
    "#using linerRegression model\n",
    "from sklearn.linear_model import LinearRegression\n",
    "from sklearn.metrics import r2_score #from r2_score we measure regression problems\n",
    "from sklearn.preprocessing import OneHotEncoder"
   ]
  },
  {
   "cell_type": "code",
   "execution_count": 391,
   "id": "0d95352f-b248-4274-b4fb-8ba2df8551a2",
   "metadata": {},
   "outputs": [
    {
     "data": {
      "text/html": [
       "<div>\n",
       "<style scoped>\n",
       "    .dataframe tbody tr th:only-of-type {\n",
       "        vertical-align: middle;\n",
       "    }\n",
       "\n",
       "    .dataframe tbody tr th {\n",
       "        vertical-align: top;\n",
       "    }\n",
       "\n",
       "    .dataframe thead th {\n",
       "        text-align: right;\n",
       "    }\n",
       "</style>\n",
       "<table border=\"1\" class=\"dataframe\">\n",
       "  <thead>\n",
       "    <tr style=\"text-align: right;\">\n",
       "      <th></th>\n",
       "      <th>name</th>\n",
       "      <th>year</th>\n",
       "      <th>selling_price</th>\n",
       "      <th>km_driven</th>\n",
       "      <th>fuel_type</th>\n",
       "    </tr>\n",
       "  </thead>\n",
       "  <tbody>\n",
       "    <tr>\n",
       "      <th>0</th>\n",
       "      <td>Maruti 800</td>\n",
       "      <td>2007</td>\n",
       "      <td>60000</td>\n",
       "      <td>70000</td>\n",
       "      <td>Petrol</td>\n",
       "    </tr>\n",
       "    <tr>\n",
       "      <th>1</th>\n",
       "      <td>Maruti Wagon</td>\n",
       "      <td>2007</td>\n",
       "      <td>135000</td>\n",
       "      <td>50000</td>\n",
       "      <td>Petrol</td>\n",
       "    </tr>\n",
       "    <tr>\n",
       "      <th>2</th>\n",
       "      <td>Hyundai Verna</td>\n",
       "      <td>2012</td>\n",
       "      <td>600000</td>\n",
       "      <td>100000</td>\n",
       "      <td>Diesel</td>\n",
       "    </tr>\n",
       "    <tr>\n",
       "      <th>3</th>\n",
       "      <td>Datsun RediGO</td>\n",
       "      <td>2017</td>\n",
       "      <td>250000</td>\n",
       "      <td>46000</td>\n",
       "      <td>Petrol</td>\n",
       "    </tr>\n",
       "    <tr>\n",
       "      <th>4</th>\n",
       "      <td>Honda Amaze</td>\n",
       "      <td>2014</td>\n",
       "      <td>450000</td>\n",
       "      <td>141000</td>\n",
       "      <td>Diesel</td>\n",
       "    </tr>\n",
       "    <tr>\n",
       "      <th>...</th>\n",
       "      <td>...</td>\n",
       "      <td>...</td>\n",
       "      <td>...</td>\n",
       "      <td>...</td>\n",
       "      <td>...</td>\n",
       "    </tr>\n",
       "    <tr>\n",
       "      <th>4333</th>\n",
       "      <td>Hyundai i20</td>\n",
       "      <td>2014</td>\n",
       "      <td>409999</td>\n",
       "      <td>80000</td>\n",
       "      <td>Diesel</td>\n",
       "    </tr>\n",
       "    <tr>\n",
       "      <th>4334</th>\n",
       "      <td>Hyundai i20</td>\n",
       "      <td>2014</td>\n",
       "      <td>409999</td>\n",
       "      <td>80000</td>\n",
       "      <td>Diesel</td>\n",
       "    </tr>\n",
       "    <tr>\n",
       "      <th>4335</th>\n",
       "      <td>Maruti 800</td>\n",
       "      <td>2009</td>\n",
       "      <td>110000</td>\n",
       "      <td>83000</td>\n",
       "      <td>Petrol</td>\n",
       "    </tr>\n",
       "    <tr>\n",
       "      <th>4336</th>\n",
       "      <td>Hyundai Creta</td>\n",
       "      <td>2016</td>\n",
       "      <td>865000</td>\n",
       "      <td>90000</td>\n",
       "      <td>Diesel</td>\n",
       "    </tr>\n",
       "    <tr>\n",
       "      <th>4337</th>\n",
       "      <td>Renault KWID</td>\n",
       "      <td>2016</td>\n",
       "      <td>225000</td>\n",
       "      <td>40000</td>\n",
       "      <td>Petrol</td>\n",
       "    </tr>\n",
       "  </tbody>\n",
       "</table>\n",
       "<p>4338 rows × 5 columns</p>\n",
       "</div>"
      ],
      "text/plain": [
       "               name  year  selling_price  km_driven fuel_type\n",
       "0        Maruti 800  2007          60000      70000    Petrol\n",
       "1      Maruti Wagon  2007         135000      50000    Petrol\n",
       "2     Hyundai Verna  2012         600000     100000    Diesel\n",
       "3     Datsun RediGO  2017         250000      46000    Petrol\n",
       "4       Honda Amaze  2014         450000     141000    Diesel\n",
       "...             ...   ...            ...        ...       ...\n",
       "4333    Hyundai i20  2014         409999      80000    Diesel\n",
       "4334    Hyundai i20  2014         409999      80000    Diesel\n",
       "4335     Maruti 800  2009         110000      83000    Petrol\n",
       "4336  Hyundai Creta  2016         865000      90000    Diesel\n",
       "4337   Renault KWID  2016         225000      40000    Petrol\n",
       "\n",
       "[4338 rows x 5 columns]"
      ]
     },
     "execution_count": 391,
     "metadata": {},
     "output_type": "execute_result"
    }
   ],
   "source": [
    "used_car"
   ]
  },
  {
   "cell_type": "code",
   "execution_count": 392,
   "id": "bf3f0253-aed5-4bd7-bd31-0c6d83a35ec6",
   "metadata": {},
   "outputs": [
    {
     "data": {
      "text/html": [
       "<style>#sk-container-id-12 {color: black;background-color: white;}#sk-container-id-12 pre{padding: 0;}#sk-container-id-12 div.sk-toggleable {background-color: white;}#sk-container-id-12 label.sk-toggleable__label {cursor: pointer;display: block;width: 100%;margin-bottom: 0;padding: 0.3em;box-sizing: border-box;text-align: center;}#sk-container-id-12 label.sk-toggleable__label-arrow:before {content: \"▸\";float: left;margin-right: 0.25em;color: #696969;}#sk-container-id-12 label.sk-toggleable__label-arrow:hover:before {color: black;}#sk-container-id-12 div.sk-estimator:hover label.sk-toggleable__label-arrow:before {color: black;}#sk-container-id-12 div.sk-toggleable__content {max-height: 0;max-width: 0;overflow: hidden;text-align: left;background-color: #f0f8ff;}#sk-container-id-12 div.sk-toggleable__content pre {margin: 0.2em;color: black;border-radius: 0.25em;background-color: #f0f8ff;}#sk-container-id-12 input.sk-toggleable__control:checked~div.sk-toggleable__content {max-height: 200px;max-width: 100%;overflow: auto;}#sk-container-id-12 input.sk-toggleable__control:checked~label.sk-toggleable__label-arrow:before {content: \"▾\";}#sk-container-id-12 div.sk-estimator input.sk-toggleable__control:checked~label.sk-toggleable__label {background-color: #d4ebff;}#sk-container-id-12 div.sk-label input.sk-toggleable__control:checked~label.sk-toggleable__label {background-color: #d4ebff;}#sk-container-id-12 input.sk-hidden--visually {border: 0;clip: rect(1px 1px 1px 1px);clip: rect(1px, 1px, 1px, 1px);height: 1px;margin: -1px;overflow: hidden;padding: 0;position: absolute;width: 1px;}#sk-container-id-12 div.sk-estimator {font-family: monospace;background-color: #f0f8ff;border: 1px dotted black;border-radius: 0.25em;box-sizing: border-box;margin-bottom: 0.5em;}#sk-container-id-12 div.sk-estimator:hover {background-color: #d4ebff;}#sk-container-id-12 div.sk-parallel-item::after {content: \"\";width: 100%;border-bottom: 1px solid gray;flex-grow: 1;}#sk-container-id-12 div.sk-label:hover label.sk-toggleable__label {background-color: #d4ebff;}#sk-container-id-12 div.sk-serial::before {content: \"\";position: absolute;border-left: 1px solid gray;box-sizing: border-box;top: 0;bottom: 0;left: 50%;z-index: 0;}#sk-container-id-12 div.sk-serial {display: flex;flex-direction: column;align-items: center;background-color: white;padding-right: 0.2em;padding-left: 0.2em;position: relative;}#sk-container-id-12 div.sk-item {position: relative;z-index: 1;}#sk-container-id-12 div.sk-parallel {display: flex;align-items: stretch;justify-content: center;background-color: white;position: relative;}#sk-container-id-12 div.sk-item::before, #sk-container-id-12 div.sk-parallel-item::before {content: \"\";position: absolute;border-left: 1px solid gray;box-sizing: border-box;top: 0;bottom: 0;left: 50%;z-index: -1;}#sk-container-id-12 div.sk-parallel-item {display: flex;flex-direction: column;z-index: 1;position: relative;background-color: white;}#sk-container-id-12 div.sk-parallel-item:first-child::after {align-self: flex-end;width: 50%;}#sk-container-id-12 div.sk-parallel-item:last-child::after {align-self: flex-start;width: 50%;}#sk-container-id-12 div.sk-parallel-item:only-child::after {width: 0;}#sk-container-id-12 div.sk-dashed-wrapped {border: 1px dashed gray;margin: 0 0.4em 0.5em 0.4em;box-sizing: border-box;padding-bottom: 0.4em;background-color: white;}#sk-container-id-12 div.sk-label label {font-family: monospace;font-weight: bold;display: inline-block;line-height: 1.2em;}#sk-container-id-12 div.sk-label-container {text-align: center;}#sk-container-id-12 div.sk-container {/* jupyter's `normalize.less` sets `[hidden] { display: none; }` but bootstrap.min.css set `[hidden] { display: none !important; }` so we also need the `!important` here to be able to override the default hidden behavior on the sphinx rendered scikit-learn.org. See: https://github.com/scikit-learn/scikit-learn/issues/21755 */display: inline-block !important;position: relative;}#sk-container-id-12 div.sk-text-repr-fallback {display: none;}</style><div id=\"sk-container-id-12\" class=\"sk-top-container\"><div class=\"sk-text-repr-fallback\"><pre>OneHotEncoder()</pre><b>In a Jupyter environment, please rerun this cell to show the HTML representation or trust the notebook. <br />On GitHub, the HTML representation is unable to render, please try loading this page with nbviewer.org.</b></div><div class=\"sk-container\" hidden><div class=\"sk-item\"><div class=\"sk-estimator sk-toggleable\"><input class=\"sk-toggleable__control sk-hidden--visually\" id=\"sk-estimator-id-42\" type=\"checkbox\" checked><label for=\"sk-estimator-id-42\" class=\"sk-toggleable__label sk-toggleable__label-arrow\">OneHotEncoder</label><div class=\"sk-toggleable__content\"><pre>OneHotEncoder()</pre></div></div></div></div></div>"
      ],
      "text/plain": [
       "OneHotEncoder()"
      ]
     },
     "execution_count": 392,
     "metadata": {},
     "output_type": "execute_result"
    }
   ],
   "source": [
    "#now in onehatencoder we r gona make the object of onehatencoder\n",
    "#and in that we r gona fit all categorical values of X\n",
    "\n",
    "ohe = OneHotEncoder()\n",
    "ohe.fit(X[['name','fuel_type']])"
   ]
  },
  {
   "cell_type": "code",
   "execution_count": 393,
   "id": "3a6ccf9b-9b20-4685-8f59-2191c47746ef",
   "metadata": {},
   "outputs": [],
   "source": [
    "#now transform all X_traine and X_test using this onehotencoder\n",
    "\n",
    "from sklearn.compose import make_column_transformer\n",
    "from sklearn.pipeline import make_pipeline"
   ]
  },
  {
   "cell_type": "code",
   "execution_count": 394,
   "id": "72a40a2c-4789-44ac-a1ad-b83b2a85bd3a",
   "metadata": {},
   "outputs": [
    {
     "data": {
      "text/plain": [
       "[array(['Ambassador CLASSIC', 'Ambassador Classic', 'Ambassador Grand',\n",
       "        'Audi A4', 'Audi A5', 'Audi A6', 'Audi A8', 'Audi Q3', 'Audi Q5',\n",
       "        'Audi Q7', 'BMW 3', 'BMW 5', 'BMW 7', 'BMW X1', 'BMW X5',\n",
       "        'Chevrolet Aveo', 'Chevrolet Beat', 'Chevrolet Captiva',\n",
       "        'Chevrolet Cruze', 'Chevrolet Enjoy', 'Chevrolet Optra',\n",
       "        'Chevrolet Sail', 'Chevrolet Spark', 'Chevrolet Tavera',\n",
       "        'Daewoo Matiz', 'Datsun GO', 'Datsun RediGO', 'Datsun redi-GO',\n",
       "        'Fiat 500', 'Fiat Avventura', 'Fiat Grande', 'Fiat Linea',\n",
       "        'Fiat Palio', 'Fiat Punto', 'Force One', 'Ford Aspire',\n",
       "        'Ford Classic', 'Ford EcoSport', 'Ford Ecosport', 'Ford Endeavour',\n",
       "        'Ford Fiesta', 'Ford Figo', 'Ford Freestyle', 'Ford Fusion',\n",
       "        'Ford Ikon', 'Honda Accord', 'Honda Amaze', 'Honda BR-V',\n",
       "        'Honda BRV', 'Honda Brio', 'Honda CR-V', 'Honda City',\n",
       "        'Honda Civic', 'Honda Jazz', 'Honda Mobilio', 'Honda WR-V',\n",
       "        'Hyundai Accent', 'Hyundai Creta', 'Hyundai EON',\n",
       "        'Hyundai Elantra', 'Hyundai Elite', 'Hyundai Getz',\n",
       "        'Hyundai Grand', 'Hyundai Santa', 'Hyundai Santro',\n",
       "        'Hyundai Sonata', 'Hyundai Tucson', 'Hyundai Venue',\n",
       "        'Hyundai Verna', 'Hyundai Xcent', 'Hyundai i10', 'Hyundai i20',\n",
       "        'Isuzu D-Max', 'Jaguar XF', 'Jaguar XJ', 'Jeep Compass',\n",
       "        'Kia Seltos', 'Land Rover', 'MG Hector', 'Mahindra Alturas',\n",
       "        'Mahindra Bolero', 'Mahindra Ingenio', 'Mahindra Jeep',\n",
       "        'Mahindra KUV', 'Mahindra Marazzo', 'Mahindra NuvoSport',\n",
       "        'Mahindra Quanto', 'Mahindra Renault', 'Mahindra Scorpio',\n",
       "        'Mahindra Supro', 'Mahindra TUV', 'Mahindra Thar',\n",
       "        'Mahindra Verito', 'Mahindra XUV300', 'Mahindra XUV500',\n",
       "        'Mahindra Xylo', 'Maruti 800', 'Maruti A-Star', 'Maruti Alto',\n",
       "        'Maruti Baleno', 'Maruti Celerio', 'Maruti Ciaz', 'Maruti Eeco',\n",
       "        'Maruti Ertiga', 'Maruti Esteem', 'Maruti Estilo', 'Maruti Grand',\n",
       "        'Maruti Gypsy', 'Maruti Ignis', 'Maruti Omni', 'Maruti Ritz',\n",
       "        'Maruti S-Cross', 'Maruti S-Presso', 'Maruti SX4', 'Maruti Swift',\n",
       "        'Maruti Vitara', 'Maruti Wagon', 'Maruti Zen', 'Mercedes-Benz B',\n",
       "        'Mercedes-Benz C-Class', 'Mercedes-Benz E-Class',\n",
       "        'Mercedes-Benz GL-Class', 'Mercedes-Benz GLS',\n",
       "        'Mercedes-Benz M-Class', 'Mercedes-Benz New', 'Mitsubishi Montero',\n",
       "        'Mitsubishi Outlander', 'Mitsubishi Pajero', 'Nissan Evalia',\n",
       "        'Nissan Kicks', 'Nissan Micra', 'Nissan Sunny', 'Nissan Terrano',\n",
       "        'Nissan X-Trail', 'OpelCorsa 1.4', 'OpelCorsa 1.6Gls',\n",
       "        'Renault Captur', 'Renault Duster', 'Renault Fluence',\n",
       "        'Renault KWID', 'Renault Koleos', 'Renault Lodgy', 'Renault Pulse',\n",
       "        'Renault Scala', 'Renault Triber', 'Skoda Fabia', 'Skoda Laura',\n",
       "        'Skoda Octavia', 'Skoda Rapid', 'Skoda Superb', 'Skoda Yeti',\n",
       "        'Tata Altroz', 'Tata Aria', 'Tata Bolt', 'Tata Harrier',\n",
       "        'Tata Hexa', 'Tata Indica', 'Tata Indigo', 'Tata Manza',\n",
       "        'Tata Nano', 'Tata New', 'Tata Nexon', 'Tata Safari',\n",
       "        'Tata Spacio', 'Tata Sumo', 'Tata Tiago', 'Tata Tigor',\n",
       "        'Tata Venture', 'Tata Winger', 'Tata Xenon', 'Tata Zest',\n",
       "        'Toyota Camry', 'Toyota Corolla', 'Toyota Etios',\n",
       "        'Toyota Fortuner', 'Toyota Innova', 'Toyota Qualis',\n",
       "        'Toyota Yaris', 'Volkswagen Ameo', 'Volkswagen CrossPolo',\n",
       "        'Volkswagen Jetta', 'Volkswagen Passat', 'Volkswagen Polo',\n",
       "        'Volkswagen Vento', 'Volvo V40', 'Volvo XC', 'Volvo XC60'],\n",
       "       dtype=object),\n",
       " array(['CNG', 'Diesel', 'Electric', 'LPG', 'Petrol'], dtype=object)]"
      ]
     },
     "execution_count": 394,
     "metadata": {},
     "output_type": "execute_result"
    }
   ],
   "source": [
    "ohe.categories_"
   ]
  },
  {
   "cell_type": "code",
   "execution_count": 395,
   "id": "dfe0a230-0bee-4d06-b167-27745b5b4a49",
   "metadata": {},
   "outputs": [],
   "source": [
    "column_trans=make_column_transformer((OneHotEncoder(categories=ohe.categories_),['name','fuel_type']),\n",
    "                                  remainder='passthrough')"
   ]
  },
  {
   "cell_type": "code",
   "execution_count": 396,
   "id": "617eda14-3198-4706-a842-928a746bbb51",
   "metadata": {},
   "outputs": [],
   "source": [
    "lr=LinearRegression()"
   ]
  },
  {
   "cell_type": "code",
   "execution_count": 397,
   "id": "2230f160-2371-44ee-bd17-a60fe033c28e",
   "metadata": {},
   "outputs": [],
   "source": [
    "pipe=make_pipeline(column_trans,lr)"
   ]
  },
  {
   "cell_type": "code",
   "execution_count": 398,
   "id": "80f78811-e99c-4e69-a341-dda08ad080de",
   "metadata": {},
   "outputs": [
    {
     "data": {
      "text/html": [
       "<style>#sk-container-id-13 {color: black;background-color: white;}#sk-container-id-13 pre{padding: 0;}#sk-container-id-13 div.sk-toggleable {background-color: white;}#sk-container-id-13 label.sk-toggleable__label {cursor: pointer;display: block;width: 100%;margin-bottom: 0;padding: 0.3em;box-sizing: border-box;text-align: center;}#sk-container-id-13 label.sk-toggleable__label-arrow:before {content: \"▸\";float: left;margin-right: 0.25em;color: #696969;}#sk-container-id-13 label.sk-toggleable__label-arrow:hover:before {color: black;}#sk-container-id-13 div.sk-estimator:hover label.sk-toggleable__label-arrow:before {color: black;}#sk-container-id-13 div.sk-toggleable__content {max-height: 0;max-width: 0;overflow: hidden;text-align: left;background-color: #f0f8ff;}#sk-container-id-13 div.sk-toggleable__content pre {margin: 0.2em;color: black;border-radius: 0.25em;background-color: #f0f8ff;}#sk-container-id-13 input.sk-toggleable__control:checked~div.sk-toggleable__content {max-height: 200px;max-width: 100%;overflow: auto;}#sk-container-id-13 input.sk-toggleable__control:checked~label.sk-toggleable__label-arrow:before {content: \"▾\";}#sk-container-id-13 div.sk-estimator input.sk-toggleable__control:checked~label.sk-toggleable__label {background-color: #d4ebff;}#sk-container-id-13 div.sk-label input.sk-toggleable__control:checked~label.sk-toggleable__label {background-color: #d4ebff;}#sk-container-id-13 input.sk-hidden--visually {border: 0;clip: rect(1px 1px 1px 1px);clip: rect(1px, 1px, 1px, 1px);height: 1px;margin: -1px;overflow: hidden;padding: 0;position: absolute;width: 1px;}#sk-container-id-13 div.sk-estimator {font-family: monospace;background-color: #f0f8ff;border: 1px dotted black;border-radius: 0.25em;box-sizing: border-box;margin-bottom: 0.5em;}#sk-container-id-13 div.sk-estimator:hover {background-color: #d4ebff;}#sk-container-id-13 div.sk-parallel-item::after {content: \"\";width: 100%;border-bottom: 1px solid gray;flex-grow: 1;}#sk-container-id-13 div.sk-label:hover label.sk-toggleable__label {background-color: #d4ebff;}#sk-container-id-13 div.sk-serial::before {content: \"\";position: absolute;border-left: 1px solid gray;box-sizing: border-box;top: 0;bottom: 0;left: 50%;z-index: 0;}#sk-container-id-13 div.sk-serial {display: flex;flex-direction: column;align-items: center;background-color: white;padding-right: 0.2em;padding-left: 0.2em;position: relative;}#sk-container-id-13 div.sk-item {position: relative;z-index: 1;}#sk-container-id-13 div.sk-parallel {display: flex;align-items: stretch;justify-content: center;background-color: white;position: relative;}#sk-container-id-13 div.sk-item::before, #sk-container-id-13 div.sk-parallel-item::before {content: \"\";position: absolute;border-left: 1px solid gray;box-sizing: border-box;top: 0;bottom: 0;left: 50%;z-index: -1;}#sk-container-id-13 div.sk-parallel-item {display: flex;flex-direction: column;z-index: 1;position: relative;background-color: white;}#sk-container-id-13 div.sk-parallel-item:first-child::after {align-self: flex-end;width: 50%;}#sk-container-id-13 div.sk-parallel-item:last-child::after {align-self: flex-start;width: 50%;}#sk-container-id-13 div.sk-parallel-item:only-child::after {width: 0;}#sk-container-id-13 div.sk-dashed-wrapped {border: 1px dashed gray;margin: 0 0.4em 0.5em 0.4em;box-sizing: border-box;padding-bottom: 0.4em;background-color: white;}#sk-container-id-13 div.sk-label label {font-family: monospace;font-weight: bold;display: inline-block;line-height: 1.2em;}#sk-container-id-13 div.sk-label-container {text-align: center;}#sk-container-id-13 div.sk-container {/* jupyter's `normalize.less` sets `[hidden] { display: none; }` but bootstrap.min.css set `[hidden] { display: none !important; }` so we also need the `!important` here to be able to override the default hidden behavior on the sphinx rendered scikit-learn.org. See: https://github.com/scikit-learn/scikit-learn/issues/21755 */display: inline-block !important;position: relative;}#sk-container-id-13 div.sk-text-repr-fallback {display: none;}</style><div id=\"sk-container-id-13\" class=\"sk-top-container\"><div class=\"sk-text-repr-fallback\"><pre>Pipeline(steps=[(&#x27;columntransformer&#x27;,\n",
       "                 ColumnTransformer(remainder=&#x27;passthrough&#x27;,\n",
       "                                   transformers=[(&#x27;onehotencoder&#x27;,\n",
       "                                                  OneHotEncoder(categories=[array([&#x27;Ambassador CLASSIC&#x27;, &#x27;Ambassador Classic&#x27;, &#x27;Ambassador Grand&#x27;,\n",
       "       &#x27;Audi A4&#x27;, &#x27;Audi A5&#x27;, &#x27;Audi A6&#x27;, &#x27;Audi A8&#x27;, &#x27;Audi Q3&#x27;, &#x27;Audi Q5&#x27;,\n",
       "       &#x27;Audi Q7&#x27;, &#x27;BMW 3&#x27;, &#x27;BMW 5&#x27;, &#x27;BMW 7&#x27;, &#x27;BMW X1&#x27;, &#x27;BMW X5&#x27;,\n",
       "       &#x27;Chevrolet Aveo&#x27;, &#x27;Chevrolet Beat&#x27;, &#x27;Chevrolet Captiva...\n",
       "       &#x27;Toyota Fortuner&#x27;, &#x27;Toyota Innova&#x27;, &#x27;Toyota Qualis&#x27;,\n",
       "       &#x27;Toyota Yaris&#x27;, &#x27;Volkswagen Ameo&#x27;, &#x27;Volkswagen CrossPolo&#x27;,\n",
       "       &#x27;Volkswagen Jetta&#x27;, &#x27;Volkswagen Passat&#x27;, &#x27;Volkswagen Polo&#x27;,\n",
       "       &#x27;Volkswagen Vento&#x27;, &#x27;Volvo V40&#x27;, &#x27;Volvo XC&#x27;, &#x27;Volvo XC60&#x27;],\n",
       "      dtype=object),\n",
       "                                                                            array([&#x27;CNG&#x27;, &#x27;Diesel&#x27;, &#x27;Electric&#x27;, &#x27;LPG&#x27;, &#x27;Petrol&#x27;], dtype=object)]),\n",
       "                                                  [&#x27;name&#x27;, &#x27;fuel_type&#x27;])])),\n",
       "                (&#x27;linearregression&#x27;, LinearRegression())])</pre><b>In a Jupyter environment, please rerun this cell to show the HTML representation or trust the notebook. <br />On GitHub, the HTML representation is unable to render, please try loading this page with nbviewer.org.</b></div><div class=\"sk-container\" hidden><div class=\"sk-item sk-dashed-wrapped\"><div class=\"sk-label-container\"><div class=\"sk-label sk-toggleable\"><input class=\"sk-toggleable__control sk-hidden--visually\" id=\"sk-estimator-id-43\" type=\"checkbox\" ><label for=\"sk-estimator-id-43\" class=\"sk-toggleable__label sk-toggleable__label-arrow\">Pipeline</label><div class=\"sk-toggleable__content\"><pre>Pipeline(steps=[(&#x27;columntransformer&#x27;,\n",
       "                 ColumnTransformer(remainder=&#x27;passthrough&#x27;,\n",
       "                                   transformers=[(&#x27;onehotencoder&#x27;,\n",
       "                                                  OneHotEncoder(categories=[array([&#x27;Ambassador CLASSIC&#x27;, &#x27;Ambassador Classic&#x27;, &#x27;Ambassador Grand&#x27;,\n",
       "       &#x27;Audi A4&#x27;, &#x27;Audi A5&#x27;, &#x27;Audi A6&#x27;, &#x27;Audi A8&#x27;, &#x27;Audi Q3&#x27;, &#x27;Audi Q5&#x27;,\n",
       "       &#x27;Audi Q7&#x27;, &#x27;BMW 3&#x27;, &#x27;BMW 5&#x27;, &#x27;BMW 7&#x27;, &#x27;BMW X1&#x27;, &#x27;BMW X5&#x27;,\n",
       "       &#x27;Chevrolet Aveo&#x27;, &#x27;Chevrolet Beat&#x27;, &#x27;Chevrolet Captiva...\n",
       "       &#x27;Toyota Fortuner&#x27;, &#x27;Toyota Innova&#x27;, &#x27;Toyota Qualis&#x27;,\n",
       "       &#x27;Toyota Yaris&#x27;, &#x27;Volkswagen Ameo&#x27;, &#x27;Volkswagen CrossPolo&#x27;,\n",
       "       &#x27;Volkswagen Jetta&#x27;, &#x27;Volkswagen Passat&#x27;, &#x27;Volkswagen Polo&#x27;,\n",
       "       &#x27;Volkswagen Vento&#x27;, &#x27;Volvo V40&#x27;, &#x27;Volvo XC&#x27;, &#x27;Volvo XC60&#x27;],\n",
       "      dtype=object),\n",
       "                                                                            array([&#x27;CNG&#x27;, &#x27;Diesel&#x27;, &#x27;Electric&#x27;, &#x27;LPG&#x27;, &#x27;Petrol&#x27;], dtype=object)]),\n",
       "                                                  [&#x27;name&#x27;, &#x27;fuel_type&#x27;])])),\n",
       "                (&#x27;linearregression&#x27;, LinearRegression())])</pre></div></div></div><div class=\"sk-serial\"><div class=\"sk-item sk-dashed-wrapped\"><div class=\"sk-label-container\"><div class=\"sk-label sk-toggleable\"><input class=\"sk-toggleable__control sk-hidden--visually\" id=\"sk-estimator-id-44\" type=\"checkbox\" ><label for=\"sk-estimator-id-44\" class=\"sk-toggleable__label sk-toggleable__label-arrow\">columntransformer: ColumnTransformer</label><div class=\"sk-toggleable__content\"><pre>ColumnTransformer(remainder=&#x27;passthrough&#x27;,\n",
       "                  transformers=[(&#x27;onehotencoder&#x27;,\n",
       "                                 OneHotEncoder(categories=[array([&#x27;Ambassador CLASSIC&#x27;, &#x27;Ambassador Classic&#x27;, &#x27;Ambassador Grand&#x27;,\n",
       "       &#x27;Audi A4&#x27;, &#x27;Audi A5&#x27;, &#x27;Audi A6&#x27;, &#x27;Audi A8&#x27;, &#x27;Audi Q3&#x27;, &#x27;Audi Q5&#x27;,\n",
       "       &#x27;Audi Q7&#x27;, &#x27;BMW 3&#x27;, &#x27;BMW 5&#x27;, &#x27;BMW 7&#x27;, &#x27;BMW X1&#x27;, &#x27;BMW X5&#x27;,\n",
       "       &#x27;Chevrolet Aveo&#x27;, &#x27;Chevrolet Beat&#x27;, &#x27;Chevrolet Captiva&#x27;,\n",
       "       &#x27;Chevrolet Cruze&#x27;, &#x27;Chevrolet Enjoy&#x27;, &#x27;...\n",
       "       &#x27;Toyota Camry&#x27;, &#x27;Toyota Corolla&#x27;, &#x27;Toyota Etios&#x27;,\n",
       "       &#x27;Toyota Fortuner&#x27;, &#x27;Toyota Innova&#x27;, &#x27;Toyota Qualis&#x27;,\n",
       "       &#x27;Toyota Yaris&#x27;, &#x27;Volkswagen Ameo&#x27;, &#x27;Volkswagen CrossPolo&#x27;,\n",
       "       &#x27;Volkswagen Jetta&#x27;, &#x27;Volkswagen Passat&#x27;, &#x27;Volkswagen Polo&#x27;,\n",
       "       &#x27;Volkswagen Vento&#x27;, &#x27;Volvo V40&#x27;, &#x27;Volvo XC&#x27;, &#x27;Volvo XC60&#x27;],\n",
       "      dtype=object),\n",
       "                                                           array([&#x27;CNG&#x27;, &#x27;Diesel&#x27;, &#x27;Electric&#x27;, &#x27;LPG&#x27;, &#x27;Petrol&#x27;], dtype=object)]),\n",
       "                                 [&#x27;name&#x27;, &#x27;fuel_type&#x27;])])</pre></div></div></div><div class=\"sk-parallel\"><div class=\"sk-parallel-item\"><div class=\"sk-item\"><div class=\"sk-label-container\"><div class=\"sk-label sk-toggleable\"><input class=\"sk-toggleable__control sk-hidden--visually\" id=\"sk-estimator-id-45\" type=\"checkbox\" ><label for=\"sk-estimator-id-45\" class=\"sk-toggleable__label sk-toggleable__label-arrow\">onehotencoder</label><div class=\"sk-toggleable__content\"><pre>[&#x27;name&#x27;, &#x27;fuel_type&#x27;]</pre></div></div></div><div class=\"sk-serial\"><div class=\"sk-item\"><div class=\"sk-estimator sk-toggleable\"><input class=\"sk-toggleable__control sk-hidden--visually\" id=\"sk-estimator-id-46\" type=\"checkbox\" ><label for=\"sk-estimator-id-46\" class=\"sk-toggleable__label sk-toggleable__label-arrow\">OneHotEncoder</label><div class=\"sk-toggleable__content\"><pre>OneHotEncoder(categories=[array([&#x27;Ambassador CLASSIC&#x27;, &#x27;Ambassador Classic&#x27;, &#x27;Ambassador Grand&#x27;,\n",
       "       &#x27;Audi A4&#x27;, &#x27;Audi A5&#x27;, &#x27;Audi A6&#x27;, &#x27;Audi A8&#x27;, &#x27;Audi Q3&#x27;, &#x27;Audi Q5&#x27;,\n",
       "       &#x27;Audi Q7&#x27;, &#x27;BMW 3&#x27;, &#x27;BMW 5&#x27;, &#x27;BMW 7&#x27;, &#x27;BMW X1&#x27;, &#x27;BMW X5&#x27;,\n",
       "       &#x27;Chevrolet Aveo&#x27;, &#x27;Chevrolet Beat&#x27;, &#x27;Chevrolet Captiva&#x27;,\n",
       "       &#x27;Chevrolet Cruze&#x27;, &#x27;Chevrolet Enjoy&#x27;, &#x27;Chevrolet Optra&#x27;,\n",
       "       &#x27;Chevrolet Sail&#x27;, &#x27;Chevrolet Spark&#x27;, &#x27;Chevrolet Tavera&#x27;,\n",
       "       &#x27;Daewo...\n",
       "       &#x27;Tata Venture&#x27;, &#x27;Tata Winger&#x27;, &#x27;Tata Xenon&#x27;, &#x27;Tata Zest&#x27;,\n",
       "       &#x27;Toyota Camry&#x27;, &#x27;Toyota Corolla&#x27;, &#x27;Toyota Etios&#x27;,\n",
       "       &#x27;Toyota Fortuner&#x27;, &#x27;Toyota Innova&#x27;, &#x27;Toyota Qualis&#x27;,\n",
       "       &#x27;Toyota Yaris&#x27;, &#x27;Volkswagen Ameo&#x27;, &#x27;Volkswagen CrossPolo&#x27;,\n",
       "       &#x27;Volkswagen Jetta&#x27;, &#x27;Volkswagen Passat&#x27;, &#x27;Volkswagen Polo&#x27;,\n",
       "       &#x27;Volkswagen Vento&#x27;, &#x27;Volvo V40&#x27;, &#x27;Volvo XC&#x27;, &#x27;Volvo XC60&#x27;],\n",
       "      dtype=object),\n",
       "                          array([&#x27;CNG&#x27;, &#x27;Diesel&#x27;, &#x27;Electric&#x27;, &#x27;LPG&#x27;, &#x27;Petrol&#x27;], dtype=object)])</pre></div></div></div></div></div></div><div class=\"sk-parallel-item\"><div class=\"sk-item\"><div class=\"sk-label-container\"><div class=\"sk-label sk-toggleable\"><input class=\"sk-toggleable__control sk-hidden--visually\" id=\"sk-estimator-id-47\" type=\"checkbox\" ><label for=\"sk-estimator-id-47\" class=\"sk-toggleable__label sk-toggleable__label-arrow\">remainder</label><div class=\"sk-toggleable__content\"><pre>[&#x27;year&#x27;, &#x27;km_driven&#x27;]</pre></div></div></div><div class=\"sk-serial\"><div class=\"sk-item\"><div class=\"sk-estimator sk-toggleable\"><input class=\"sk-toggleable__control sk-hidden--visually\" id=\"sk-estimator-id-48\" type=\"checkbox\" ><label for=\"sk-estimator-id-48\" class=\"sk-toggleable__label sk-toggleable__label-arrow\">passthrough</label><div class=\"sk-toggleable__content\"><pre>passthrough</pre></div></div></div></div></div></div></div></div><div class=\"sk-item\"><div class=\"sk-estimator sk-toggleable\"><input class=\"sk-toggleable__control sk-hidden--visually\" id=\"sk-estimator-id-49\" type=\"checkbox\" ><label for=\"sk-estimator-id-49\" class=\"sk-toggleable__label sk-toggleable__label-arrow\">LinearRegression</label><div class=\"sk-toggleable__content\"><pre>LinearRegression()</pre></div></div></div></div></div></div></div>"
      ],
      "text/plain": [
       "Pipeline(steps=[('columntransformer',\n",
       "                 ColumnTransformer(remainder='passthrough',\n",
       "                                   transformers=[('onehotencoder',\n",
       "                                                  OneHotEncoder(categories=[array(['Ambassador CLASSIC', 'Ambassador Classic', 'Ambassador Grand',\n",
       "       'Audi A4', 'Audi A5', 'Audi A6', 'Audi A8', 'Audi Q3', 'Audi Q5',\n",
       "       'Audi Q7', 'BMW 3', 'BMW 5', 'BMW 7', 'BMW X1', 'BMW X5',\n",
       "       'Chevrolet Aveo', 'Chevrolet Beat', 'Chevrolet Captiva...\n",
       "       'Toyota Fortuner', 'Toyota Innova', 'Toyota Qualis',\n",
       "       'Toyota Yaris', 'Volkswagen Ameo', 'Volkswagen CrossPolo',\n",
       "       'Volkswagen Jetta', 'Volkswagen Passat', 'Volkswagen Polo',\n",
       "       'Volkswagen Vento', 'Volvo V40', 'Volvo XC', 'Volvo XC60'],\n",
       "      dtype=object),\n",
       "                                                                            array(['CNG', 'Diesel', 'Electric', 'LPG', 'Petrol'], dtype=object)]),\n",
       "                                                  ['name', 'fuel_type'])])),\n",
       "                ('linearregression', LinearRegression())])"
      ]
     },
     "execution_count": 398,
     "metadata": {},
     "output_type": "execute_result"
    }
   ],
   "source": [
    "pipe.fit(X_train,y_train)"
   ]
  },
  {
   "cell_type": "code",
   "execution_count": 399,
   "id": "639f9228-8667-48a2-94be-7d8d733c3bb4",
   "metadata": {},
   "outputs": [],
   "source": [
    "y_pred=pipe.predict(X_test)"
   ]
  },
  {
   "cell_type": "code",
   "execution_count": 400,
   "id": "101c0c3d-3d09-4f1b-bb9f-6ef870aa3163",
   "metadata": {},
   "outputs": [
    {
     "data": {
      "text/plain": [
       "0.26066644949234485"
      ]
     },
     "execution_count": 400,
     "metadata": {},
     "output_type": "execute_result"
    }
   ],
   "source": [
    "r2_score(y_test,y_pred)"
   ]
  },
  {
   "cell_type": "code",
   "execution_count": 401,
   "id": "dfecb967-fb10-42dc-962b-5c1720f71fe9",
   "metadata": {},
   "outputs": [],
   "source": [
    "scores=[]\n",
    "for i in range(10):\n",
    "    X_train,X_test,y_train,y_test=train_test_split(X,y,test_size=0.2,random_state=i)\n",
    "    lr=LinearRegression()\n",
    "    pipe=make_pipeline(column_trans,lr)\n",
    "    pipe.fit(X_train,y_train)\n",
    "    y_pred=pipe.predict(X_test)\n",
    "    scores.append(r2_score(y_test,y_pred))"
   ]
  },
  {
   "cell_type": "code",
   "execution_count": 402,
   "id": "c19a4b04-0741-4e67-8a55-cb869ce67502",
   "metadata": {},
   "outputs": [
    {
     "data": {
      "text/plain": [
       "7"
      ]
     },
     "execution_count": 402,
     "metadata": {},
     "output_type": "execute_result"
    }
   ],
   "source": [
    "import numpy as np\n",
    "np.argmax(scores)"
   ]
  },
  {
   "cell_type": "code",
   "execution_count": 403,
   "id": "e9ad1a47-23e0-4980-a6c8-8c138bd70429",
   "metadata": {},
   "outputs": [
    {
     "data": {
      "text/plain": [
       "0.5114402211454135"
      ]
     },
     "execution_count": 403,
     "metadata": {},
     "output_type": "execute_result"
    }
   ],
   "source": [
    "scores[np.argmax(scores)]"
   ]
  },
  {
   "cell_type": "code",
   "execution_count": 404,
   "id": "62e9424f-66ca-4616-b244-8aaf81d1b407",
   "metadata": {},
   "outputs": [],
   "source": [
    "X_train,X_test,y_train,y_test=train_test_split(X,y,test_size=0.2,random_state=np.argmax(scores))\n",
    "lr=LinearRegression()\n",
    "pipe=make_pipeline(column_trans,lr)\n",
    "pipe.fit(X_train,y_train)\n",
    "y_pred=pipe.predict(X_test)\n",
    "r2=r2_score(y_test,y_pred)"
   ]
  },
  {
   "cell_type": "code",
   "execution_count": 405,
   "id": "edef6d67-e04e-4a1b-9726-4513be3c4850",
   "metadata": {},
   "outputs": [],
   "source": [
    "import pickle"
   ]
  },
  {
   "cell_type": "code",
   "execution_count": 406,
   "id": "de4bb373-6ee6-455c-b7a3-1ab48b4c7b7b",
   "metadata": {},
   "outputs": [],
   "source": [
    "pickle.dump(pipe,open('LinearRegressionModel.pkl','wb'))"
   ]
  },
  {
   "cell_type": "code",
   "execution_count": 407,
   "id": "2a533a7e-6020-4157-92df-9cbf04d4304e",
   "metadata": {},
   "outputs": [
    {
     "name": "stdout",
     "output_type": "stream",
     "text": [
      "The model is decent but may be improved.\n"
     ]
    }
   ],
   "source": [
    "if r2 >= 0.7:\n",
    "    print(\"The model is doing a good job explaining the variation in prices.\")\n",
    "elif 0.5 <= r2 < 0.7:\n",
    "    print(\"The model is decent but may be improved.\")\n",
    "else:\n",
    "    print(\"The model needs improvement as it doesn't explain the variation well.\")"
   ]
  },
  {
   "cell_type": "code",
   "execution_count": 408,
   "id": "223c1a1b-5b03-4825-8319-eb75edd88c69",
   "metadata": {},
   "outputs": [
    {
     "name": "stdin",
     "output_type": "stream",
     "text": [
      "Enter vehicle name:  Maruti 800\n",
      "Enter vehicle purchased year:  2019\n",
      "Enter kms driven:  6000\n",
      "Enter fuel_type:  Diesel\n"
     ]
    },
    {
     "name": "stdout",
     "output_type": "stream",
     "text": [
      "Predicted Price for the given input: $1163916.18\n"
     ]
    }
   ],
   "source": [
    "# Import necessary libraries\n",
    "import pandas as pd\n",
    "\n",
    "# Get user input for feature values\n",
    "name = input(\"Enter vehicle name: \")\n",
    "year = int(input(\"Enter vehicle purchased year: \"))\n",
    "km_driven = float(input(\"Enter kms driven: \"))\n",
    "fuel_type = input(\"Enter fuel_type: \")\n",
    "\n",
    "# Make a prediction based on user input\n",
    "user_input = pd.DataFrame([[name, year, km_driven, fuel_type]],\n",
    "                          columns=['name', 'year', 'km_driven', 'fuel_type'])\n",
    "\n",
    "predicted_price = pipe.predict(user_input)\n",
    "\n",
    "print(f\"Predicted Price for the given input: ${predicted_price[0]:.2f}\")\n"
   ]
  },
  {
   "cell_type": "code",
   "execution_count": null,
   "id": "d8a71916-d136-48ed-b1bb-a32e5f07001f",
   "metadata": {},
   "outputs": [],
   "source": []
  }
 ],
 "metadata": {
  "kernelspec": {
   "display_name": "Python 3 (ipykernel)",
   "language": "python",
   "name": "python3"
  },
  "language_info": {
   "codemirror_mode": {
    "name": "ipython",
    "version": 3
   },
   "file_extension": ".py",
   "mimetype": "text/x-python",
   "name": "python",
   "nbconvert_exporter": "python",
   "pygments_lexer": "ipython3",
   "version": "3.11.7"
  }
 },
 "nbformat": 4,
 "nbformat_minor": 5
}
